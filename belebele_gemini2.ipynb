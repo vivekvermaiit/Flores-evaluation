{
 "cells": [
  {
   "cell_type": "code",
   "execution_count": 6,
   "id": "29028ac1-5ac0-4b09-ba8c-648e99cd8cf8",
   "metadata": {},
   "outputs": [],
   "source": [
    "import os\n",
    "import openai\n",
    "import json\n",
    "import pandas as pd\n",
    "from datasets import load_dataset\n",
    "\n",
    "from google import genai\n",
    "\n",
    "client = genai.Client(api_key=\"\")\n",
    "\n",
    "languages = [\n",
    "    \"acm_Arab\", \"afr_Latn\", \"als_Latn\", \"amh_Ethi\", \"apc_Arab\", \"arb_Arab\", \"arb_Latn\", \"ars_Arab\",\n",
    "    \"ary_Arab\", \"arz_Arab\", \"asm_Beng\", \"azj_Latn\", \"bam_Latn\", \"ben_Beng\", \"ben_Latn\", \"bod_Tibt\",\n",
    "    \"bul_Cyrl\", \"cat_Latn\", \"ceb_Latn\", \"ces_Latn\", \"ckb_Arab\", \"dan_Latn\", \"deu_Latn\", \"ell_Grek\",\n",
    "    \"eng_Latn\", \"est_Latn\", \"eus_Latn\", \"fin_Latn\", \"fra_Latn\", \"fuv_Latn\", \"gaz_Latn\", \"grn_Latn\",\n",
    "    \"guj_Gujr\", \"hat_Latn\", \"hau_Latn\", \"heb_Hebr\", \"hin_Deva\", \"hin_Latn\", \"hrv_Latn\", \"hun_Latn\",\n",
    "    \"hye_Armn\", \"ibo_Latn\", \"ilo_Latn\", \"ind_Latn\", \"isl_Latn\", \"ita_Latn\", \"jav_Latn\", \"jpn_Jpan\",\n",
    "    \"kac_Latn\", \"kan_Knda\", \"kat_Geor\", \"kaz_Cyrl\", \"kea_Latn\", \"khk_Cyrl\", \"khm_Khmr\", \"kin_Latn\",\n",
    "    \"kir_Cyrl\", \"kor_Hang\", \"lao_Laoo\", \"lin_Latn\", \"lit_Latn\", \"lug_Latn\", \"luo_Latn\", \"lvs_Latn\",\n",
    "    \"mal_Mlym\", \"mar_Deva\", \"mkd_Cyrl\", \"mlt_Latn\", \"mri_Latn\", \"mya_Mymr\", \"nld_Latn\", \"nob_Latn\",\n",
    "    \"npi_Deva\", \"npi_Latn\", \"nso_Latn\", \"nya_Latn\", \"ory_Orya\", \"pan_Guru\", \"pbt_Arab\", \"pes_Arab\",\n",
    "    \"plt_Latn\", \"pol_Latn\", \"por_Latn\", \"ron_Latn\", \"rus_Cyrl\", \"shn_Mymr\", \"sin_Latn\", \"sin_Sinh\",\n",
    "    \"slk_Latn\", \"slv_Latn\", \"sna_Latn\", \"snd_Arab\", \"som_Latn\", \"sot_Latn\", \"spa_Latn\", \"srp_Cyrl\",\n",
    "    \"ssw_Latn\", \"sun_Latn\", \"swe_Latn\", \"swh_Latn\", \"tam_Taml\", \"tel_Telu\", \"tgk_Cyrl\", \"tgl_Latn\",\n",
    "    \"tha_Thai\", \"tir_Ethi\", \"tsn_Latn\", \"tso_Latn\", \"tur_Latn\", \"ukr_Cyrl\", \"urd_Arab\", \"urd_Latn\",\n",
    "    \"uzn_Latn\", \"vie_Latn\", \"war_Latn\", \"wol_Latn\", \"xho_Latn\", \"yor_Latn\", \"zho_Hans\", \"zho_Hant\",\n",
    "    \"zsm_Latn\", \"zul_Latn\"\n",
    "]\n",
    "\n",
    "\n"
   ]
  },
  {
   "cell_type": "code",
   "execution_count": 2,
   "id": "58ceb6e9-2b73-41a0-bcca-bc30959abd5c",
   "metadata": {},
   "outputs": [],
   "source": [
    "prompt_belebele= \"P: {}\\nQ: {}\\nA: {}\\nB: {}\\nC: {}\\nD: {}\\nPlease choose the correct answer from the options above:\"\n"
   ]
  },
  {
   "cell_type": "code",
   "execution_count": 3,
   "id": "29d6a9ba-3a95-4910-9707-c45e6a9a5d60",
   "metadata": {},
   "outputs": [],
   "source": [
    "#this logic is taken from afrobench. \n",
    "import re\n",
    "\n",
    "# Hardcoded choices\n",
    "choices = [\"A\", \"B\", \"C\", \"D\"]\n",
    "\n",
    "# Hardcoded verbalizer mapping\n",
    "verbalizer = {\n",
    "    \"A\": ['a:', 'a', 'a.', '1', '1:', 'a)', '(a)', 'option a', 'option a:', 'option_a:'],\n",
    "    \"B\": ['b:', 'b', 'b.', '2', '2:', 'b)', '(b)', 'option b', 'option b:', 'option_b:'],\n",
    "    \"C\": ['c:', 'c', 'c.', '3', '3:', 'c)', '(c)', 'option c', 'option c:', 'option_c:'],\n",
    "    \"D\": ['d:', 'd', 'd.', '4', '4:', 'd)', '(d)', 'option d', 'option d:', 'option_d:'],\n",
    "}\n",
    "\n",
    "map_response = {\n",
    "    \"A\": '1',\n",
    "    \"B\": '2',\n",
    "    \"C\": '3',\n",
    "    \"D\": '4',\n",
    "    \"invalid\": \"invalid\"\n",
    "}\n",
    "\n",
    "import time\n",
    "\n",
    "def get_category(prompt, max_retries=3, backoff_factor=2):\n",
    "    for attempt in range(max_retries):\n",
    "        try:\n",
    "            response = client.models.generate_content(\n",
    "                model=\"gemini-2.0-flash\",\n",
    "                contents=prompt,\n",
    "            )\n",
    "            response =response.text\n",
    "            # print(response)\n",
    "            choice_patterns = {choice: re.compile(rf\"\\b{re.escape(choice)}\\b\", re.IGNORECASE) for choice in choices}\n",
    "        \n",
    "            best_match = None\n",
    "            best_position = len(response) + 1         \n",
    "            # Here check for all 4, and choose the best position. \n",
    "            for choice, pattern in choice_patterns.items():\n",
    "                match = pattern.search(response)\n",
    "                if match and match.start() < best_position:\n",
    "                    best_match = choice\n",
    "                    best_position = match.start()\n",
    "        \n",
    "            # Check against verbalizer if no match found, and take the first hit\n",
    "            if not best_match and verbalizer:\n",
    "                for key, synonyms in verbalizer.items():\n",
    "                    for synonym in synonyms:\n",
    "                        # Use \\b for word boundaries to avoid matching parts of words\n",
    "                        if re.search(rf\"\\b{re.escape(synonym)}\\b\", response.lower(), re.IGNORECASE):\n",
    "                            best_match = key\n",
    "                            break\n",
    "                    if best_match:\n",
    "                        break\n",
    "            # Append result\n",
    "            if best_match:\n",
    "                answer = best_match\n",
    "            else:\n",
    "                answer = \"invalid\"\n",
    "                \n",
    "            return response, map_response[answer]\n",
    "        except Exception as e:\n",
    "            print(f\"Attempt {attempt + 1} failed with error: {e}\")\n",
    "            if attempt < max_retries - 1:\n",
    "                sleep_time = backoff_factor ** attempt\n",
    "                print(f\"Retrying in {sleep_time} seconds...\")\n",
    "                time.sleep(sleep_time)\n",
    "            else:\n",
    "                print(\"Max retries reached. Returning failure label.\")\n",
    "                return \"\",\"invalid\"   \n",
    "                "
   ]
  },
  {
   "cell_type": "code",
   "execution_count": 7,
   "id": "82848aed-66d2-4cc2-81a6-1739e2c797a3",
   "metadata": {},
   "outputs": [],
   "source": [
    "languages_to_run = languages[8:41]"
   ]
  },
  {
   "cell_type": "code",
   "execution_count": 8,
   "id": "bb9fade1-6ae3-45bd-9f4c-f02f821327b8",
   "metadata": {},
   "outputs": [
    {
     "name": "stdout",
     "output_type": "stream",
     "text": [
      "ary_Arab\n"
     ]
    },
    {
     "name": "stderr",
     "output_type": "stream",
     "text": [
      "100%|█████████████████████████████████████████████████████████████████████████████████████████████████████████████████████████████████████████████████████████████████████| 900/900 [17:27<00:00,  1.16s/it]\n"
     ]
    },
    {
     "name": "stdout",
     "output_type": "stream",
     "text": [
      "767\n",
      "arz_Arab\n"
     ]
    },
    {
     "name": "stderr",
     "output_type": "stream",
     "text": [
      "100%|█████████████████████████████████████████████████████████████████████████████████████████████████████████████████████████████████████████████████████████████████████| 900/900 [15:57<00:00,  1.06s/it]\n"
     ]
    },
    {
     "name": "stdout",
     "output_type": "stream",
     "text": [
      "805\n",
      "asm_Beng\n"
     ]
    },
    {
     "name": "stderr",
     "output_type": "stream",
     "text": [
      "100%|█████████████████████████████████████████████████████████████████████████████████████████████████████████████████████████████████████████████████████████████████████| 900/900 [18:49<00:00,  1.25s/it]\n"
     ]
    },
    {
     "name": "stdout",
     "output_type": "stream",
     "text": [
      "765\n",
      "azj_Latn\n"
     ]
    },
    {
     "name": "stderr",
     "output_type": "stream",
     "text": [
      "100%|█████████████████████████████████████████████████████████████████████████████████████████████████████████████████████████████████████████████████████████████████████| 900/900 [16:19<00:00,  1.09s/it]\n"
     ]
    },
    {
     "name": "stdout",
     "output_type": "stream",
     "text": [
      "786\n",
      "bam_Latn\n"
     ]
    },
    {
     "name": "stderr",
     "output_type": "stream",
     "text": [
      "100%|█████████████████████████████████████████████████████████████████████████████████████████████████████████████████████████████████████████████████████████████████████| 900/900 [20:46<00:00,  1.39s/it]\n"
     ]
    },
    {
     "name": "stdout",
     "output_type": "stream",
     "text": [
      "493\n",
      "ben_Beng\n"
     ]
    },
    {
     "name": "stderr",
     "output_type": "stream",
     "text": [
      "100%|█████████████████████████████████████████████████████████████████████████████████████████████████████████████████████████████████████████████████████████████████████| 900/900 [16:13<00:00,  1.08s/it]\n"
     ]
    },
    {
     "name": "stdout",
     "output_type": "stream",
     "text": [
      "797\n",
      "ben_Latn\n"
     ]
    },
    {
     "name": "stderr",
     "output_type": "stream",
     "text": [
      "100%|█████████████████████████████████████████████████████████████████████████████████████████████████████████████████████████████████████████████████████████████████████| 900/900 [19:43<00:00,  1.32s/it]\n"
     ]
    },
    {
     "name": "stdout",
     "output_type": "stream",
     "text": [
      "732\n",
      "bod_Tibt\n"
     ]
    },
    {
     "name": "stderr",
     "output_type": "stream",
     "text": [
      "100%|█████████████████████████████████████████████████████████████████████████████████████████████████████████████████████████████████████████████████████████████████████| 900/900 [24:35<00:00,  1.64s/it]\n"
     ]
    },
    {
     "name": "stdout",
     "output_type": "stream",
     "text": [
      "574\n",
      "bul_Cyrl\n"
     ]
    },
    {
     "name": "stderr",
     "output_type": "stream",
     "text": [
      "100%|█████████████████████████████████████████████████████████████████████████████████████████████████████████████████████████████████████████████████████████████████████| 900/900 [15:34<00:00,  1.04s/it]\n"
     ]
    },
    {
     "name": "stdout",
     "output_type": "stream",
     "text": [
      "822\n",
      "cat_Latn\n"
     ]
    },
    {
     "name": "stderr",
     "output_type": "stream",
     "text": [
      "100%|█████████████████████████████████████████████████████████████████████████████████████████████████████████████████████████████████████████████████████████████████████| 900/900 [14:21<00:00,  1.04it/s]\n"
     ]
    },
    {
     "name": "stdout",
     "output_type": "stream",
     "text": [
      "825\n",
      "ceb_Latn\n"
     ]
    },
    {
     "name": "stderr",
     "output_type": "stream",
     "text": [
      "100%|█████████████████████████████████████████████████████████████████████████████████████████████████████████████████████████████████████████████████████████████████████| 900/900 [16:44<00:00,  1.12s/it]\n"
     ]
    },
    {
     "name": "stdout",
     "output_type": "stream",
     "text": [
      "812\n",
      "ces_Latn\n"
     ]
    },
    {
     "name": "stderr",
     "output_type": "stream",
     "text": [
      "100%|█████████████████████████████████████████████████████████████████████████████████████████████████████████████████████████████████████████████████████████████████████| 900/900 [14:28<00:00,  1.04it/s]\n"
     ]
    },
    {
     "name": "stdout",
     "output_type": "stream",
     "text": [
      "810\n",
      "ckb_Arab\n"
     ]
    },
    {
     "name": "stderr",
     "output_type": "stream",
     "text": [
      "100%|█████████████████████████████████████████████████████████████████████████████████████████████████████████████████████████████████████████████████████████████████████| 900/900 [16:43<00:00,  1.12s/it]\n"
     ]
    },
    {
     "name": "stdout",
     "output_type": "stream",
     "text": [
      "806\n",
      "dan_Latn\n"
     ]
    },
    {
     "name": "stderr",
     "output_type": "stream",
     "text": [
      "100%|█████████████████████████████████████████████████████████████████████████████████████████████████████████████████████████████████████████████████████████████████████| 900/900 [14:13<00:00,  1.05it/s]\n"
     ]
    },
    {
     "name": "stdout",
     "output_type": "stream",
     "text": [
      "831\n",
      "deu_Latn\n"
     ]
    },
    {
     "name": "stderr",
     "output_type": "stream",
     "text": [
      "100%|█████████████████████████████████████████████████████████████████████████████████████████████████████████████████████████████████████████████████████████████████████| 900/900 [13:13<00:00,  1.13it/s]\n"
     ]
    },
    {
     "name": "stdout",
     "output_type": "stream",
     "text": [
      "838\n",
      "ell_Grek\n"
     ]
    },
    {
     "name": "stderr",
     "output_type": "stream",
     "text": [
      "100%|█████████████████████████████████████████████████████████████████████████████████████████████████████████████████████████████████████████████████████████████████████| 900/900 [15:09<00:00,  1.01s/it]\n"
     ]
    },
    {
     "name": "stdout",
     "output_type": "stream",
     "text": [
      "812\n",
      "eng_Latn\n"
     ]
    },
    {
     "name": "stderr",
     "output_type": "stream",
     "text": [
      "100%|█████████████████████████████████████████████████████████████████████████████████████████████████████████████████████████████████████████████████████████████████████| 900/900 [12:13<00:00,  1.23it/s]\n"
     ]
    },
    {
     "name": "stdout",
     "output_type": "stream",
     "text": [
      "669\n",
      "est_Latn\n"
     ]
    },
    {
     "name": "stderr",
     "output_type": "stream",
     "text": [
      "100%|█████████████████████████████████████████████████████████████████████████████████████████████████████████████████████████████████████████████████████████████████████| 900/900 [14:09<00:00,  1.06it/s]\n"
     ]
    },
    {
     "name": "stdout",
     "output_type": "stream",
     "text": [
      "810\n",
      "eus_Latn\n"
     ]
    },
    {
     "name": "stderr",
     "output_type": "stream",
     "text": [
      "100%|█████████████████████████████████████████████████████████████████████████████████████████████████████████████████████████████████████████████████████████████████████| 900/900 [15:05<00:00,  1.01s/it]\n"
     ]
    },
    {
     "name": "stdout",
     "output_type": "stream",
     "text": [
      "813\n",
      "fin_Latn\n"
     ]
    },
    {
     "name": "stderr",
     "output_type": "stream",
     "text": [
      "100%|█████████████████████████████████████████████████████████████████████████████████████████████████████████████████████████████████████████████████████████████████████| 900/900 [14:34<00:00,  1.03it/s]\n"
     ]
    },
    {
     "name": "stdout",
     "output_type": "stream",
     "text": [
      "808\n",
      "fra_Latn\n"
     ]
    },
    {
     "name": "stderr",
     "output_type": "stream",
     "text": [
      "100%|█████████████████████████████████████████████████████████████████████████████████████████████████████████████████████████████████████████████████████████████████████| 900/900 [13:24<00:00,  1.12it/s]\n"
     ]
    },
    {
     "name": "stdout",
     "output_type": "stream",
     "text": [
      "820\n",
      "fuv_Latn\n"
     ]
    },
    {
     "name": "stderr",
     "output_type": "stream",
     "text": [
      "100%|█████████████████████████████████████████████████████████████████████████████████████████████████████████████████████████████████████████████████████████████████████| 900/900 [18:24<00:00,  1.23s/it]\n"
     ]
    },
    {
     "name": "stdout",
     "output_type": "stream",
     "text": [
      "309\n",
      "gaz_Latn\n"
     ]
    },
    {
     "name": "stderr",
     "output_type": "stream",
     "text": [
      "100%|█████████████████████████████████████████████████████████████████████████████████████████████████████████████████████████████████████████████████████████████████████| 900/900 [19:16<00:00,  1.28s/it]\n"
     ]
    },
    {
     "name": "stdout",
     "output_type": "stream",
     "text": [
      "655\n",
      "grn_Latn\n"
     ]
    },
    {
     "name": "stderr",
     "output_type": "stream",
     "text": [
      "100%|█████████████████████████████████████████████████████████████████████████████████████████████████████████████████████████████████████████████████████████████████████| 900/900 [17:16<00:00,  1.15s/it]\n"
     ]
    },
    {
     "name": "stdout",
     "output_type": "stream",
     "text": [
      "705\n",
      "guj_Gujr\n"
     ]
    },
    {
     "name": "stderr",
     "output_type": "stream",
     "text": [
      "100%|█████████████████████████████████████████████████████████████████████████████████████████████████████████████████████████████████████████████████████████████████████| 900/900 [15:04<00:00,  1.00s/it]\n"
     ]
    },
    {
     "name": "stdout",
     "output_type": "stream",
     "text": [
      "788\n",
      "hat_Latn\n"
     ]
    },
    {
     "name": "stderr",
     "output_type": "stream",
     "text": [
      " 42%|█████████████████████████████████████████████████████████████████████▍                                                                                               | 379/900 [06:34<11:38,  1.34s/it]"
     ]
    },
    {
     "name": "stdout",
     "output_type": "stream",
     "text": [
      "Attempt 1 failed with error: 502 Bad Gateway. {'message': '<!DOCTYPE html>\\n<html lang=en>\\n  <meta charset=utf-8>\\n  <meta name=viewport content=\"initial-scale=1, minimum-scale=1, width=device-width\">\\n  <title>Error 502 (Server Error)!!1</title>\\n  <style>\\n    *{margin:0;padding:0}html,code{font:15px/22px arial,sans-serif}html{background:#fff;color:#222;padding:15px}body{margin:7% auto 0;max-width:390px;min-height:180px;padding:30px 0 15px}* > body{background:url(//www.google.com/images/errors/robot.png) 100% 5px no-repeat;padding-right:205px}p{margin:11px 0 22px;overflow:hidden}ins{color:#777;text-decoration:none}a img{border:0}@media screen and (max-width:772px){body{background:none;margin-top:0;max-width:none;padding-right:0}}#logo{background:url(//www.google.com/images/branding/googlelogo/1x/googlelogo_color_150x54dp.png) no-repeat;margin-left:-5px}@media only screen and (min-resolution:192dpi){#logo{background:url(//www.google.com/images/branding/googlelogo/2x/googlelogo_color_150x54dp.png) no-repeat 0% 0%/100% 100%;-moz-border-image:url(//www.google.com/images/branding/googlelogo/2x/googlelogo_color_150x54dp.png) 0}}@media only screen and (-webkit-min-device-pixel-ratio:2){#logo{background:url(//www.google.com/images/branding/googlelogo/2x/googlelogo_color_150x54dp.png) no-repeat;-webkit-background-size:100% 100%}}#logo{display:inline-block;height:54px;width:150px}\\n  </style>\\n  <a href=//www.google.com/><span id=logo aria-label=Google></span></a>\\n  <p><b>502.</b> <ins>That’s an error.</ins>\\n  <p>The server encountered a temporary error and could not complete your request.<p>Please try again in 30 seconds.  <ins>That’s all we know.</ins>\\n', 'status': 'Bad Gateway'}\n",
      "Retrying in 1 seconds...\n"
     ]
    },
    {
     "name": "stderr",
     "output_type": "stream",
     "text": [
      "100%|█████████████████████████████████████████████████████████████████████████████████████████████████████████████████████████████████████████████████████████████████████| 900/900 [18:41<00:00,  1.25s/it]\n"
     ]
    },
    {
     "name": "stdout",
     "output_type": "stream",
     "text": [
      "771\n",
      "hau_Latn\n"
     ]
    },
    {
     "name": "stderr",
     "output_type": "stream",
     "text": [
      "100%|█████████████████████████████████████████████████████████████████████████████████████████████████████████████████████████████████████████████████████████████████████| 900/900 [15:47<00:00,  1.05s/it]\n"
     ]
    },
    {
     "name": "stdout",
     "output_type": "stream",
     "text": [
      "731\n",
      "heb_Hebr\n"
     ]
    },
    {
     "name": "stderr",
     "output_type": "stream",
     "text": [
      "100%|█████████████████████████████████████████████████████████████████████████████████████████████████████████████████████████████████████████████████████████████████████| 900/900 [13:43<00:00,  1.09it/s]\n"
     ]
    },
    {
     "name": "stdout",
     "output_type": "stream",
     "text": [
      "817\n",
      "hin_Deva\n"
     ]
    },
    {
     "name": "stderr",
     "output_type": "stream",
     "text": [
      "100%|█████████████████████████████████████████████████████████████████████████████████████████████████████████████████████████████████████████████████████████████████████| 900/900 [14:37<00:00,  1.03it/s]\n"
     ]
    },
    {
     "name": "stdout",
     "output_type": "stream",
     "text": [
      "781\n",
      "hin_Latn\n"
     ]
    },
    {
     "name": "stderr",
     "output_type": "stream",
     "text": [
      "100%|█████████████████████████████████████████████████████████████████████████████████████████████████████████████████████████████████████████████████████████████████████| 900/900 [15:16<00:00,  1.02s/it]\n"
     ]
    },
    {
     "name": "stdout",
     "output_type": "stream",
     "text": [
      "747\n",
      "hrv_Latn\n"
     ]
    },
    {
     "name": "stderr",
     "output_type": "stream",
     "text": [
      "100%|█████████████████████████████████████████████████████████████████████████████████████████████████████████████████████████████████████████████████████████████████████████████████████████████████████████████████████████████████████████| 900/900 [14:27<00:00,  1.04it/s]\n"
     ]
    },
    {
     "name": "stdout",
     "output_type": "stream",
     "text": [
      "824\n",
      "hun_Latn\n"
     ]
    },
    {
     "name": "stderr",
     "output_type": "stream",
     "text": [
      "100%|█████████████████████████████████████████████████████████████████████████████████████████████████████████████████████████████████████████████████████████████████████████████████████████████████████████████████████████████████████████| 900/900 [15:44<00:00,  1.05s/it]\n"
     ]
    },
    {
     "name": "stdout",
     "output_type": "stream",
     "text": [
      "366\n",
      "hye_Armn\n"
     ]
    },
    {
     "name": "stderr",
     "output_type": "stream",
     "text": [
      "100%|█████████████████████████████████████████████████████████████████████████████████████████████████████████████████████████████████████████████████████████████████████████████████████████████████████████████████████████████████████████| 900/900 [16:29<00:00,  1.10s/it]"
     ]
    },
    {
     "name": "stdout",
     "output_type": "stream",
     "text": [
      "794\n",
      "{'ary_Arab': 767, 'arz_Arab': 805, 'asm_Beng': 765, 'azj_Latn': 786, 'bam_Latn': 493, 'ben_Beng': 797, 'ben_Latn': 732, 'bod_Tibt': 574, 'bul_Cyrl': 822, 'cat_Latn': 825, 'ceb_Latn': 812, 'ces_Latn': 810, 'ckb_Arab': 806, 'dan_Latn': 831, 'deu_Latn': 838, 'ell_Grek': 812, 'eng_Latn': 669, 'est_Latn': 810, 'eus_Latn': 813, 'fin_Latn': 808, 'fra_Latn': 820, 'fuv_Latn': 309, 'gaz_Latn': 655, 'grn_Latn': 705, 'guj_Gujr': 788, 'hat_Latn': 771, 'hau_Latn': 731, 'heb_Hebr': 817, 'hin_Deva': 781, 'hin_Latn': 747, 'hrv_Latn': 824, 'hun_Latn': 366, 'hye_Armn': 794}\n"
     ]
    },
    {
     "name": "stderr",
     "output_type": "stream",
     "text": [
      "\n"
     ]
    }
   ],
   "source": [
    "from tqdm import tqdm\n",
    "result_categories = {}\n",
    "result_accuracies = {}\n",
    "gpt_replies = {}\n",
    "\n",
    "for language_code in languages_to_run:\n",
    "    completed = []\n",
    "    if language_code in completed:\n",
    "        continue\n",
    "    print(language_code)\n",
    "    accurate = 0\n",
    "    \n",
    "    result_categories[language_code]=[]\n",
    "    gpt_replies[language_code] = []\n",
    "    dataset = load_dataset(\"facebook/belebele\", language_code)\n",
    "\n",
    "    size = len(dataset['test'])\n",
    "    for i in tqdm(range(size)): #length of devtest\n",
    "        flores_passage = dataset['test'][i]['flores_passage']\n",
    "        question = dataset['test'][i]['question']\n",
    "        mc_answer1 = dataset['test'][i]['mc_answer1']\n",
    "        mc_answer2 = dataset['test'][i]['mc_answer2']\n",
    "        mc_answer3 = dataset['test'][i]['mc_answer3']\n",
    "        mc_answer4 = dataset['test'][i]['mc_answer4']\n",
    "        \n",
    "        prompt = prompt_belebele.format(flores_passage, question, mc_answer1, mc_answer2, mc_answer3, mc_answer4)\n",
    "        # print(prompt)\n",
    "        reply, category = get_category(prompt)\n",
    "        gpt_replies[language_code].append(reply)\n",
    "            \n",
    "        result_categories[language_code].append(category)\n",
    "        if category == dataset['test'][i]['correct_answer_num']:\n",
    "            accurate+=1\n",
    "    result_accuracies[language_code] = accurate\n",
    "\n",
    "    df = pd.DataFrame({\n",
    "    \"question\": dataset['test']['question'],\n",
    "    \"gemini_answer\": result_categories[language_code]\n",
    "    })\n",
    "\n",
    "    # Save to CSV\n",
    "    df.to_csv(\"belebele_predicted_gemini2/{}.csv\".format(language_code), index=False)\n",
    "\n",
    "    df2 = pd.DataFrame({\n",
    "    \"question\": dataset['test']['question'],\n",
    "    \"gemini_reply\": gpt_replies[language_code]\n",
    "    })\n",
    "\n",
    "    # Save to CSV\n",
    "    df2.to_csv(\"belebele_replies_gemini2/{}.csv\".format(language_code), index=False)\n",
    "    print(accurate)\n",
    "print(result_accuracies)"
   ]
  },
  {
   "cell_type": "code",
   "execution_count": null,
   "id": "ae996449-d8d6-45d8-97a5-5503715c37a5",
   "metadata": {},
   "outputs": [],
   "source": []
  }
 ],
 "metadata": {
  "kernelspec": {
   "display_name": "Python 3 (ipykernel)",
   "language": "python",
   "name": "python3"
  },
  "language_info": {
   "codemirror_mode": {
    "name": "ipython",
    "version": 3
   },
   "file_extension": ".py",
   "mimetype": "text/x-python",
   "name": "python",
   "nbconvert_exporter": "python",
   "pygments_lexer": "ipython3",
   "version": "3.9.20"
  }
 },
 "nbformat": 4,
 "nbformat_minor": 5
}
