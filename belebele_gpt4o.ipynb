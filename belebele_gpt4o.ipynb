{
 "cells": [
  {
   "cell_type": "code",
   "execution_count": 6,
   "id": "29028ac1-5ac0-4b09-ba8c-648e99cd8cf8",
   "metadata": {},
   "outputs": [],
   "source": [
    "import os\n",
    "import openai\n",
    "import json\n",
    "import pandas as pd\n",
    "from datasets import load_dataset\n",
    "\n",
    "os.environ[\"OPENAI_API_KEY\"] = ''\n",
    "from openai import OpenAI\n",
    "client = OpenAI()\n",
    "\n",
    "languages = [\n",
    "    \"acm_Arab\", \"afr_Latn\", \"als_Latn\", \"amh_Ethi\", \"apc_Arab\", \"arb_Arab\", \"arb_Latn\", \"ars_Arab\",\n",
    "    \"ary_Arab\", \"arz_Arab\", \"asm_Beng\", \"azj_Latn\", \"bam_Latn\", \"ben_Beng\", \"ben_Latn\", \"bod_Tibt\",\n",
    "    \"bul_Cyrl\", \"cat_Latn\", \"ceb_Latn\", \"ces_Latn\", \"ckb_Arab\", \"dan_Latn\", \"deu_Latn\", \"ell_Grek\",\n",
    "    \"eng_Latn\", \"est_Latn\", \"eus_Latn\", \"fin_Latn\", \"fra_Latn\", \"fuv_Latn\", \"gaz_Latn\", \"grn_Latn\",\n",
    "    \"guj_Gujr\", \"hat_Latn\", \"hau_Latn\", \"heb_Hebr\", \"hin_Deva\", \"hin_Latn\", \"hrv_Latn\", \"hun_Latn\",\n",
    "    \"hye_Armn\", \"ibo_Latn\", \"ilo_Latn\", \"ind_Latn\", \"isl_Latn\", \"ita_Latn\", \"jav_Latn\", \"jpn_Jpan\",\n",
    "    \"kac_Latn\", \"kan_Knda\", \"kat_Geor\", \"kaz_Cyrl\", \"kea_Latn\", \"khk_Cyrl\", \"khm_Khmr\", \"kin_Latn\",\n",
    "    \"kir_Cyrl\", \"kor_Hang\", \"lao_Laoo\", \"lin_Latn\", \"lit_Latn\", \"lug_Latn\", \"luo_Latn\", \"lvs_Latn\",\n",
    "    \"mal_Mlym\", \"mar_Deva\", \"mkd_Cyrl\", \"mlt_Latn\", \"mri_Latn\", \"mya_Mymr\", \"nld_Latn\", \"nob_Latn\",\n",
    "    \"npi_Deva\", \"npi_Latn\", \"nso_Latn\", \"nya_Latn\", \"ory_Orya\", \"pan_Guru\", \"pbt_Arab\", \"pes_Arab\",\n",
    "    \"plt_Latn\", \"pol_Latn\", \"por_Latn\", \"ron_Latn\", \"rus_Cyrl\", \"shn_Mymr\", \"sin_Latn\", \"sin_Sinh\",\n",
    "    \"slk_Latn\", \"slv_Latn\", \"sna_Latn\", \"snd_Arab\", \"som_Latn\", \"sot_Latn\", \"spa_Latn\", \"srp_Cyrl\",\n",
    "    \"ssw_Latn\", \"sun_Latn\", \"swe_Latn\", \"swh_Latn\", \"tam_Taml\", \"tel_Telu\", \"tgk_Cyrl\", \"tgl_Latn\",\n",
    "    \"tha_Thai\", \"tir_Ethi\", \"tsn_Latn\", \"tso_Latn\", \"tur_Latn\", \"ukr_Cyrl\", \"urd_Arab\", \"urd_Latn\",\n",
    "    \"uzn_Latn\", \"vie_Latn\", \"war_Latn\", \"wol_Latn\", \"xho_Latn\", \"yor_Latn\", \"zho_Hans\", \"zho_Hant\",\n",
    "    \"zsm_Latn\", \"zul_Latn\"\n",
    "]\n",
    "\n",
    "\n"
   ]
  },
  {
   "cell_type": "code",
   "execution_count": 2,
   "id": "58ceb6e9-2b73-41a0-bcca-bc30959abd5c",
   "metadata": {},
   "outputs": [],
   "source": [
    "prompt_belebele= \"P: {}\\nQ: {}\\nA: {}\\nB: {}\\nC: {}\\nD: {}\\nPlease choose the correct answer from the options above:\"\n"
   ]
  },
  {
   "cell_type": "code",
   "execution_count": 3,
   "id": "29d6a9ba-3a95-4910-9707-c45e6a9a5d60",
   "metadata": {},
   "outputs": [],
   "source": [
    "#this logic is taken from afrobench. \n",
    "import re\n",
    "\n",
    "# Hardcoded choices\n",
    "choices = [\"A\", \"B\", \"C\", \"D\"]\n",
    "\n",
    "# Hardcoded verbalizer mapping\n",
    "verbalizer = {\n",
    "    \"A\": ['a:', 'a', 'a.', '1', '1:', 'a)', '(a)', 'option a', 'option a:', 'option_a:'],\n",
    "    \"B\": ['b:', 'b', 'b.', '2', '2:', 'b)', '(b)', 'option b', 'option b:', 'option_b:'],\n",
    "    \"C\": ['c:', 'c', 'c.', '3', '3:', 'c)', '(c)', 'option c', 'option c:', 'option_c:'],\n",
    "    \"D\": ['d:', 'd', 'd.', '4', '4:', 'd)', '(d)', 'option d', 'option d:', 'option_d:'],\n",
    "}\n",
    "\n",
    "map_response = {\n",
    "    \"A\": '1',\n",
    "    \"B\": '2',\n",
    "    \"C\": '3',\n",
    "    \"D\": '4',\n",
    "    \"invalid\": \"invalid\"\n",
    "}\n",
    "\n",
    "def get_category(prompt):\n",
    "    completion = client.chat.completions.create(\n",
    "    model=\"gpt-4o-2024-08-06\",\n",
    "    messages=[\n",
    "        {\n",
    "            \"role\": \"user\",\n",
    "            \"content\": prompt\n",
    "        }\n",
    "    ])\n",
    "    response = completion.choices[0].message.content\n",
    "    # print(response)\n",
    "    choice_patterns = {choice: re.compile(rf\"\\b{re.escape(choice)}\\b\", re.IGNORECASE) for choice in choices}\n",
    "\n",
    "    best_match = None\n",
    "    best_position = len(response) + 1         \n",
    "    # Here check for all 4, and choose the best position. \n",
    "    for choice, pattern in choice_patterns.items():\n",
    "        match = pattern.search(response)\n",
    "        if match and match.start() < best_position:\n",
    "            best_match = choice\n",
    "            best_position = match.start()\n",
    "\n",
    "    # Check against verbalizer if no match found, and take the first hit\n",
    "    if not best_match and verbalizer:\n",
    "        for key, synonyms in verbalizer.items():\n",
    "            for synonym in synonyms:\n",
    "                # Use \\b for word boundaries to avoid matching parts of words\n",
    "                if re.search(rf\"\\b{re.escape(synonym)}\\b\", response.lower(), re.IGNORECASE):\n",
    "                    best_match = key\n",
    "                    break\n",
    "            if best_match:\n",
    "                break\n",
    "    # Append result\n",
    "    if best_match:\n",
    "        answer = best_match\n",
    "    else:\n",
    "        answer = \"invalid\"\n",
    "\n",
    "    return response, map_response[answer]"
   ]
  },
  {
   "cell_type": "code",
   "execution_count": 7,
   "id": "b0e607b1-9420-4cc2-b857-3d29d5ca98fd",
   "metadata": {},
   "outputs": [],
   "source": [
    "languages_to_run = languages[8:17]"
   ]
  },
  {
   "cell_type": "code",
   "execution_count": 8,
   "id": "bb9fade1-6ae3-45bd-9f4c-f02f821327b8",
   "metadata": {},
   "outputs": [
    {
     "name": "stdout",
     "output_type": "stream",
     "text": [
      "ary_Arab\n"
     ]
    },
    {
     "data": {
      "application/vnd.jupyter.widget-view+json": {
       "model_id": "925876da002d4d0a9a5a15765b8bc510",
       "version_major": 2,
       "version_minor": 0
      },
      "text/plain": [
       "ary_Arab.jsonl:   0%|          | 0.00/2.84M [00:00<?, ?B/s]"
      ]
     },
     "metadata": {},
     "output_type": "display_data"
    },
    {
     "data": {
      "application/vnd.jupyter.widget-view+json": {
       "model_id": "53a9115d917d41be8a866be91fedeb36",
       "version_major": 2,
       "version_minor": 0
      },
      "text/plain": [
       "Generating test split:   0%|          | 0/900 [00:00<?, ? examples/s]"
      ]
     },
     "metadata": {},
     "output_type": "display_data"
    },
    {
     "name": "stderr",
     "output_type": "stream",
     "text": [
      "100%|█████████████████████████████████████████████████████████████████████████████████████████████████████████████████████████████████████████████████████████████████████| 900/900 [11:20<00:00,  1.32it/s]\n"
     ]
    },
    {
     "name": "stdout",
     "output_type": "stream",
     "text": [
      "739\n",
      "arz_Arab\n"
     ]
    },
    {
     "data": {
      "application/vnd.jupyter.widget-view+json": {
       "model_id": "0ae6ed77fb9b46bab01d90e6a5ce438f",
       "version_major": 2,
       "version_minor": 0
      },
      "text/plain": [
       "arz_Arab.jsonl:   0%|          | 0.00/2.79M [00:00<?, ?B/s]"
      ]
     },
     "metadata": {},
     "output_type": "display_data"
    },
    {
     "data": {
      "application/vnd.jupyter.widget-view+json": {
       "model_id": "ee40e94974a342958e5026fb3ec573e5",
       "version_major": 2,
       "version_minor": 0
      },
      "text/plain": [
       "Generating test split:   0%|          | 0/900 [00:00<?, ? examples/s]"
      ]
     },
     "metadata": {},
     "output_type": "display_data"
    },
    {
     "name": "stderr",
     "output_type": "stream",
     "text": [
      "100%|█████████████████████████████████████████████████████████████████████████████████████████████████████████████████████████████████████████████████████████████████████| 900/900 [12:22<00:00,  1.21it/s]\n"
     ]
    },
    {
     "name": "stdout",
     "output_type": "stream",
     "text": [
      "787\n",
      "asm_Beng\n"
     ]
    },
    {
     "data": {
      "application/vnd.jupyter.widget-view+json": {
       "model_id": "0dbe4ad7aa504b59a4d2ecc0fc92c60e",
       "version_major": 2,
       "version_minor": 0
      },
      "text/plain": [
       "asm_Beng.jsonl:   0%|          | 0.00/3.17M [00:00<?, ?B/s]"
      ]
     },
     "metadata": {},
     "output_type": "display_data"
    },
    {
     "data": {
      "application/vnd.jupyter.widget-view+json": {
       "model_id": "e810cfb0fdae4d7e835670e14daee12c",
       "version_major": 2,
       "version_minor": 0
      },
      "text/plain": [
       "Generating test split:   0%|          | 0/900 [00:00<?, ? examples/s]"
      ]
     },
     "metadata": {},
     "output_type": "display_data"
    },
    {
     "name": "stderr",
     "output_type": "stream",
     "text": [
      "100%|█████████████████████████████████████████████████████████████████████████████████████████████████████████████████████████████████████████████████████████████████████| 900/900 [15:46<00:00,  1.05s/it]\n"
     ]
    },
    {
     "name": "stdout",
     "output_type": "stream",
     "text": [
      "776\n",
      "azj_Latn\n"
     ]
    },
    {
     "data": {
      "application/vnd.jupyter.widget-view+json": {
       "model_id": "55a219b32baa4f598577a31aee7a13d9",
       "version_major": 2,
       "version_minor": 0
      },
      "text/plain": [
       "azj_Latn.jsonl:   0%|          | 0.00/1.38M [00:00<?, ?B/s]"
      ]
     },
     "metadata": {},
     "output_type": "display_data"
    },
    {
     "data": {
      "application/vnd.jupyter.widget-view+json": {
       "model_id": "57b51cb22b924821a65b292115dd31eb",
       "version_major": 2,
       "version_minor": 0
      },
      "text/plain": [
       "Generating test split:   0%|          | 0/900 [00:00<?, ? examples/s]"
      ]
     },
     "metadata": {},
     "output_type": "display_data"
    },
    {
     "name": "stderr",
     "output_type": "stream",
     "text": [
      "100%|█████████████████████████████████████████████████████████████████████████████████████████████████████████████████████████████████████████████████████████████████████| 900/900 [10:41<00:00,  1.40it/s]\n"
     ]
    },
    {
     "name": "stdout",
     "output_type": "stream",
     "text": [
      "781\n",
      "bam_Latn\n"
     ]
    },
    {
     "data": {
      "application/vnd.jupyter.widget-view+json": {
       "model_id": "a8bb2fd1bacb4b2c823cb739b8adbbd4",
       "version_major": 2,
       "version_minor": 0
      },
      "text/plain": [
       "bam_Latn.jsonl:   0%|          | 0.00/1.07M [00:00<?, ?B/s]"
      ]
     },
     "metadata": {},
     "output_type": "display_data"
    },
    {
     "data": {
      "application/vnd.jupyter.widget-view+json": {
       "model_id": "10dde7a431a74a58b89dc5c73cbee4ce",
       "version_major": 2,
       "version_minor": 0
      },
      "text/plain": [
       "Generating test split:   0%|          | 0/900 [00:00<?, ? examples/s]"
      ]
     },
     "metadata": {},
     "output_type": "display_data"
    },
    {
     "name": "stderr",
     "output_type": "stream",
     "text": [
      "100%|█████████████████████████████████████████████████████████████████████████████████████████████████████████████████████████████████████████████████████████████████████| 900/900 [12:45<00:00,  1.18it/s]\n"
     ]
    },
    {
     "name": "stdout",
     "output_type": "stream",
     "text": [
      "324\n",
      "ben_Beng\n"
     ]
    },
    {
     "data": {
      "application/vnd.jupyter.widget-view+json": {
       "model_id": "6307d4952512465d8db3d73dc62ab3dc",
       "version_major": 2,
       "version_minor": 0
      },
      "text/plain": [
       "ben_Beng.jsonl:   0%|          | 0.00/3.24M [00:00<?, ?B/s]"
      ]
     },
     "metadata": {},
     "output_type": "display_data"
    },
    {
     "data": {
      "application/vnd.jupyter.widget-view+json": {
       "model_id": "03e893a4267e48368a298b9aae5af83b",
       "version_major": 2,
       "version_minor": 0
      },
      "text/plain": [
       "Generating test split:   0%|          | 0/900 [00:00<?, ? examples/s]"
      ]
     },
     "metadata": {},
     "output_type": "display_data"
    },
    {
     "name": "stderr",
     "output_type": "stream",
     "text": [
      "100%|█████████████████████████████████████████████████████████████████████████████████████████████████████████████████████████████████████████████████████████████████████| 900/900 [12:12<00:00,  1.23it/s]\n"
     ]
    },
    {
     "name": "stdout",
     "output_type": "stream",
     "text": [
      "795\n",
      "ben_Latn\n"
     ]
    },
    {
     "data": {
      "application/vnd.jupyter.widget-view+json": {
       "model_id": "0203c1c216c24f8f806e7f7b02f5df42",
       "version_major": 2,
       "version_minor": 0
      },
      "text/plain": [
       "ben_Latn.jsonl:   0%|          | 0.00/885k [00:00<?, ?B/s]"
      ]
     },
     "metadata": {},
     "output_type": "display_data"
    },
    {
     "data": {
      "application/vnd.jupyter.widget-view+json": {
       "model_id": "f50c331b2fa843cd9da0be77a2d0d3b6",
       "version_major": 2,
       "version_minor": 0
      },
      "text/plain": [
       "Generating test split:   0%|          | 0/900 [00:00<?, ? examples/s]"
      ]
     },
     "metadata": {},
     "output_type": "display_data"
    },
    {
     "name": "stderr",
     "output_type": "stream",
     "text": [
      "100%|█████████████████████████████████████████████████████████████████████████████████████████████████████████████████████████████████████████████████████████████████████| 900/900 [13:59<00:00,  1.07it/s]\n"
     ]
    },
    {
     "name": "stdout",
     "output_type": "stream",
     "text": [
      "710\n",
      "bod_Tibt\n"
     ]
    },
    {
     "data": {
      "application/vnd.jupyter.widget-view+json": {
       "model_id": "ee8c8c52138c4089a539b515615cea38",
       "version_major": 2,
       "version_minor": 0
      },
      "text/plain": [
       "bod_Tibt.jsonl:   0%|          | 0.00/4.18M [00:00<?, ?B/s]"
      ]
     },
     "metadata": {},
     "output_type": "display_data"
    },
    {
     "data": {
      "application/vnd.jupyter.widget-view+json": {
       "model_id": "704828b41be744ef8a2e623b29423fac",
       "version_major": 2,
       "version_minor": 0
      },
      "text/plain": [
       "Generating test split:   0%|          | 0/900 [00:00<?, ? examples/s]"
      ]
     },
     "metadata": {},
     "output_type": "display_data"
    },
    {
     "name": "stderr",
     "output_type": "stream",
     "text": [
      "100%|█████████████████████████████████████████████████████████████████████████████████████████████████████████████████████████████████████████████████████████████████████| 900/900 [24:20<00:00,  1.62s/it]\n"
     ]
    },
    {
     "name": "stdout",
     "output_type": "stream",
     "text": [
      "324\n",
      "bul_Cyrl\n"
     ]
    },
    {
     "data": {
      "application/vnd.jupyter.widget-view+json": {
       "model_id": "0375f8926d294dc1a2f8fbcf63b486cf",
       "version_major": 2,
       "version_minor": 0
      },
      "text/plain": [
       "bul_Cyrl.jsonl:   0%|          | 0.00/3.37M [00:00<?, ?B/s]"
      ]
     },
     "metadata": {},
     "output_type": "display_data"
    },
    {
     "data": {
      "application/vnd.jupyter.widget-view+json": {
       "model_id": "6257d488264243e3938a53a15ef193dd",
       "version_major": 2,
       "version_minor": 0
      },
      "text/plain": [
       "Generating test split:   0%|          | 0/900 [00:00<?, ? examples/s]"
      ]
     },
     "metadata": {},
     "output_type": "display_data"
    },
    {
     "name": "stderr",
     "output_type": "stream",
     "text": [
      "100%|█████████████████████████████████████████████████████████████████████████████████████████████████████████████████████████████████████████████████████████████████████| 900/900 [12:05<00:00,  1.24it/s]"
     ]
    },
    {
     "name": "stdout",
     "output_type": "stream",
     "text": [
      "846\n",
      "{'ary_Arab': 739, 'arz_Arab': 787, 'asm_Beng': 776, 'azj_Latn': 781, 'bam_Latn': 324, 'ben_Beng': 795, 'ben_Latn': 710, 'bod_Tibt': 324, 'bul_Cyrl': 846}\n"
     ]
    },
    {
     "name": "stderr",
     "output_type": "stream",
     "text": [
      "\n"
     ]
    }
   ],
   "source": [
    "from tqdm import tqdm\n",
    "result_categories = {}\n",
    "result_accuracies = {}\n",
    "gpt_replies = {}\n",
    "\n",
    "for language_code in languages_to_run:\n",
    "    completed = []\n",
    "    if language_code in completed:\n",
    "        continue\n",
    "    print(language_code)\n",
    "    accurate = 0\n",
    "    \n",
    "    result_categories[language_code]=[]\n",
    "    gpt_replies[language_code] = []\n",
    "    dataset = load_dataset(\"facebook/belebele\", language_code)\n",
    "\n",
    "    size = len(dataset['test'])\n",
    "    for i in tqdm(range(size)): #length of devtest\n",
    "        flores_passage = dataset['test'][i]['flores_passage']\n",
    "        question = dataset['test'][i]['question']\n",
    "        mc_answer1 = dataset['test'][i]['mc_answer1']\n",
    "        mc_answer2 = dataset['test'][i]['mc_answer2']\n",
    "        mc_answer3 = dataset['test'][i]['mc_answer3']\n",
    "        mc_answer4 = dataset['test'][i]['mc_answer4']\n",
    "        \n",
    "        prompt = prompt_belebele.format(flores_passage, question, mc_answer1, mc_answer2, mc_answer3, mc_answer4)\n",
    "        reply, category = get_category(prompt)\n",
    "        gpt_replies[language_code].append(reply)\n",
    "            \n",
    "        result_categories[language_code].append(category)\n",
    "        if category == dataset['test'][i]['correct_answer_num']:\n",
    "            accurate+=1\n",
    "    result_accuracies[language_code] = accurate\n",
    "\n",
    "    df = pd.DataFrame({\n",
    "    \"question\": dataset['test']['question'],\n",
    "    \"gpt_answer\": result_categories[language_code]\n",
    "    })\n",
    "\n",
    "    # Save to CSV\n",
    "    df.to_csv(\"belebele_predicted_gpt4o/{}.csv\".format(language_code), index=False)\n",
    "\n",
    "    df2 = pd.DataFrame({\n",
    "    \"question\": dataset['test']['question'],\n",
    "    \"gpt_reply\": gpt_replies[language_code]\n",
    "    })\n",
    "\n",
    "    # Save to CSV\n",
    "    df2.to_csv(\"belebele_replies_gpt4o/{}.csv\".format(language_code), index=False)\n",
    "    print(accurate)\n",
    "print(result_accuracies)"
   ]
  },
  {
   "cell_type": "code",
   "execution_count": 10,
   "id": "10ebacb3-f00c-4819-bf7b-c012fad187c4",
   "metadata": {},
   "outputs": [
    {
     "data": {
      "text/plain": [
       "{'arz_Arab',\n",
       " 'kac_Latn',\n",
       " 'kan_Knda',\n",
       " 'lin_Latn',\n",
       " 'pes_Arab',\n",
       " 'swh_Latn',\n",
       " 'urd_Arab',\n",
       " 'zho_Hant',\n",
       " 'zsm_Latn',\n",
       " 'zul_Latn'}"
      ]
     },
     "execution_count": 10,
     "metadata": {},
     "output_type": "execute_result"
    }
   ],
   "source": [
    "done=['hat_Latn', 'afr_Latn', 'snd_Arab', 'nob_Latn', 'fra_Latn', 'rus_Cyrl', 'ron_Latn', 'zho_Hans', 'guj_Gujr', 'ars_Arab', 'kor_Hang', 'hau_Latn', 'mri_Latn', 'swe_Latn', 'ory_Orya', 'war_Latn', 'hye_Armn', 'isl_Latn', 'kat_Geor', 'npi_Latn', 'mlt_Latn', 'slv_Latn', 'arb_Arab', 'tha_Thai', 'urd_Latn', 'sot_Latn', 'bod_Tibt', 'ben_Beng', 'tur_Latn', 'nso_Latn', 'kaz_Cyrl', 'gaz_Latn', 'som_Latn', 'sun_Latn', 'heb_Hebr', 'nld_Latn', 'hrv_Latn', 'lug_Latn', 'mar_Deva', 'tgl_Latn', 'xho_Latn', 'wol_Latn', 'azj_Latn', 'tel_Telu', 'ben_Latn', 'srp_Cyrl', 'pbt_Arab', 'ibo_Latn', 'sna_Latn', 'ell_Grek', 'khk_Cyrl', 'hin_Deva', 'por_Latn', 'luo_Latn', 'mal_Mlym', 'est_Latn', 'lit_Latn', 'tam_Taml', 'tso_Latn', 'yor_Latn', 'ces_Latn', 'kin_Latn', 'sin_Latn', 'ckb_Arab', 'pol_Latn', 'shn_Mymr', 'npi_Deva', 'ukr_Cyrl', 'cat_Latn', 'khm_Khmr', 'hin_Latn', 'amh_Ethi', 'tir_Ethi', 'spa_Latn', 'apc_Arab', 'grn_Latn', 'eng_Latn', 'jpn_Jpan', 'ssw_Latn', 'fin_Latn', 'slk_Latn', 'kea_Latn', 'tgk_Cyrl', 'ita_Latn', 'ilo_Latn', 'als_Latn', 'dan_Latn', 'kir_Cyrl', 'ary_Arab', 'bul_Cyrl', 'arb_Latn', 'nya_Latn', 'tsn_Latn', 'eus_Latn', 'deu_Latn', 'vie_Latn', 'hun_Latn', 'asm_Beng', 'mkd_Cyrl', 'jav_Latn', 'plt_Latn', 'acm_Arab', 'uzn_Latn', 'sin_Sinh', 'ceb_Latn', 'lvs_Latn', 'pan_Guru', 'lao_Laoo', 'fuv_Latn', 'mya_Mymr', 'ind_Latn', 'bam_Latn']\n",
    "languages = [\n",
    "    \"acm_Arab\", \"afr_Latn\", \"als_Latn\", \"amh_Ethi\", \"apc_Arab\", \"arb_Arab\", \"arb_Latn\", \"ars_Arab\",\n",
    "    \"ary_Arab\", \"arz_Arab\", \"asm_Beng\", \"azj_Latn\", \"bam_Latn\", \"ben_Beng\", \"ben_Latn\", \"bod_Tibt\",\n",
    "    \"bul_Cyrl\", \"cat_Latn\", \"ceb_Latn\", \"ces_Latn\", \"ckb_Arab\", \"dan_Latn\", \"deu_Latn\", \"ell_Grek\",\n",
    "    \"eng_Latn\", \"est_Latn\", \"eus_Latn\", \"fin_Latn\", \"fra_Latn\", \"fuv_Latn\", \"gaz_Latn\", \"grn_Latn\",\n",
    "    \"guj_Gujr\", \"hat_Latn\", \"hau_Latn\", \"heb_Hebr\", \"hin_Deva\", \"hin_Latn\", \"hrv_Latn\", \"hun_Latn\",\n",
    "    \"hye_Armn\", \"ibo_Latn\", \"ilo_Latn\", \"ind_Latn\", \"isl_Latn\", \"ita_Latn\", \"jav_Latn\", \"jpn_Jpan\",\n",
    "    \"kac_Latn\", \"kan_Knda\", \"kat_Geor\", \"kaz_Cyrl\", \"kea_Latn\", \"khk_Cyrl\", \"khm_Khmr\", \"kin_Latn\",\n",
    "    \"kir_Cyrl\", \"kor_Hang\", \"lao_Laoo\", \"lin_Latn\", \"lit_Latn\", \"lug_Latn\", \"luo_Latn\", \"lvs_Latn\",\n",
    "    \"mal_Mlym\", \"mar_Deva\", \"mkd_Cyrl\", \"mlt_Latn\", \"mri_Latn\", \"mya_Mymr\", \"nld_Latn\", \"nob_Latn\",\n",
    "    \"npi_Deva\", \"npi_Latn\", \"nso_Latn\", \"nya_Latn\", \"ory_Orya\", \"pan_Guru\", \"pbt_Arab\", \"pes_Arab\",\n",
    "    \"plt_Latn\", \"pol_Latn\", \"por_Latn\", \"ron_Latn\", \"rus_Cyrl\", \"shn_Mymr\", \"sin_Latn\", \"sin_Sinh\",\n",
    "    \"slk_Latn\", \"slv_Latn\", \"sna_Latn\", \"snd_Arab\", \"som_Latn\", \"sot_Latn\", \"spa_Latn\", \"srp_Cyrl\",\n",
    "    \"ssw_Latn\", \"sun_Latn\", \"swe_Latn\", \"swh_Latn\", \"tam_Taml\", \"tel_Telu\", \"tgk_Cyrl\", \"tgl_Latn\",\n",
    "    \"tha_Thai\", \"tir_Ethi\", \"tsn_Latn\", \"tso_Latn\", \"tur_Latn\", \"ukr_Cyrl\", \"urd_Arab\", \"urd_Latn\",\n",
    "    \"uzn_Latn\", \"vie_Latn\", \"war_Latn\", \"wol_Latn\", \"xho_Latn\", \"yor_Latn\", \"zho_Hans\", \"zho_Hant\",\n",
    "    \"zsm_Latn\", \"zul_Latn\"\n",
    "]\n",
    "set(languages)-set(done)"
   ]
  },
  {
   "cell_type": "code",
   "execution_count": null,
   "id": "5aa94296-9c5a-4a28-91f1-85ecd7d171bc",
   "metadata": {},
   "outputs": [],
   "source": []
  }
 ],
 "metadata": {
  "kernelspec": {
   "display_name": "gemma3-env",
   "language": "python",
   "name": "gemma3-env"
  },
  "language_info": {
   "codemirror_mode": {
    "name": "ipython",
    "version": 3
   },
   "file_extension": ".py",
   "mimetype": "text/x-python",
   "name": "python",
   "nbconvert_exporter": "python",
   "pygments_lexer": "ipython3",
   "version": "3.12.9"
  }
 },
 "nbformat": 4,
 "nbformat_minor": 5
}
