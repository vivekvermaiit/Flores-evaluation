{
 "cells": [
  {
   "cell_type": "code",
   "execution_count": 21,
   "id": "5ce2e239-d847-43d3-8cc4-9c035f096d6d",
   "metadata": {},
   "outputs": [
    {
     "name": "stdout",
     "output_type": "stream",
     "text": [
      "{'mar_Deva': 790, 'wol_Latn': 371, 'ben_Latn': 710, 'sin_Latn': 443, 'mlt_Latn': 812, 'arb_Latn': 708, 'eus_Latn': 822, 'kan_Knda': 787, 'urd_Latn': 683, 'bam_Latn': 324, 'tgl_Latn': 827, 'luo_Latn': 378, 'nld_Latn': 832, 'ces_Latn': 834, 'hau_Latn': 711, 'hat_Latn': 795, 'swe_Latn': 832, 'fuv_Latn': 277, 'ben_Beng': 795, 'vie_Latn': 834, 'mkd_Cyrl': 822, 'rus_Cyrl': 844, 'kat_Geor': 811, 'hin_Latn': 753, 'slk_Latn': 835, 'mya_Mymr': 729, 'deu_Latn': 844, 'tam_Taml': 756, 'kor_Hang': 815, 'apc_Arab': 800, 'azj_Latn': 781, 'tur_Latn': 809, 'por_Latn': 837, 'kea_Latn': 752, 'mal_Mlym': 780, 'ars_Arab': 787, 'hin_Deva': 769, 'tha_Thai': 801, 'lit_Latn': 823, 'srp_Cyrl': 834, 'lvs_Latn': 838, 'shn_Mymr': 259, 'kac_Latn': 296, 'est_Latn': 833, 'ary_Arab': 739, 'swh_Latn': 820, 'heb_Hebr': 816, 'dan_Latn': 841, 'tel_Telu': 738, 'ilo_Latn': 641, 'ukr_Cyrl': 838, 'tir_Ethi': 386, 'pol_Latn': 827, 'nso_Latn': 676, 'zul_Latn': 685, 'ron_Latn': 835, 'xho_Latn': 718, 'hye_Armn': 805, 'hun_Latn': 836, 'lao_Laoo': 684, 'pbt_Arab': 768, 'som_Latn': 708, 'spa_Latn': 829, 'pes_Arab': 821, 'zho_Hans': 827, 'afr_Latn': 846, 'ckb_Arab': 640, 'lin_Latn': 598, 'sna_Latn': 723, 'ory_Orya': 768, 'zsm_Latn': 835, 'ita_Latn': 834, 'bod_Tibt': 324, 'ibo_Latn': 601, 'jpn_Jpan': 808, 'kaz_Cyrl': 789, 'npi_Deva': 777, 'zho_Hant': 833, 'slv_Latn': 847, 'urd_Arab': 807, 'isl_Latn': 810, 'nob_Latn': 834, 'gaz_Latn': 602, 'mri_Latn': 665, 'sun_Latn': 782, 'arb_Arab': 834, 'asm_Beng': 776, 'hrv_Latn': 834, 'lug_Latn': 561, 'grn_Latn': 651, 'khm_Khmr': 751, 'pan_Guru': 769, 'ssw_Latn': 621, 'nya_Latn': 656, 'yor_Latn': 572, 'sin_Sinh': 775, 'sot_Latn': 713, 'fin_Latn': 840, 'snd_Arab': 770, 'jav_Latn': 797, 'npi_Latn': 708, 'tgk_Cyrl': 794, 'ell_Grek': 832, 'kin_Latn': 711, 'acm_Arab': 740, 'ceb_Latn': 788, 'als_Latn': 824, 'fra_Latn': 847, 'guj_Gujr': 779, 'khk_Cyrl': 776, 'tso_Latn': 680, 'tsn_Latn': 664, 'war_Latn': 804, 'cat_Latn': 845, 'ind_Latn': 828, 'eng_Latn': 856, 'plt_Latn': 786, 'arz_Arab': 787, 'amh_Ethi': 662, 'uzn_Latn': 820, 'bul_Cyrl': 846, 'kir_Cyrl': 786}\n"
     ]
    }
   ],
   "source": [
    "\n",
    "import os\n",
    "import json\n",
    "import pandas as pd\n",
    "from datasets import load_dataset\n",
    "\n",
    "dataset = load_dataset(\"facebook/flores\", \"all\")  # Loads all languages\n",
    "\n",
    "# Define paths\n",
    "results_dir_gpt = \"belebele_predicted_gpt4o\"\n",
    "results_dir_gemini = \"belebele_predicted_gemini2\"\n",
    "results_dir_gemma = \"belebele_predicted_gemma3\"\n",
    "\n",
    "scores_gpt = {}\n",
    "scores_gemini = {}\n",
    "scores_gemma = {}\n",
    "\n",
    "for file in os.listdir(results_dir_gpt):\n",
    "    if file.endswith(\".csv\"):  # Process only .txt files\n",
    "        language_code = file.replace(\".csv\", \"\")\n",
    "        dataset = load_dataset(\"facebook/belebele\", language_code)\n",
    "        correct_ans_list = dataset['test']['correct_answer_num']\n",
    "\n",
    "        file_path = os.path.join(results_dir_gpt, file)\n",
    "        df = pd.read_csv(file_path)\n",
    "        predicted_ans_list = [str(x) for x in list(df['gpt_answer'])]\n",
    "        matches = sum(a == b for a, b in zip(correct_ans_list, predicted_ans_list))\n",
    "        scores_gpt[language_code] = matches\n",
    "print(scores_gpt)"
   ]
  },
  {
   "cell_type": "code",
   "execution_count": 22,
   "id": "753cc010-9111-4c18-8ee1-b17b2908c919",
   "metadata": {},
   "outputs": [
    {
     "name": "stdout",
     "output_type": "stream",
     "text": [
      "{'mar_Deva': 792, 'wol_Latn': 562, 'ben_Latn': 732, 'sin_Latn': 613, 'mlt_Latn': 791, 'arb_Latn': 706, 'eus_Latn': 813, 'kan_Knda': 793, 'urd_Latn': 705, 'bam_Latn': 493, 'tgl_Latn': 824, 'luo_Latn': 522, 'nld_Latn': 805, 'ces_Latn': 810, 'hau_Latn': 731, 'hat_Latn': 771, 'swe_Latn': 806, 'fuv_Latn': 309, 'ben_Beng': 797, 'vie_Latn': 797, 'mkd_Cyrl': 810, 'rus_Cyrl': 815, 'kat_Geor': 797, 'hin_Latn': 747, 'slk_Latn': 817, 'mya_Mymr': 778, 'deu_Latn': 838, 'tam_Taml': 766, 'kor_Hang': 744, 'apc_Arab': 798, 'azj_Latn': 786, 'tur_Latn': 779, 'por_Latn': 306, 'kea_Latn': 703, 'mal_Mlym': 745, 'ars_Arab': 790, 'hin_Deva': 781, 'tha_Thai': 762, 'lit_Latn': 829, 'srp_Cyrl': 817, 'lvs_Latn': 841, 'shn_Mymr': 550, 'kac_Latn': 554, 'est_Latn': 810, 'ary_Arab': 767, 'swh_Latn': 826, 'heb_Hebr': 817, 'dan_Latn': 831, 'tel_Telu': 741, 'ilo_Latn': 555, 'ukr_Cyrl': 824, 'tir_Ethi': 726, 'pol_Latn': 803, 'nso_Latn': 701, 'zul_Latn': 722, 'ron_Latn': 823, 'xho_Latn': 737, 'hye_Armn': 794, 'hun_Latn': 366, 'lao_Laoo': 746, 'pbt_Arab': 763, 'som_Latn': 737, 'spa_Latn': 813, 'pes_Arab': 801, 'zho_Hans': 767, 'afr_Latn': 850, 'ckb_Arab': 806, 'lin_Latn': 693, 'sna_Latn': 730, 'ory_Orya': 781, 'zsm_Latn': 816, 'ita_Latn': 794, 'bod_Tibt': 574, 'ibo_Latn': 670, 'jpn_Jpan': 790, 'kaz_Cyrl': 777, 'npi_Deva': 784, 'zho_Hant': 797, 'slv_Latn': 840, 'urd_Arab': 801, 'isl_Latn': 805, 'nob_Latn': 813, 'gaz_Latn': 655, 'mri_Latn': 704, 'sun_Latn': 785, 'arb_Arab': 825, 'asm_Beng': 765, 'hrv_Latn': 824, 'lug_Latn': 634, 'grn_Latn': 705, 'khm_Khmr': 786, 'pan_Guru': 800, 'ssw_Latn': 698, 'nya_Latn': 698, 'yor_Latn': 646, 'sin_Sinh': 804, 'sot_Latn': 761, 'fin_Latn': 808, 'snd_Arab': 783, 'jav_Latn': 807, 'npi_Latn': 723, 'tgk_Cyrl': 792, 'ell_Grek': 812, 'kin_Latn': 718, 'acm_Arab': 752, 'ceb_Latn': 812, 'als_Latn': 823, 'fra_Latn': 820, 'guj_Gujr': 788, 'khk_Cyrl': 766, 'tso_Latn': 724, 'tsn_Latn': 720, 'war_Latn': 812, 'cat_Latn': 825, 'ind_Latn': 811, 'eng_Latn': 669, 'plt_Latn': 794, 'arz_Arab': 805, 'amh_Ethi': 775, 'uzn_Latn': 814, 'bul_Cyrl': 822, 'kir_Cyrl': 791}\n"
     ]
    }
   ],
   "source": [
    "for file in os.listdir(results_dir_gemini):\n",
    "    if file.endswith(\".csv\"):  # Process only .txt files\n",
    "        language_code = file.replace(\".csv\", \"\")\n",
    "        dataset = load_dataset(\"facebook/belebele\", language_code)\n",
    "        correct_ans_list = dataset['test']['correct_answer_num']\n",
    "\n",
    "        file_path = os.path.join(results_dir_gemini, file)\n",
    "        df = pd.read_csv(file_path)\n",
    "        predicted_ans_list = [str(x) for x in list(df['gemini_answer'])]\n",
    "        matches = sum(a == b for a, b in zip(correct_ans_list, predicted_ans_list))\n",
    "        scores_gemini[language_code] = matches\n",
    "print(scores_gemini)"
   ]
  },
  {
   "cell_type": "code",
   "execution_count": 23,
   "id": "cc237653-686b-472c-8b45-6ebe5a0fc45d",
   "metadata": {},
   "outputs": [
    {
     "name": "stdout",
     "output_type": "stream",
     "text": [
      "{'mar_Deva': 770, 'wol_Latn': 267, 'ben_Latn': 600, 'sin_Latn': 355, 'mlt_Latn': 782, 'arb_Latn': 547, 'eus_Latn': 786, 'kan_Knda': 775, 'urd_Latn': 642, 'bam_Latn': 284, 'tgl_Latn': 814, 'luo_Latn': 291, 'nld_Latn': 809, 'ces_Latn': 817, 'hau_Latn': 661, 'hat_Latn': 762, 'swe_Latn': 818, 'fuv_Latn': 244, 'ben_Beng': 766, 'vie_Latn': 808, 'mkd_Cyrl': 804, 'rus_Cyrl': 834, 'kat_Geor': 781, 'hin_Latn': 722, 'slk_Latn': 812, 'mya_Mymr': 726, 'deu_Latn': 825, 'tam_Taml': 747, 'kor_Hang': 798, 'apc_Arab': 723, 'azj_Latn': 761, 'tur_Latn': 798, 'por_Latn': 783, 'kea_Latn': 629, 'mal_Mlym': 758, 'ars_Arab': 737, 'hin_Deva': 744, 'tha_Thai': 773, 'lit_Latn': 810, 'srp_Cyrl': 818, 'lvs_Latn': 820, 'shn_Mymr': 342, 'kac_Latn': 285, 'est_Latn': 797, 'ary_Arab': 685, 'swh_Latn': 799, 'heb_Hebr': 800, 'dan_Latn': 824, 'tel_Telu': 743, 'ilo_Latn': 647, 'ukr_Cyrl': 826, 'tir_Ethi': 452, 'pol_Latn': 805, 'nso_Latn': 510, 'zul_Latn': 618, 'ron_Latn': 821, 'xho_Latn': 626, 'hye_Armn': 777, 'hun_Latn': 665, 'lao_Laoo': 708, 'pbt_Arab': 704, 'som_Latn': 633, 'spa_Latn': 812, 'pes_Arab': 794, 'zho_Hans': 822, 'afr_Latn': 816, 'ckb_Arab': 743, 'lin_Latn': 364, 'sna_Latn': 648, 'ory_Orya': 737, 'zsm_Latn': 815, 'ita_Latn': 814, 'bod_Tibt': 365, 'ibo_Latn': 523, 'jpn_Jpan': 799, 'kaz_Cyrl': 751, 'npi_Deva': 753, 'zho_Hant': 814, 'slv_Latn': 828, 'urd_Arab': 760, 'isl_Latn': 795, 'nob_Latn': 813, 'gaz_Latn': 463, 'mri_Latn': 519, 'sun_Latn': 748, 'arb_Arab': 817, 'asm_Beng': 742, 'hrv_Latn': 809, 'lug_Latn': 399, 'grn_Latn': 400, 'khm_Khmr': 739, 'pan_Guru': 756, 'ssw_Latn': 515, 'nya_Latn': 584, 'yor_Latn': 428, 'sin_Sinh': 763, 'sot_Latn': 592, 'fin_Latn': 818, 'snd_Arab': 712, 'jav_Latn': 758, 'npi_Latn': 549, 'tgk_Cyrl': 767, 'ell_Grek': 826, 'kin_Latn': 646, 'acm_Arab': 703, 'ceb_Latn': 773, 'als_Latn': 805, 'fra_Latn': 828, 'guj_Gujr': 756, 'khk_Cyrl': 714, 'tso_Latn': 436, 'tsn_Latn': 521, 'war_Latn': 767, 'cat_Latn': 827, 'ind_Latn': 808, 'eng_Latn': 848, 'plt_Latn': 722, 'arz_Arab': 761, 'amh_Ethi': 711, 'uzn_Latn': 794, 'bul_Cyrl': 819, 'kir_Cyrl': 751}\n"
     ]
    }
   ],
   "source": [
    "for file in os.listdir(results_dir_gemma):\n",
    "    if file.endswith(\".csv\"):  # Process only .txt files\n",
    "        language_code = file.replace(\".csv\", \"\")\n",
    "        dataset = load_dataset(\"facebook/belebele\", language_code)\n",
    "        correct_ans_list = dataset['test']['correct_answer_num']\n",
    "\n",
    "        file_path = os.path.join(results_dir_gemma, file)\n",
    "        df = pd.read_csv(file_path)\n",
    "        predicted_ans_list = [str(x) for x in list(df['gemma3_answer'])]\n",
    "        matches = sum(a == b for a, b in zip(correct_ans_list, predicted_ans_list))\n",
    "        scores_gemma[language_code] = matches\n",
    "print(scores_gemma)"
   ]
  },
  {
   "cell_type": "code",
   "execution_count": null,
   "id": "d4f91e7d-f1e6-4e41-b7b2-eba291021842",
   "metadata": {},
   "outputs": [],
   "source": [
    "#name, code, family, accuracy of all three. "
   ]
  },
  {
   "cell_type": "code",
   "execution_count": 24,
   "id": "320d331f-d0ce-4dee-a6f9-d58009f0c3ef",
   "metadata": {},
   "outputs": [],
   "source": [
    "all_languages = [\n",
    "    \"acm_Arab\", \"afr_Latn\", \"als_Latn\", \"amh_Ethi\", \"apc_Arab\", \"arb_Arab\", \"arb_Latn\", \"ars_Arab\",\n",
    "    \"ary_Arab\", \"arz_Arab\", \"asm_Beng\", \"azj_Latn\", \"bam_Latn\", \"ben_Beng\", \"ben_Latn\", \"bod_Tibt\",\n",
    "    \"bul_Cyrl\", \"cat_Latn\", \"ceb_Latn\", \"ces_Latn\", \"ckb_Arab\", \"dan_Latn\", \"deu_Latn\", \"ell_Grek\",\n",
    "    \"eng_Latn\", \"est_Latn\", \"eus_Latn\", \"fin_Latn\", \"fra_Latn\", \"fuv_Latn\", \"gaz_Latn\", \"grn_Latn\",\n",
    "    \"guj_Gujr\", \"hat_Latn\", \"hau_Latn\", \"heb_Hebr\", \"hin_Deva\", \"hin_Latn\", \"hrv_Latn\", \"hun_Latn\",\n",
    "    \"hye_Armn\", \"ibo_Latn\", \"ilo_Latn\", \"ind_Latn\", \"isl_Latn\", \"ita_Latn\", \"jav_Latn\", \"jpn_Jpan\",\n",
    "    \"kac_Latn\", \"kan_Knda\", \"kat_Geor\", \"kaz_Cyrl\", \"kea_Latn\", \"khk_Cyrl\", \"khm_Khmr\", \"kin_Latn\",\n",
    "    \"kir_Cyrl\", \"kor_Hang\", \"lao_Laoo\", \"lin_Latn\", \"lit_Latn\", \"lug_Latn\", \"luo_Latn\", \"lvs_Latn\",\n",
    "    \"mal_Mlym\", \"mar_Deva\", \"mkd_Cyrl\", \"mlt_Latn\", \"mri_Latn\", \"mya_Mymr\", \"nld_Latn\", \"nob_Latn\",\n",
    "    \"npi_Deva\", \"npi_Latn\", \"nso_Latn\", \"nya_Latn\", \"ory_Orya\", \"pan_Guru\", \"pbt_Arab\", \"pes_Arab\",\n",
    "    \"plt_Latn\", \"pol_Latn\", \"por_Latn\", \"ron_Latn\", \"rus_Cyrl\", \"shn_Mymr\", \"sin_Latn\", \"sin_Sinh\",\n",
    "    \"slk_Latn\", \"slv_Latn\", \"sna_Latn\", \"snd_Arab\", \"som_Latn\", \"sot_Latn\", \"spa_Latn\", \"srp_Cyrl\",\n",
    "    \"ssw_Latn\", \"sun_Latn\", \"swe_Latn\", \"swh_Latn\", \"tam_Taml\", \"tel_Telu\", \"tgk_Cyrl\", \"tgl_Latn\",\n",
    "    \"tha_Thai\", \"tir_Ethi\", \"tsn_Latn\", \"tso_Latn\", \"tur_Latn\", \"ukr_Cyrl\", \"urd_Arab\", \"urd_Latn\",\n",
    "    \"uzn_Latn\", \"vie_Latn\", \"war_Latn\", \"wol_Latn\", \"xho_Latn\", \"yor_Latn\", \"zho_Hans\", \"zho_Hant\",\n",
    "    \"zsm_Latn\", \"zul_Latn\"\n",
    "]"
   ]
  },
  {
   "cell_type": "code",
   "execution_count": 30,
   "id": "306fae18-a387-4007-8d04-a4eeaeb565fe",
   "metadata": {},
   "outputs": [],
   "source": [
    "language_mapping = pd.read_csv('language_mapping.csv')\n",
    "language_mapping_index = language_mapping.set_index('FLORES-200 code')['Language'].to_dict()\n",
    "\n",
    "names = {'ben_Latn':'Bengali','hin_Latn':'Hindi','npi_Latn':'Nepali','sin_Latn':'Sinhala','urd_Latn':'Urdu'}\n",
    "\n",
    "families = {'ben_Latn':'Indo-European','hin_Latn':'Indo-European','npi_Latn':'Indo-European','sin_Latn':'Indo-European','urd_Latn':'Indo-European'}\n",
    "\n",
    "language_name_array = []\n",
    "for lang in all_languages:\n",
    "    if lang in language_mapping_index.keys():\n",
    "        language_name_array.append(language_mapping_index[lang])\n",
    "    else:\n",
    "        language_name_array.append(names[lang])\n",
    "        \n",
    "old_results_df = pd.read_csv('old_results.csv')\n",
    "lang_family = old_results_df.set_index('language_code')['language_family'].to_dict()\n",
    "\n",
    "lang_family_array = []\n",
    "for lang in all_languages:\n",
    "    if lang in lang_family.keys():\n",
    "        lang_family_array.append(lang_family[lang])\n",
    "    else:\n",
    "        lang_family_array.append(families[lang])\n",
    "\n",
    "\n",
    "gpt_array = []\n",
    "for lang in all_languages:\n",
    "    gpt_array.append(round(scores_gpt[lang]/9,1))\n",
    "\n",
    "gemini_array = []\n",
    "for lang in all_languages:\n",
    "    gemini_array.append(round(scores_gemini[lang]/9,1))\n",
    "\n",
    "gemma_array = []\n",
    "for lang in all_languages:\n",
    "    gemma_array.append(round(scores_gemma[lang]/9,1))\n",
    "\n",
    "result_df = pd.DataFrame({\n",
    "    \"language_name\": language_name_array,\n",
    "    \"language_code\": all_languages,\n",
    "    \"language_family\": lang_family_array,\n",
    "    \"Accuracy gpt-4o\": gpt_array,\n",
    "    \"Accuracy gemini2-Flash\": gemini_array,\n",
    "    \"Accuracy Gemma3-27B\": gemma_array\n",
    "\n",
    "})\n",
    "\n",
    "result_df.to_csv('overall_results_belebele.csv',index=False)\n"
   ]
  },
  {
   "cell_type": "code",
   "execution_count": 32,
   "id": "b23994a6-a30e-4de6-87f2-865d3b23c7b9",
   "metadata": {},
   "outputs": [],
   "source": [
    "df2 = pd.read_csv('overall_results_belebele.csv')\n",
    "z=df2.groupby('language_family') \\\n",
    "       .agg({'language_name':'size','Accuracy gpt-4o':'mean','Accuracy gemini2-Flash':'mean','Accuracy Gemma3-27B':'mean'} ) \\\n",
    "       .rename(columns={'language_name':'count'}) \\\n",
    "       .sort_values(by=['count'], ascending=False) \\\n",
    "       .reset_index().round(1)\n",
    "z.to_csv('overall_by_family_belebele.csv',index=False)\n"
   ]
  },
  {
   "cell_type": "code",
   "execution_count": null,
   "id": "446d70da-f313-4e8c-a749-3dd417b7ddd8",
   "metadata": {},
   "outputs": [],
   "source": []
  }
 ],
 "metadata": {
  "kernelspec": {
   "display_name": "Python 3 (ipykernel)",
   "language": "python",
   "name": "python3"
  },
  "language_info": {
   "codemirror_mode": {
    "name": "ipython",
    "version": 3
   },
   "file_extension": ".py",
   "mimetype": "text/x-python",
   "name": "python",
   "nbconvert_exporter": "python",
   "pygments_lexer": "ipython3",
   "version": "3.9.20"
  }
 },
 "nbformat": 4,
 "nbformat_minor": 5
}
