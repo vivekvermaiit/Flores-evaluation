{
 "cells": [
  {
   "cell_type": "code",
   "execution_count": 1,
   "id": "471a3335-4595-41b5-a377-fe17d4b926bf",
   "metadata": {},
   "outputs": [],
   "source": [
    "import os\n",
    "import openai\n",
    "import json\n",
    "import pandas as pd\n",
    "from datasets import load_dataset\n",
    "\n",
    "os.environ[\"OPENAI_API_KEY\"] = ''\n",
    "from openai import OpenAI\n",
    "client = OpenAI()\n",
    "\n",
    "# Load the FLORES dataset from Hugging Face\n",
    "dataset = load_dataset(\"facebook/flores\", \"all\")  # Loads all languages\n",
    "\n"
   ]
  },
  {
   "cell_type": "code",
   "execution_count": 2,
   "id": "b5a2af01-8890-401e-800b-e719fdbefa45",
   "metadata": {},
   "outputs": [],
   "source": [
    "language_mapping = pd.read_csv('language_mapping.csv')\n",
    "language_mapping_index = language_mapping.set_index('FLORES-200 code')['Language'].to_dict()\n",
    "all_languages = list(language_mapping_index.keys())\n",
    "all_languages.remove('eng_Latn')"
   ]
  },
  {
   "cell_type": "code",
   "execution_count": 3,
   "id": "d15ed787-2335-4249-8793-ed117ba66ebf",
   "metadata": {},
   "outputs": [],
   "source": [
    "# prompt_eng_xx = (\"You are a translation expert. Translate the following English sentences to {}. \" \n",
    "#      \"English: {} \"\n",
    "#     \"Please respond only in the format Translation:: \")\n",
    "\n",
    "prompt_eng_xx = \"As a English and {} linguist, translate the following English sentences to {}. \\nEnglish sentence: {}\\n{} sentence: . Return only the translated sentence.\"\n"
   ]
  },
  {
   "cell_type": "code",
   "execution_count": 8,
   "id": "e67724dd-7a4b-4f4b-827c-590f32b48922",
   "metadata": {},
   "outputs": [],
   "source": [
    "import re\n",
    "def get_translation(prompt, errors):\n",
    "    completion = client.chat.completions.create(\n",
    "    model=\"gpt-4o\",\n",
    "    messages=[\n",
    "        {\n",
    "            \"role\": \"user\",\n",
    "            \"content\": prompt\n",
    "        }\n",
    "    ])\n",
    "    reply = completion.choices[0].message.content\n",
    "    reply = ' '.join(reply.split()) #convert it to one line\n",
    "    return reply"
   ]
  },
  {
   "cell_type": "code",
   "execution_count": 9,
   "id": "ed795787-949b-4fca-8bc8-8f6d3f996185",
   "metadata": {},
   "outputs": [],
   "source": [
    "languages_to_run = all_languages[0:30]\n",
    "completed = ['pbt_Arab', 'spa_Latn', 'som_Latn', 'pes_Arab', 'zho_Hans', 'zul_Latn', 'nno_Latn', 'xho_Latn', 'hun_Latn', 'urd_Arab', 'slv_Latn', 'zho_Hant', 'nob_Latn', 'isl_Latn', 'arb_Arab', 'mri_Latn', 'yue_Hant', 'hrv_Latn', 'lug_Latn', 'afr_Latn', 'lin_Latn', 'sna_Latn', 'ita_Latn', 'ban_Latn', 'zsm_Latn', 'smo_Latn', 'npi_Deva', 'snd_Arab', 'jav_Latn', 'tgk_Cyrl', 'ell_Grek', 'bak_Cyrl', 'ceb_Latn', 'als_Latn', 'tat_Cyrl', 'nya_Latn', 'ast_Latn', 'sot_Latn', 'uzn_Latn', 'bul_Cyrl', 'kir_Cyrl', 'bos_Latn', 'ltg_Latn', 'ajp_Arab', 'khk_Cyrl', 'ind_Latn', 'ydd_Hebr', 'vec_Latn', 'prs_Arab', 'nld_Latn', 'lmo_Latn', 'kat_Geor', 'aeb_Arab', 'slk_Latn', 'deu_Latn', 'kor_Hang', 'apc_Arab', 'ces_Latn', 'hat_Latn', 'hau_Latn', 'glg_Latn', 'swe_Latn', 'pap_Latn', 'vie_Latn', 'acq_Arab', 'oci_Latn', 'swh_Latn', 'por_Latn', 'ars_Arab', 'hin_Deva', 'srp_Cyrl', 'lit_Latn', 'dan_Latn', 'lij_Latn', 'ltz_Latn', 'ilo_Latn', 'tum_Latn', 'ukr_Cyrl', 'pol_Latn', 'nso_Latn', 'heb_Hebr']"
   ]
  },
  {
   "cell_type": "code",
   "execution_count": 10,
   "id": "cc4d3390-fc44-485b-91a1-1953fdcae0f5",
   "metadata": {},
   "outputs": [
    {
     "name": "stdout",
     "output_type": "stream",
     "text": [
      "ace_Arab\n"
     ]
    },
    {
     "name": "stderr",
     "output_type": "stream",
     "text": [
      "100%|███████████████████████████████████████████████████████████████████████████████████████████████████████████████████████████████████████████████████████████████████| 1012/1012 [38:26<00:00,  2.28s/it]\n"
     ]
    },
    {
     "name": "stdout",
     "output_type": "stream",
     "text": [
      "ace_Latn\n"
     ]
    },
    {
     "name": "stderr",
     "output_type": "stream",
     "text": [
      "100%|███████████████████████████████████████████████████████████████████████████████████████████████████████████████████████████████████████████████████████████████████| 1012/1012 [33:42<00:00,  2.00s/it]\n"
     ]
    },
    {
     "name": "stdout",
     "output_type": "stream",
     "text": [
      "acm_Arab\n"
     ]
    },
    {
     "name": "stderr",
     "output_type": "stream",
     "text": [
      "100%|███████████████████████████████████████████████████████████████████████████████████████████████████████████████████████████████████████████████████████████████████| 1012/1012 [18:51<00:00,  1.12s/it]\n"
     ]
    },
    {
     "name": "stdout",
     "output_type": "stream",
     "text": [
      "aka_Latn\n"
     ]
    },
    {
     "name": "stderr",
     "output_type": "stream",
     "text": [
      "100%|███████████████████████████████████████████████████████████████████████████████████████████████████████████████████████████████████████████████████████████████████| 1012/1012 [35:50<00:00,  2.12s/it]\n"
     ]
    },
    {
     "name": "stdout",
     "output_type": "stream",
     "text": [
      "amh_Ethi\n"
     ]
    },
    {
     "name": "stderr",
     "output_type": "stream",
     "text": [
      "100%|███████████████████████████████████████████████████████████████████████████████████████████████████████████████████████████████████████████████████████████████████| 1012/1012 [48:36<00:00,  2.88s/it]\n"
     ]
    },
    {
     "name": "stdout",
     "output_type": "stream",
     "text": [
      "arb_Latn\n"
     ]
    },
    {
     "name": "stderr",
     "output_type": "stream",
     "text": [
      "100%|███████████████████████████████████████████████████████████████████████████████████████████████████████████████████████████████████████████████████████████████████| 1012/1012 [29:36<00:00,  1.76s/it]\n"
     ]
    },
    {
     "name": "stdout",
     "output_type": "stream",
     "text": [
      "ary_Arab\n"
     ]
    },
    {
     "name": "stderr",
     "output_type": "stream",
     "text": [
      "100%|███████████████████████████████████████████████████████████████████████████████████████████████████████████████████████████████████████████████████████████████████| 1012/1012 [27:32<00:00,  1.63s/it]\n"
     ]
    },
    {
     "name": "stdout",
     "output_type": "stream",
     "text": [
      "arz_Arab\n"
     ]
    },
    {
     "name": "stderr",
     "output_type": "stream",
     "text": [
      "100%|███████████████████████████████████████████████████████████████████████████████████████████████████████████████████████████████████████████████████████████████████| 1012/1012 [20:42<00:00,  1.23s/it]\n"
     ]
    },
    {
     "name": "stdout",
     "output_type": "stream",
     "text": [
      "asm_Beng\n"
     ]
    },
    {
     "name": "stderr",
     "output_type": "stream",
     "text": [
      "100%|███████████████████████████████████████████████████████████████████████████████████████████████████████████████████████████████████████████████████████████████████| 1012/1012 [28:53<00:00,  1.71s/it]\n"
     ]
    },
    {
     "name": "stdout",
     "output_type": "stream",
     "text": [
      "awa_Deva\n"
     ]
    },
    {
     "name": "stderr",
     "output_type": "stream",
     "text": [
      "100%|███████████████████████████████████████████████████████████████████████████████████████████████████████████████████████████████████████████████████████████████████| 1012/1012 [26:45<00:00,  1.59s/it]\n"
     ]
    },
    {
     "name": "stdout",
     "output_type": "stream",
     "text": [
      "ayr_Latn\n"
     ]
    },
    {
     "name": "stderr",
     "output_type": "stream",
     "text": [
      "100%|███████████████████████████████████████████████████████████████████████████████████████████████████████████████████████████████████████████████████████████████████| 1012/1012 [34:11<00:00,  2.03s/it]\n"
     ]
    },
    {
     "name": "stdout",
     "output_type": "stream",
     "text": [
      "azb_Arab\n"
     ]
    },
    {
     "name": "stderr",
     "output_type": "stream",
     "text": [
      "100%|███████████████████████████████████████████████████████████████████████████████████████████████████████████████████████████████████████████████████████████████████| 1012/1012 [26:49<00:00,  1.59s/it]\n"
     ]
    },
    {
     "name": "stdout",
     "output_type": "stream",
     "text": [
      "azj_Latn\n"
     ]
    },
    {
     "name": "stderr",
     "output_type": "stream",
     "text": [
      "100%|███████████████████████████████████████████████████████████████████████████████████████████████████████████████████████████████████████████████████████████████████| 1012/1012 [26:46<00:00,  1.59s/it]\n"
     ]
    },
    {
     "name": "stdout",
     "output_type": "stream",
     "text": [
      "bam_Latn\n"
     ]
    },
    {
     "name": "stderr",
     "output_type": "stream",
     "text": [
      "100%|███████████████████████████████████████████████████████████████████████████████████████████████████████████████████████████████████████████████████████████████████| 1012/1012 [28:14<00:00,  1.67s/it]\n"
     ]
    },
    {
     "name": "stdout",
     "output_type": "stream",
     "text": [
      "bel_Cyrl\n"
     ]
    },
    {
     "name": "stderr",
     "output_type": "stream",
     "text": [
      "100%|███████████████████████████████████████████████████████████████████████████████████████████████████████████████████████████████████████████████████████████████████| 1012/1012 [27:35<00:00,  1.64s/it]\n"
     ]
    },
    {
     "name": "stdout",
     "output_type": "stream",
     "text": [
      "bem_Latn\n"
     ]
    },
    {
     "name": "stderr",
     "output_type": "stream",
     "text": [
      "100%|███████████████████████████████████████████████████████████████████████████████████████████████████████████████████████████████████████████████████████████████████| 1012/1012 [28:15<00:00,  1.68s/it]\n"
     ]
    },
    {
     "name": "stdout",
     "output_type": "stream",
     "text": [
      "ben_Beng\n"
     ]
    },
    {
     "name": "stderr",
     "output_type": "stream",
     "text": [
      "100%|███████████████████████████████████████████████████████████████████████████████████████████████████████████████████████████████████████████████████████████████████| 1012/1012 [22:54<00:00,  1.36s/it]\n"
     ]
    },
    {
     "name": "stdout",
     "output_type": "stream",
     "text": [
      "bho_Deva\n"
     ]
    },
    {
     "name": "stderr",
     "output_type": "stream",
     "text": [
      "100%|███████████████████████████████████████████████████████████████████████████████████████████████████████████████████████████████████████████████████████████████████| 1012/1012 [28:07<00:00,  1.67s/it]\n"
     ]
    },
    {
     "name": "stdout",
     "output_type": "stream",
     "text": [
      "bjn_Arab\n"
     ]
    },
    {
     "name": "stderr",
     "output_type": "stream",
     "text": [
      "100%|███████████████████████████████████████████████████████████████████████████████████████████████████████████████████████████████████████████████████████████████████| 1012/1012 [53:37<00:00,  3.18s/it]\n"
     ]
    },
    {
     "name": "stdout",
     "output_type": "stream",
     "text": [
      "bjn_Latn\n"
     ]
    },
    {
     "name": "stderr",
     "output_type": "stream",
     "text": [
      "100%|███████████████████████████████████████████████████████████████████████████████████████████████████████████████████████████████████████████████████████████████████| 1012/1012 [19:15<00:00,  1.14s/it]\n"
     ]
    }
   ],
   "source": [
    "from tqdm import tqdm\n",
    "translations = {}\n",
    "\n",
    "for language_name in languages_to_run:\n",
    "    if language_name in completed:\n",
    "        continue\n",
    "    print(language_name)\n",
    "    errors = 0\n",
    "    translations[language_name]=[]\n",
    "    \n",
    "    for i in tqdm(range(1012)): #length of devtest\n",
    "        sentence_xx = dataset['devtest'][i][\"sentence_{}\".format(language_name)]\n",
    "\n",
    "        english_sentence = dataset['devtest'][i][\"sentence_eng_Latn\"]\n",
    "        prompt = prompt_eng_xx.format(language_mapping_index[language_name],language_mapping_index[language_name],english_sentence,language_mapping_index[language_name])\n",
    "        translated_sentence = get_translation(prompt, errors)\n",
    "        translations[language_name].append(translated_sentence)\n",
    "        \n",
    "    with open(\"translations_eng_xx2/{}.txt\".format(language_name), \"w\", encoding=\"utf-8\") as f:\n",
    "        f.writelines(line + \"\\n\" for line in translations[language_name])"
   ]
  },
  {
   "cell_type": "code",
   "execution_count": null,
   "id": "d13f148d-f805-41da-906f-99329ea58626",
   "metadata": {},
   "outputs": [],
   "source": []
  }
 ],
 "metadata": {
  "kernelspec": {
   "display_name": "gemma3-env",
   "language": "python",
   "name": "gemma3-env"
  },
  "language_info": {
   "codemirror_mode": {
    "name": "ipython",
    "version": 3
   },
   "file_extension": ".py",
   "mimetype": "text/x-python",
   "name": "python",
   "nbconvert_exporter": "python",
   "pygments_lexer": "ipython3",
   "version": "3.12.9"
  }
 },
 "nbformat": 4,
 "nbformat_minor": 5
}
