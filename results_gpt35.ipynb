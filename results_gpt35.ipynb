{
 "cells": [
  {
   "cell_type": "code",
   "execution_count": 3,
   "id": "9cd7909a-67c7-480b-abdc-a76bfd3e8076",
   "metadata": {},
   "outputs": [
    {
     "name": "stdout",
     "output_type": "stream",
     "text": [
      "{'bjn_Latn': 47.1, 'lus_Latn': 31.1, 'pbt_Arab': 33.2, 'spa_Latn': 55.5, 'som_Latn': 37.4, 'pes_Arab': 56.7, 'gle_Latn': 55.4, 'szl_Latn': 58.4, 'zho_Hans': 53.5, 'kam_Latn': 26.8, 'dyu_Latn': 22.1, 'zul_Latn': 40.7, 'ron_Latn': 64.7, 'nno_Latn': 66.8, 'san_Deva': 37.3, 'xho_Latn': 40.0, 'hye_Armn': 40.5, 'hun_Latn': 59.3, 'lao_Laoo': 25.8, 'urd_Arab': 51.4, 'slv_Latn': 59.4, 'pag_Latn': 42.8, 'zho_Hant': 52.5, 'tzm_Tfng': 17.8, 'nob_Latn': 66.0, 'gaz_Latn': 22.0, 'isl_Latn': 55.6, 'arb_Arab': 60.5, 'mri_Latn': 41.7, 'sun_Latn': 49.7, 'asm_Beng': 38.8, 'yue_Hant': 54.3, 'hrv_Latn': 61.5, 'lug_Latn': 29.6, 'bem_Latn': 28.8, 'grn_Latn': 30.6, 'khm_Khmr': 30.6, 'taq_Latn': 24.6, 'ckb_Arab': 30.7, 'afr_Latn': 74.7, 'mos_Latn': 22.9, 'min_Arab': 19.9, 'lin_Latn': 30.7, 'sna_Latn': 33.4, 'cym_Latn': 68.7, 'ory_Orya': 42.1, 'ita_Latn': 58.0, 'ban_Latn': 45.5, 'zsm_Latn': 64.5, 'bod_Tibt': 16.9, 'ibo_Latn': 27.8, 'kaz_Cyrl': 42.6, 'jpn_Jpan': 52.5, 'smo_Latn': 36.1, 'npi_Deva': 51.4, 'snd_Arab': 36.9, 'jav_Latn': 51.3, 'tgk_Cyrl': 40.5, 'ell_Grek': 57.6, 'ayr_Latn': 23.2, 'bak_Cyrl': 33.6, 'uig_Arab': 30.4, 'kin_Latn': 36.8, 'acm_Arab': 55.9, 'kas_Deva': 30.9, 'lua_Latn': 28.3, 'kbp_Latn': 21.4, 'ace_Latn': 34.2, 'ceb_Latn': 59.1, 'als_Latn': 60.9, 'fra_Latn': 66.2, 'nus_Latn': 20.0, 'guj_Gujr': 49.5, 'tat_Cyrl': 36.8, 'knc_Latn': 24.5, 'ssw_Latn': 32.1, 'nya_Latn': 36.4, 'yor_Latn': 29.7, 'pan_Guru': 51.2, 'sin_Sinh': 22.0, 'ast_Latn': 63.4, 'srd_Latn': 56.9, 'sot_Latn': 33.3, 'fin_Latn': 58.8, 'amh_Ethi': 21.5, 'kon_Latn': 26.3, 'kmr_Latn': 40.9, 'uzn_Latn': 45.7, 'bul_Cyrl': 63.3, 'kir_Cyrl': 34.6, 'bos_Latn': 64.8, 'aka_Latn': 29.0, 'fur_Latn': 57.5, 'ltg_Latn': 40.0, 'tsn_Latn': 30.9, 'war_Latn': 58.9, 'tso_Latn': 32.0, 'ajp_Arab': 60.6, 'khk_Cyrl': 33.8, 'fon_Latn': 21.5, 'cjk_Latn': 24.4, 'sat_Olck': 16.7, 'cat_Latn': 67.0, 'ind_Latn': 65.4, 'mai_Deva': 45.3, 'plt_Latn': 38.6, 'arz_Arab': 53.5, 'taq_Tfng': 17.6, 'arb_Latn': 39.1, 'run_Latn': 31.0, 'eus_Latn': 50.2, 'lim_Latn': 62.9, 'kan_Knda': 47.0, 'ydd_Hebr': 45.2, 'bel_Cyrl': 45.6, 'bam_Latn': 23.9, 'vec_Latn': 62.8, 'prs_Arab': 57.2, 'tuk_Latn': 40.8, 'tgl_Latn': 63.6, 'fij_Latn': 31.7, 'nld_Latn': 57.2, 'luo_Latn': 24.3, 'mar_Deva': 47.5, 'min_Latn': 45.5, 'umb_Latn': 23.1, 'kas_Arab': 32.7, 'ewe_Latn': 23.3, 'lmo_Latn': 55.9, 'wol_Latn': 26.4, 'kik_Latn': 26.6, 'mlt_Latn': 63.7, 'kmb_Latn': 24.3, 'hne_Deva': 48.4, 'mkd_Cyrl': 62.7, 'kat_Geor': 39.1, 'rus_Cyrl': 58.5, 'aeb_Arab': 52.5, 'bjn_Arab': 20.7, 'tam_Taml': 38.3, 'fao_Latn': 54.8, 'slk_Latn': 62.2, 'deu_Latn': 66.1, 'awa_Deva': 49.6, 'mya_Mymr': 19.6, 'kor_Hang': 53.7, 'apc_Arab': 58.2, 'twi_Latn': 30.0, 'ces_Latn': 63.2, 'hat_Latn': 55.7, 'hau_Latn': 34.6, 'glg_Latn': 63.4, 'swe_Latn': 69.1, 'mni_Beng': 21.6, 'ben_Beng': 50.2, 'fuv_Latn': 23.7, 'pap_Latn': 66.2, 'mag_Deva': 51.3, 'vie_Latn': 57.3, 'acq_Arab': 57.5, 'oci_Latn': 70.0, 'dik_Latn': 24.6, 'lvs_Latn': 58.2, 'shn_Mymr': 23.8, 'est_Latn': 61.5, 'kac_Latn': 22.7, 'kab_Latn': 22.2, 'sag_Latn': 24.1, 'swh_Latn': 63.5, 'ary_Arab': 49.9, 'azj_Latn': 46.2, 'tur_Latn': 60.4, 'bug_Latn': 30.8, 'por_Latn': 69.7, 'azb_Arab': 34.1, 'ars_Arab': 59.3, 'mal_Mlym': 45.0, 'gla_Latn': 47.5, 'kea_Latn': 62.9, 'hin_Deva': 57.5, 'tpi_Latn': 43.6, 'srp_Cyrl': 64.7, 'crh_Latn': 45.9, 'lit_Latn': 56.9, 'tha_Thai': 48.4, 'dan_Latn': 69.5, 'tel_Telu': 45.5, 'scn_Latn': 56.1, 'lij_Latn': 57.0, 'ltz_Latn': 63.3, 'ilo_Latn': 44.6, 'tir_Ethi': 18.4, 'tum_Latn': 27.6, 'ukr_Cyrl': 61.7, 'pol_Latn': 55.0, 'epo_Latn': 64.4, 'ace_Arab': 21.3, 'nso_Latn': 34.2, 'heb_Hebr': 60.4, 'quy_Latn': 25.9, 'bho_Deva': 43.4, 'knc_Arab': 18.1, 'dzo_Tibt': 16.6}\n"
     ]
    }
   ],
   "source": [
    "#get scores \n",
    "\n",
    "import os\n",
    "import subprocess\n",
    "import json\n",
    "\n",
    "# Define paths\n",
    "translations_dir = \"translations_gpt35_xx_eng2\"\n",
    "reference_file = \"reference_xx_eng/eng_Latn.txt\"\n",
    "\n",
    "# Dictionary to store scores\n",
    "scores = {}\n",
    "\n",
    "# Loop over all .txt files in the translations directory\n",
    "for file in os.listdir(translations_dir):\n",
    "    if file.endswith(\".txt\"):  # Process only .txt files\n",
    "        language_name = file.replace(\".txt\", \"\")  # Extract language name\n",
    "        translation_file = os.path.join(translations_dir, file)  # Full path\n",
    "\n",
    "        # Run sacrebleu command\n",
    "        command = f\"sacrebleu -m chrf --chrf-word-order 2 {translation_file} < {reference_file}\"\n",
    "        result = subprocess.run(command, shell=True, capture_output=True, text=True)\n",
    "\n",
    "        # Extract the score from the output\n",
    "        try:\n",
    "            output_json = json.loads(result.stdout)  # Parse JSON output\n",
    "            scores[language_name] = output_json[\"score\"]  # Store score\n",
    "        except json.JSONDecodeError:\n",
    "            print(f\"Error processing {language_name}: Invalid JSON output\")\n",
    "        except KeyError:\n",
    "            print(f\"Error: 'score' field not found in {language_name} output\")\n",
    "\n",
    "# Print results\n",
    "print(scores)\n"
   ]
  },
  {
   "cell_type": "code",
   "execution_count": 4,
   "id": "f18e4148-3c5d-41f4-a3d0-a31130d30376",
   "metadata": {
    "scrolled": true
   },
   "outputs": [
    {
     "name": "stdout",
     "output_type": "stream",
     "text": [
      "{'spa_Latn': 55.9, 'som_Latn': 28.6, 'dyu_Latn': 13.9, 'nno_Latn': 56.5, 'xho_Latn': 23.8, 'hye_Armn': 27.6, 'hun_Latn': 51.6, 'lao_Laoo': 17.4, 'urd_Arab': 36.2, 'slv_Latn': 53.8, 'tzm_Tfng': 5.8, 'nob_Latn': 59.8, 'gaz_Latn': 19.8, 'arb_Arab': 52.0, 'mri_Latn': 35.9, 'hrv_Latn': 55.5, 'grn_Latn': 19.6, 'khm_Khmr': 13.4, 'ckb_Arab': 20.2, 'afr_Latn': 65.3, 'mos_Latn': 15.1, 'min_Arab': 1.3, 'lin_Latn': 26.2, 'sna_Latn': 24.2, 'cym_Latn': 59.0, 'bod_Tibt': 16.3, 'ibo_Latn': 20.7, 'smo_Latn': 28.7, 'npi_Deva': 35.4, 'snd_Arab': 19.7, 'uig_Arab': 16.6, 'kin_Latn': 23.3, 'acm_Arab': 39.2, 'ace_Latn': 25.2, 'ceb_Latn': 48.5, 'nus_Latn': 11.6, 'guj_Gujr': 32.2, 'nya_Latn': 26.1, 'sin_Sinh': 15.9, 'sot_Latn': 26.4, 'amh_Ethi': 8.7, 'kon_Latn': 21.7, 'kmr_Latn': 21.7, 'uzn_Latn': 34.4, 'bul_Cyrl': 59.2, 'kir_Cyrl': 22.8, 'bos_Latn': 57.7, 'aka_Latn': 21.4, 'war_Latn': 46.4, 'tso_Latn': 24.8, 'ajp_Arab': 43.9, 'khk_Cyrl': 22.9, 'cjk_Latn': 16.9, 'cat_Latn': 64.1, 'arb_Latn': 20.3, 'lim_Latn': 37.9, 'vec_Latn': 38.5, 'tuk_Latn': 24.5, 'nld_Latn': 56.1, 'umb_Latn': 16.8, 'wol_Latn': 18.7, 'kik_Latn': 20.3, 'kmb_Latn': 17.8, 'hne_Deva': 29.1, 'aeb_Arab': 38.3, 'slk_Latn': 53.8, 'deu_Latn': 64.0, 'mya_Mymr': 15.6, 'kor_Hang': 32.2, 'apc_Arab': 42.7, 'twi_Latn': 21.7, 'ces_Latn': 55.1, 'hat_Latn': 44.7, 'hau_Latn': 27.9, 'glg_Latn': 59.2, 'mni_Beng': 11.2, 'vie_Latn': 56.0, 'acq_Arab': 45.2, 'oci_Latn': 50.6, 'dik_Latn': 12.4, 'shn_Mymr': 6.9, 'tur_Latn': 55.0, 'bug_Latn': 22.4, 'ars_Arab': 49.1, 'mal_Mlym': 26.6, 'hin_Deva': 45.3, 'crh_Latn': 25.1, 'dan_Latn': 68.6, 'scn_Latn': 33.0, 'lij_Latn': 30.1, 'tum_Latn': 22.4, 'ukr_Cyrl': 52.3, 'ace_Arab': 2.5, 'nso_Latn': 25.9, 'heb_Hebr': 46.5}\n"
     ]
    }
   ],
   "source": [
    "#get scores2 for eng to xx\n",
    "\n",
    "import os\n",
    "import subprocess\n",
    "import json\n",
    "\n",
    "# Define paths\n",
    "translations_dir = \"translations_gpt35_eng_xx2\"\n",
    "reference_dir = \"reference_eng_xx\"\n",
    "\n",
    "# Dictionary to store scores2\n",
    "scores2 = {}\n",
    "\n",
    "# Loop over all .txt files in the translations directory\n",
    "for file in os.listdir(translations_dir):\n",
    "    if file.endswith(\".txt\"):  # Process only .txt files\n",
    "        language_name = file.replace(\".txt\", \"\")  # Extract language name\n",
    "        translation_file = os.path.join(translations_dir, file)  # Full path\n",
    "        reference_file = os.path.join(reference_dir, file)  # Full path\n",
    "\n",
    "        # Run sacrebleu command\n",
    "        command = f\"sacrebleu -m chrf --chrf-word-order 2 {translation_file} < {reference_file}\"\n",
    "        result = subprocess.run(command, shell=True, capture_output=True, text=True)\n",
    "\n",
    "        # Extract the score from the output\n",
    "        try:\n",
    "            output_json = json.loads(result.stdout)  # Parse JSON output\n",
    "            scores2[language_name] = output_json[\"score\"]  # Store score\n",
    "        except json.JSONDecodeError:\n",
    "            print(f\"Error processing {language_name}: Invalid JSON output\")\n",
    "        except KeyError:\n",
    "            print(f\"Error: 'score' field not found in {language_name} output\")\n",
    "\n",
    "# Print results\n",
    "print(scores2)\n"
   ]
  },
  {
   "cell_type": "code",
   "execution_count": 16,
   "id": "3c98bd5c-9c89-4670-b943-4055f1a2fe75",
   "metadata": {},
   "outputs": [],
   "source": [
    "df = pd.read_csv('baseline_result - mt_all.csv')"
   ]
  },
  {
   "cell_type": "code",
   "execution_count": 17,
   "id": "1ae4fa27-7a6f-411e-b14c-5dd70c21266d",
   "metadata": {},
   "outputs": [],
   "source": [
    "scores2=df.set_index('language_code')['gpt_35_chrf'].to_dict()"
   ]
  },
  {
   "cell_type": "code",
   "execution_count": 18,
   "id": "b674f328-47f1-44a7-9149-28e9978d2be4",
   "metadata": {},
   "outputs": [],
   "source": [
    "import pandas as pd\n",
    "language_mapping = pd.read_csv('language_mapping.csv')\n",
    "language_mapping_index = language_mapping.set_index('FLORES-200 code')['Language'].to_dict()\n",
    "# Convert to DataFrame\n",
    "all_languages = list(language_mapping_index.keys())\n",
    "all_languages.remove('eng_Latn')\n",
    "\n",
    "all_languages2 = list(language_mapping_index.values())\n",
    "all_languages2.remove('English')\n",
    "\n",
    "df = pd.DataFrame({\n",
    "    \"Language\": all_languages2,\n",
    "    \"FLORES-200 code\": all_languages,\n",
    "    \"xx - English\": [scores[lang] for lang in all_languages],\n",
    "    \"English - xx\": [scores2[lang] for lang in all_languages]\n",
    "})\n",
    "\n",
    "# Save to CSV\n",
    "df.to_csv(\"flores_gpt35_results.csv\", index=False)\n",
    "\n",
    "\n",
    "\n",
    "\n"
   ]
  },
  {
   "cell_type": "code",
   "execution_count": 19,
   "id": "28991902-ccf3-4c07-9dd1-55dacb548d8c",
   "metadata": {},
   "outputs": [],
   "source": [
    "import pandas as pd\n",
    "language_mapping = pd.read_csv('language_mapping.csv')\n",
    "language_mapping_index = language_mapping.set_index('FLORES-200 code')['Language'].to_dict()\n",
    "flores_languages = list(language_mapping_index.keys())\n",
    "\n",
    "# Convert to DataFrame\n",
    "all_languages = list(language_mapping_index.keys()) #code\n",
    "\n",
    "all_languages2 = list(language_mapping_index.values()) #name\n",
    "\n",
    "import bisect\n",
    "# New elements to insert\n",
    "new_key = \"nqo_Nkoo\"\n",
    "new_value = \"N'ko\"\n",
    "\n",
    "# Find the correct index to insert while maintaining sorted order\n",
    "index = bisect.bisect(all_languages, new_key)\n",
    "\n",
    "# Insert in both lists at the correct position\n",
    "all_languages.insert(index, new_key)\n",
    "all_languages2.insert(index, new_value)"
   ]
  },
  {
   "cell_type": "code",
   "execution_count": 20,
   "id": "ab00e5b1-2b47-4e93-8b5c-bb356f9cdbe5",
   "metadata": {},
   "outputs": [],
   "source": [
    "flores_df = pd.read_csv('flores_gpt35_results.csv')\n",
    "old_results_df = pd.read_csv('old_results.csv')\n",
    "sib_df = pd.read_csv('sib_gpt35_results_april2025_prompt2.csv')\n",
    "\n",
    "lang_family = old_results_df.set_index('language_code')['language_family'].to_dict()\n",
    "lang_family_array = []\n",
    "for lang in all_languages:\n",
    "    if lang in lang_family.keys():\n",
    "        lang_family_array.append(lang_family[lang])\n",
    "    else:\n",
    "        lang_family_array.append('')\n",
    "\n",
    "sib_scores = sib_df.set_index('Language code')['Accuracy'].to_dict()\n",
    "sib_array = []\n",
    "for lang in all_languages:\n",
    "    if lang in sib_scores.keys():\n",
    "        sib_array.append(sib_scores[lang])\n",
    "    else:\n",
    "        sib_array.append('')\n",
    "\n",
    "flores_xx_eng_scores = flores_df.set_index('FLORES-200 code')['xx - English'].to_dict()\n",
    "flores_xx_eng_array = []\n",
    "for lang in all_languages:\n",
    "    if lang in flores_xx_eng_scores.keys():\n",
    "        flores_xx_eng_array.append(flores_xx_eng_scores[lang])\n",
    "    else:\n",
    "        flores_xx_eng_array.append('')\n",
    "\n",
    "flores_eng_xx_scores = flores_df.set_index('FLORES-200 code')['English - xx'].to_dict()\n",
    "flores_eng_xx_array = []\n",
    "for lang in all_languages:\n",
    "    if lang in flores_eng_xx_scores.keys():\n",
    "        flores_eng_xx_array.append(flores_eng_xx_scores[lang])\n",
    "    else:\n",
    "        flores_eng_xx_array.append('')\n",
    "        \n",
    "result_df = pd.DataFrame({\n",
    "    \"language_name\": all_languages2,\n",
    "    \"language_code\": all_languages,\n",
    "    \"language_family\": lang_family_array,\n",
    "    \"SIB GPT-3.5-Turbo\": sib_array,\n",
    "    \"Flores xx-eng GPT-3.5-Turbo\": flores_xx_eng_array,\n",
    "    \"Flores eng-xx GPT-3.5-Turbo\": flores_eng_xx_array\n",
    "\n",
    "})\n",
    "\n",
    "result_df.to_csv('overall_results_gpt35.csv',index=False)\n"
   ]
  },
  {
   "cell_type": "code",
   "execution_count": 21,
   "id": "1e188090-9d43-43b7-b25b-d0a143274b6d",
   "metadata": {},
   "outputs": [],
   "source": [
    "df2 = pd.read_csv('overall_results_gpt35.csv')\n",
    "z=df2.groupby('language_family') \\\n",
    "       .agg({'language_name':'size','SIB GPT-3.5-Turbo':'mean','Flores xx-eng GPT-3.5-Turbo':'mean','Flores eng-xx GPT-3.5-Turbo':'mean'} ) \\\n",
    "       .rename(columns={'language_name':'count'}) \\\n",
    "       .sort_values(by=['count'], ascending=False) \\\n",
    "       .reset_index().round(1)\n",
    "z.to_csv('overall_by_family_gpt35.csv',index=False)\n"
   ]
  },
  {
   "cell_type": "code",
   "execution_count": 5,
   "id": "a97adf2f-3f49-4b63-b691-d3866a7fa425",
   "metadata": {},
   "outputs": [],
   "source": [
    "df1 = pd.read_csv('flores_gpt4o_results_april_2025_prompt2.csv')"
   ]
  },
  {
   "cell_type": "code",
   "execution_count": 8,
   "id": "c6f44017-f3f9-482b-b162-635c6dea1394",
   "metadata": {},
   "outputs": [],
   "source": [
    "flores_languages= list(df1['FLORES-200 code'])"
   ]
  },
  {
   "cell_type": "code",
   "execution_count": 9,
   "id": "8aacfa8c-9936-4c4a-937c-41e6e7e5f999",
   "metadata": {},
   "outputs": [
    {
     "data": {
      "text/plain": [
       "203"
      ]
     },
     "execution_count": 9,
     "metadata": {},
     "output_type": "execute_result"
    }
   ],
   "source": [
    "len(flores_languages)"
   ]
  },
  {
   "cell_type": "code",
   "execution_count": 6,
   "id": "393a5506-6431-41da-978b-e46123985687",
   "metadata": {},
   "outputs": [
    {
     "data": {
      "text/plain": [
       "205"
      ]
     },
     "execution_count": 6,
     "metadata": {},
     "output_type": "execute_result"
    }
   ],
   "source": [
    "import pandas as pd\n",
    "\n",
    "df2 = pd.read_csv('sib_gpt4o_results_april2025_prompt2.csv')\n",
    "sib_languages = list(df2['Language code'])\n",
    "len(sib_languages)"
   ]
  },
  {
   "cell_type": "code",
   "execution_count": 14,
   "id": "cf262b3c-21c8-44c1-96f3-f5ec4573adc1",
   "metadata": {},
   "outputs": [
    {
     "data": {
      "text/plain": [
       "205"
      ]
     },
     "execution_count": 14,
     "metadata": {},
     "output_type": "execute_result"
    }
   ],
   "source": [
    "df3 = pd.read_csv('old_results.csv')\n",
    "sib_languages_old = list(df3['language_code'])\n",
    "sib_languages_old.remove('ave')\n",
    "sib_languages_old.remove('std')\n",
    "len(sib_languages_old)"
   ]
  },
  {
   "cell_type": "code",
   "execution_count": 15,
   "id": "022847d3-168b-46ec-bda5-ebe15af99f2f",
   "metadata": {},
   "outputs": [
    {
     "data": {
      "text/plain": [
       "False"
      ]
     },
     "execution_count": 15,
     "metadata": {},
     "output_type": "execute_result"
    }
   ],
   "source": [
    "sib_languages_old == sib_languages"
   ]
  },
  {
   "cell_type": "code",
   "execution_count": 18,
   "id": "781fee0c-7090-4993-a8ab-da0e3dc5b31a",
   "metadata": {},
   "outputs": [
    {
     "data": {
      "text/plain": [
       "{'eng_Latn', 'nqo_Nkoo'}"
      ]
     },
     "execution_count": 18,
     "metadata": {},
     "output_type": "execute_result"
    }
   ],
   "source": [
    "set(sib_languages) - set(flores_languages)"
   ]
  },
  {
   "cell_type": "code",
   "execution_count": 19,
   "id": "f2057799-6275-47fb-9659-251f81fa8608",
   "metadata": {},
   "outputs": [
    {
     "data": {
      "text/plain": [
       "set()"
      ]
     },
     "execution_count": 19,
     "metadata": {},
     "output_type": "execute_result"
    }
   ],
   "source": [
    "set(flores_languages) - set(sib_languages)"
   ]
  },
  {
   "cell_type": "code",
   "execution_count": 7,
   "id": "e9ac34f4-a537-4494-9c33-7e08141279a6",
   "metadata": {},
   "outputs": [],
   "source": [
    "sib2=sorted(sib_languages)"
   ]
  },
  {
   "cell_type": "code",
   "execution_count": 8,
   "id": "b6e8e2be-5a69-472b-999e-abf8c7d1c3a1",
   "metadata": {},
   "outputs": [
    {
     "data": {
      "text/plain": [
       "True"
      ]
     },
     "execution_count": 8,
     "metadata": {},
     "output_type": "execute_result"
    }
   ],
   "source": [
    "sib2 == sib_languages"
   ]
  },
  {
   "cell_type": "code",
   "execution_count": 11,
   "id": "f1d57300-933c-4f7e-a4b3-e6acb8b83104",
   "metadata": {},
   "outputs": [
    {
     "data": {
      "text/plain": [
       "True"
      ]
     },
     "execution_count": 11,
     "metadata": {},
     "output_type": "execute_result"
    }
   ],
   "source": [
    "all_languages == sib_languages"
   ]
  },
  {
   "cell_type": "code",
   "execution_count": 13,
   "id": "defe16a1-b4a8-4a44-aac5-12fd80b65ca8",
   "metadata": {},
   "outputs": [],
   "source": [
    "languages = [\n",
    "    \"ace_Arab\", \"ace_Latn\", \"acm_Arab\", \"acq_Arab\", \"aeb_Arab\", \"afr_Latn\", \"ajp_Arab\", \"aka_Latn\",\n",
    "    \"als_Latn\", \"amh_Ethi\", \"apc_Arab\", \"arb_Arab\", \"arb_Latn\", \"ars_Arab\", \"ary_Arab\", \"arz_Arab\",\n",
    "    \"asm_Beng\", \"ast_Latn\", \"awa_Deva\", \"ayr_Latn\", \"azb_Arab\", \"azj_Latn\", \"bak_Cyrl\", \"bam_Latn\",\n",
    "    \"ban_Latn\", \"bel_Cyrl\", \"bem_Latn\", \"ben_Beng\", \"bho_Deva\", \"bjn_Arab\", \"bjn_Latn\", \"bod_Tibt\",\n",
    "    \"bos_Latn\", \"bug_Latn\", \"bul_Cyrl\", \"cat_Latn\", \"ceb_Latn\", \"ces_Latn\", \"cjk_Latn\", \"ckb_Arab\",\n",
    "    \"crh_Latn\", \"cym_Latn\", \"dan_Latn\", \"deu_Latn\", \"dik_Latn\", \"dyu_Latn\", \"dzo_Tibt\", \"ell_Grek\",\n",
    "    \"eng_Latn\", \"epo_Latn\", \"est_Latn\", \"eus_Latn\", \"ewe_Latn\", \"fao_Latn\", \"fij_Latn\", \"fin_Latn\",\n",
    "    \"fon_Latn\", \"fra_Latn\", \"fur_Latn\", \"fuv_Latn\", \"gaz_Latn\", \"gla_Latn\", \"gle_Latn\", \"glg_Latn\",\n",
    "    \"grn_Latn\", \"guj_Gujr\", \"hat_Latn\", \"hau_Latn\", \"heb_Hebr\", \"hin_Deva\", \"hne_Deva\", \"hrv_Latn\",\n",
    "    \"hun_Latn\", \"hye_Armn\", \"ibo_Latn\", \"ilo_Latn\", \"ind_Latn\", \"isl_Latn\", \"ita_Latn\", \"jav_Latn\",\n",
    "    \"jpn_Jpan\", \"kab_Latn\", \"kac_Latn\", \"kam_Latn\", \"kan_Knda\", \"kas_Arab\", \"kas_Deva\", \"kat_Geor\",\n",
    "    \"kaz_Cyrl\", \"kbp_Latn\", \"kea_Latn\", \"khk_Cyrl\", \"khm_Khmr\", \"kik_Latn\", \"kin_Latn\", \"kir_Cyrl\",\n",
    "    \"kmb_Latn\", \"kmr_Latn\", \"knc_Arab\", \"knc_Latn\", \"kon_Latn\", \"kor_Hang\", \"lao_Laoo\", \"lij_Latn\",\n",
    "    \"lim_Latn\", \"lin_Latn\", \"lit_Latn\", \"lmo_Latn\", \"ltg_Latn\", \"ltz_Latn\", \"lua_Latn\", \"lug_Latn\",\n",
    "    \"luo_Latn\", \"lus_Latn\", \"lvs_Latn\", \"mag_Deva\", \"mai_Deva\", \"mal_Mlym\", \"mar_Deva\", \"min_Arab\",\n",
    "    \"min_Latn\", \"mkd_Cyrl\", \"mlt_Latn\", \"mni_Beng\", \"mos_Latn\", \"mri_Latn\", \"mya_Mymr\", \"nld_Latn\",\n",
    "    \"nno_Latn\", \"nob_Latn\", \"npi_Deva\", \"nqo_Nkoo\", \"nso_Latn\", \"nus_Latn\", \"nya_Latn\", \"oci_Latn\",\n",
    "    \"ory_Orya\", \"pag_Latn\", \"pan_Guru\", \"pap_Latn\", \"pbt_Arab\", \"pes_Arab\", \"plt_Latn\", \"pol_Latn\",\n",
    "    \"por_Latn\", \"prs_Arab\", \"quy_Latn\", \"ron_Latn\", \"run_Latn\", \"rus_Cyrl\", \"sag_Latn\", \"san_Deva\",\n",
    "    \"sat_Olck\", \"scn_Latn\", \"shn_Mymr\", \"sin_Sinh\", \"slk_Latn\", \"slv_Latn\", \"smo_Latn\", \"sna_Latn\",\n",
    "    \"snd_Arab\", \"som_Latn\", \"sot_Latn\", \"spa_Latn\", \"srd_Latn\", \"srp_Cyrl\", \"ssw_Latn\", \"sun_Latn\",\n",
    "    \"swe_Latn\", \"swh_Latn\", \"szl_Latn\", \"tam_Taml\", \"taq_Latn\", \"taq_Tfng\", \"tat_Cyrl\", \"tel_Telu\",\n",
    "    \"tgk_Cyrl\", \"tgl_Latn\", \"tha_Thai\", \"tir_Ethi\", \"tpi_Latn\", \"tsn_Latn\", \"tso_Latn\", \"tuk_Latn\",\n",
    "    \"tum_Latn\", \"tur_Latn\", \"twi_Latn\", \"tzm_Tfng\", \"uig_Arab\", \"ukr_Cyrl\", \"umb_Latn\", \"urd_Arab\",\n",
    "    \"uzn_Latn\", \"vec_Latn\", \"vie_Latn\", \"war_Latn\", \"wol_Latn\", \"xho_Latn\", \"ydd_Hebr\", \"yor_Latn\",\n",
    "    \"yue_Hant\", \"zho_Hans\", \"zho_Hant\", \"zsm_Latn\", \"zul_Latn\"\n",
    "]\n"
   ]
  },
  {
   "cell_type": "code",
   "execution_count": 14,
   "id": "576b15c5-ca6e-4394-922c-6da8addad35f",
   "metadata": {},
   "outputs": [
    {
     "data": {
      "text/plain": [
       "True"
      ]
     },
     "execution_count": 14,
     "metadata": {},
     "output_type": "execute_result"
    }
   ],
   "source": [
    "languages == sib_languages"
   ]
  },
  {
   "cell_type": "code",
   "execution_count": 22,
   "id": "4d3559ba-02bd-43f2-a78c-318184b47217",
   "metadata": {},
   "outputs": [],
   "source": [
    "d = pd.read_csv('overall_results_gpt35.csv')"
   ]
  },
  {
   "cell_type": "code",
   "execution_count": 24,
   "id": "38283d22-e9af-47f3-96d4-ba93bf751771",
   "metadata": {},
   "outputs": [],
   "source": [
    "x=list(d['Flores xx-eng GPT-3.5-Turbo'])"
   ]
  },
  {
   "cell_type": "code",
   "execution_count": 26,
   "id": "943d8ee8-b3f6-430d-a6b9-dac9ceddb183",
   "metadata": {},
   "outputs": [],
   "source": [
    "values = [\n",
    "    21.3, 34.2, 55.9, 57.5, 52.5, 74.7, 60.6, 29, 60.9, 21.5, 58.2, 60.5, 39.1, 59.3, 49.9, 53.5,\n",
    "    38.8, 63.4, 49.6, 23.2, 34.1, 46.2, 33.6, 23.9, 45.5, 45.6, 28.8, 50.2, 43.4, 20.7, 47.1, 16.9,\n",
    "    64.8, 30.8, 63.3, 67, 59.1, 63.2, 24.4, 30.7, 45.9, 68.7, 69.5, 66.1, 24.6, 22.1, 16.6, 57.6,\n",
    "    64.4, 61.5, 50.2, 23.3, 54.8, 31.7, 58.8, 21.5, 66.2, 57.5, 23.7, 22, 47.5, 55.4, 63.4, 30.6,\n",
    "    49.5, 55.7, 34.6, 60.4, 57.5, 48.4, 61.5, 59.3, 40.5, 27.8, 44.6, 65.4, 55.6, 58, 51.3, 52.5,\n",
    "    22.2, 22.7, 26.8, 47, 32.7, 30.9, 39.1, 42.6, 21.4, 62.9, 33.8, 30.6, 26.6, 36.8, 34.6, 24.3,\n",
    "    40.9, 18.1, 24.5, 26.3, 53.7, 25.8, 57, 62.9, 30.7, 56.9, 55.9, 40, 63.3, 28.3, 29.6, 24.3,\n",
    "    31.1, 58.2, 51.3, 45.3, 45, 47.5, 19.9, 45.5, 62.7, 63.7, 21.6, 22.9, 41.7, 19.6, 57.2, 66.8,\n",
    "    66, 51.4, 34.2, 20, 36.4, 70, 42.1, 42.8, 51.2, 66.2, 33.2, 56.7, 38.6, 55, 69.7, 57.2, 25.9,\n",
    "    64.7, 31, 58.5, 24.1, 37.3, 16.7, 56.1, 23.8, 22, 62.2, 59.4, 36.1, 33.4, 36.9, 37.4, 33.3,\n",
    "    55.5, 56.9, 64.7, 32.1, 49.7, 69.1, 63.5, 58.4, 38.3, 24.6, 17.6, 36.8, 45.5, 40.5, 63.6, 48.4,\n",
    "    18.4, 43.6, 30.9, 32, 40.8, 27.6, 60.4, 30, 17.8, 30.4, 61.7, 23.1, 51.4, 45.7, 62.8, 57.3,\n",
    "    58.9, 26.4, 40, 45.2, 29.7, 54.3, 53.5, 52.5, 64.5, 40.7\n",
    "]\n"
   ]
  },
  {
   "cell_type": "code",
   "execution_count": null,
   "id": "e0324ac6-f061-4888-9239-3e52cb70c889",
   "metadata": {},
   "outputs": [],
   "source": []
  }
 ],
 "metadata": {
  "kernelspec": {
   "display_name": "Python 3 (ipykernel)",
   "language": "python",
   "name": "python3"
  },
  "language_info": {
   "codemirror_mode": {
    "name": "ipython",
    "version": 3
   },
   "file_extension": ".py",
   "mimetype": "text/x-python",
   "name": "python",
   "nbconvert_exporter": "python",
   "pygments_lexer": "ipython3",
   "version": "3.9.20"
  }
 },
 "nbformat": 4,
 "nbformat_minor": 5
}
