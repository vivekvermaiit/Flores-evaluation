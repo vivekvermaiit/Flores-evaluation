{
 "cells": [
  {
   "cell_type": "code",
   "execution_count": 5,
   "id": "71fbb305-e019-4a49-bd77-be7e51068475",
   "metadata": {},
   "outputs": [
    {
     "name": "stdout",
     "output_type": "stream",
     "text": [
      "ace_Arab\n"
     ]
    },
    {
     "name": "stderr",
     "output_type": "stream",
     "text": [
      "100%|███████████████████████████████████████████████████████████████████████████████████████████████████████████████████████████████████████████████████████████████████| 1012/1012 [20:47<00:00,  1.23s/it]\n"
     ]
    },
    {
     "name": "stdout",
     "output_type": "stream",
     "text": [
      "ace_Latn\n"
     ]
    },
    {
     "name": "stderr",
     "output_type": "stream",
     "text": [
      "100%|███████████████████████████████████████████████████████████████████████████████████████████████████████████████████████████████████████████████████████████████████| 1012/1012 [24:11<00:00,  1.43s/it]\n"
     ]
    },
    {
     "name": "stdout",
     "output_type": "stream",
     "text": [
      "aka_Latn\n"
     ]
    },
    {
     "name": "stderr",
     "output_type": "stream",
     "text": [
      "100%|███████████████████████████████████████████████████████████████████████████████████████████████████████████████████████████████████████████████████████████████████| 1012/1012 [21:15<00:00,  1.26s/it]\n"
     ]
    },
    {
     "name": "stdout",
     "output_type": "stream",
     "text": [
      "ast_Latn\n"
     ]
    },
    {
     "name": "stderr",
     "output_type": "stream",
     "text": [
      "100%|███████████████████████████████████████████████████████████████████████████████████████████████████████████████████████████████████████████████████████████████████| 1012/1012 [17:29<00:00,  1.04s/it]\n"
     ]
    },
    {
     "name": "stdout",
     "output_type": "stream",
     "text": [
      "ayr_Latn\n"
     ]
    },
    {
     "name": "stderr",
     "output_type": "stream",
     "text": [
      "100%|███████████████████████████████████████████████████████████████████████████████████████████████████████████████████████████████████████████████████████████████████| 1012/1012 [23:01<00:00,  1.36s/it]\n"
     ]
    },
    {
     "name": "stdout",
     "output_type": "stream",
     "text": [
      "azb_Arab\n"
     ]
    },
    {
     "name": "stderr",
     "output_type": "stream",
     "text": [
      "100%|███████████████████████████████████████████████████████████████████████████████████████████████████████████████████████████████████████████████████████████████████| 1012/1012 [20:29<00:00,  1.22s/it]\n"
     ]
    },
    {
     "name": "stdout",
     "output_type": "stream",
     "text": [
      "bak_Cyrl\n"
     ]
    },
    {
     "name": "stderr",
     "output_type": "stream",
     "text": [
      "100%|███████████████████████████████████████████████████████████████████████████████████████████████████████████████████████████████████████████████████████████████████| 1012/1012 [19:03<00:00,  1.13s/it]\n"
     ]
    },
    {
     "name": "stdout",
     "output_type": "stream",
     "text": [
      "bam_Latn\n"
     ]
    },
    {
     "name": "stderr",
     "output_type": "stream",
     "text": [
      "100%|███████████████████████████████████████████████████████████████████████████████████████████████████████████████████████████████████████████████████████████████████| 1012/1012 [21:27<00:00,  1.27s/it]\n"
     ]
    },
    {
     "name": "stdout",
     "output_type": "stream",
     "text": [
      "ban_Latn\n"
     ]
    },
    {
     "name": "stderr",
     "output_type": "stream",
     "text": [
      "100%|███████████████████████████████████████████████████████████████████████████████████████████████████████████████████████████████████████████████████████████████████| 1012/1012 [21:17<00:00,  1.26s/it]\n"
     ]
    },
    {
     "name": "stdout",
     "output_type": "stream",
     "text": [
      "bem_Latn\n"
     ]
    },
    {
     "name": "stderr",
     "output_type": "stream",
     "text": [
      "100%|███████████████████████████████████████████████████████████████████████████████████████████████████████████████████████████████████████████████████████████████████| 1012/1012 [21:26<00:00,  1.27s/it]\n"
     ]
    },
    {
     "name": "stdout",
     "output_type": "stream",
     "text": [
      "bjn_Arab\n"
     ]
    },
    {
     "name": "stderr",
     "output_type": "stream",
     "text": [
      "100%|███████████████████████████████████████████████████████████████████████████████████████████████████████████████████████████████████████████████████████████████████| 1012/1012 [23:10<00:00,  1.37s/it]\n"
     ]
    }
   ],
   "source": [
    "import os\n",
    "import openai\n",
    "import json\n",
    "import pandas as pd\n",
    "from datasets import load_dataset\n",
    "\n",
    "os.environ[\"OPENAI_API_KEY\"] = ''\n",
    "from openai import OpenAI\n",
    "client = OpenAI()\n",
    "\n",
    "# Load the FLORES dataset from Hugging Face\n",
    "dataset = load_dataset(\"facebook/flores\", \"all\")  # Loads all languages\n",
    "\n",
    "language_mapping = pd.read_csv('language_mapping.csv')\n",
    "language_mapping_index = language_mapping.set_index('FLORES-200 code')['Language'].to_dict()\n",
    "all_languages = list(language_mapping_index.keys())\n",
    "all_languages.remove('eng_Latn')\n",
    "\n",
    "prompt_xx_eng = \"You are a translation expert. Translate the following {} sentences to English \\n{} sentence: {}\\nEnglish sentence: . Return only the translated sentence.\"\n",
    "\n",
    "import re\n",
    "def get_translation(prompt, errors):\n",
    "    completion = client.chat.completions.create(\n",
    "    model=\"gpt-4o\",\n",
    "    messages=[\n",
    "        {\n",
    "            \"role\": \"user\",\n",
    "            \"content\": prompt\n",
    "        }\n",
    "    ])\n",
    "    reply = completion.choices[0].message.content\n",
    "    reply = ' '.join(reply.split()) #convert it to one line\n",
    "\n",
    "    # print(reply)\n",
    "    return reply\n",
    "\n",
    "languages_to_run = all_languages[0:30]\n",
    "completed = ['bjn_Latn', 'pbt_Arab', 'spa_Latn', 'pes_Arab', 'zho_Hans', 'ron_Latn', 'nno_Latn', 'san_Deva', 'xho_Latn', 'hye_Armn', 'hun_Latn', 'lao_Laoo', 'urd_Arab', 'slv_Latn', 'zho_Hant', 'tzm_Tfng', 'nob_Latn', 'isl_Latn', 'arb_Arab', 'mri_Latn', 'sun_Latn', 'asm_Beng', 'yue_Hant', 'hrv_Latn', 'lug_Latn', 'khm_Khmr', 'ckb_Arab', 'afr_Latn', 'min_Arab', 'cym_Latn', 'ory_Orya', 'ita_Latn', 'zsm_Latn', 'npi_Deva', 'snd_Arab', 'jav_Latn', 'tgk_Cyrl', 'ell_Grek', 'uig_Arab', 'kin_Latn', 'acm_Arab', 'ceb_Latn', 'als_Latn', 'fra_Latn', 'guj_Gujr', 'tat_Cyrl', 'yor_Latn', 'pan_Guru', 'sin_Sinh', 'sot_Latn', 'fin_Latn', 'amh_Ethi', 'kmr_Latn', 'uzn_Latn', 'bul_Cyrl', 'bos_Latn', 'ltg_Latn', 'tsn_Latn', 'war_Latn', 'ajp_Arab', 'cat_Latn', 'ind_Latn', 'plt_Latn', 'arz_Arab', 'arb_Latn', 'kan_Knda', 'ydd_Hebr', 'bel_Cyrl', 'prs_Arab', 'tuk_Latn', 'tgl_Latn', 'mar_Deva', 'min_Latn', 'mlt_Latn', 'mkd_Cyrl', 'rus_Cyrl', 'aeb_Arab', 'tam_Taml', 'slk_Latn', 'deu_Latn', 'awa_Deva', 'kor_Hang', 'apc_Arab', 'ces_Latn', 'hat_Latn', 'glg_Latn', 'ben_Beng', 'vie_Latn', 'acq_Arab', 'oci_Latn', 'lvs_Latn', 'est_Latn', 'ary_Arab', 'azj_Latn', 'por_Latn', 'ars_Arab', 'kea_Latn', 'hin_Deva', 'tpi_Latn', 'srp_Cyrl', 'crh_Latn', 'dan_Latn', 'tel_Telu', 'ltz_Latn', 'ukr_Cyrl', 'pol_Latn', 'epo_Latn', 'nso_Latn', 'bho_Deva', 'dzo_Tibt']\n",
    "from tqdm import tqdm\n",
    "translations = {}\n",
    "\n",
    "for language_name in languages_to_run:\n",
    "    if language_name in completed:\n",
    "        continue\n",
    "    print(language_name)\n",
    "    errors = 0\n",
    "    translations[language_name]=[]\n",
    "    for i in tqdm(range(1012)): #length of devtest\n",
    "        sentence_xx = dataset['devtest'][i][\"sentence_{}\".format(language_name)]\n",
    "        prompt = prompt_xx_eng.format(language_mapping_index[language_name],language_mapping_index[language_name],sentence_xx)\n",
    "        english_translation = get_translation(prompt, errors)\n",
    "        translations[language_name].append(english_translation)\n",
    "        \n",
    "    with open(\"translations_xx_eng2/{}.txt\".format(language_name), \"w\", encoding=\"utf-8\") as f:\n",
    "        f.writelines(line + \"\\n\" for line in translations[language_name])"
   ]
  },
  {
   "cell_type": "code",
   "execution_count": null,
   "id": "e9f75021-23eb-4284-b056-44ed0e80e242",
   "metadata": {},
   "outputs": [],
   "source": []
  }
 ],
 "metadata": {
  "kernelspec": {
   "display_name": "gemma3-env",
   "language": "python",
   "name": "gemma3-env"
  },
  "language_info": {
   "codemirror_mode": {
    "name": "ipython",
    "version": 3
   },
   "file_extension": ".py",
   "mimetype": "text/x-python",
   "name": "python",
   "nbconvert_exporter": "python",
   "pygments_lexer": "ipython3",
   "version": "3.12.9"
  }
 },
 "nbformat": 4,
 "nbformat_minor": 5
}
