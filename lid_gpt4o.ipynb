{
 "cells": [
  {
   "cell_type": "code",
   "execution_count": 1,
   "id": "29028ac1-5ac0-4b09-ba8c-648e99cd8cf8",
   "metadata": {},
   "outputs": [],
   "source": [
    "import os\n",
    "import openai\n",
    "import json\n",
    "import pandas as pd\n",
    "from datasets import load_dataset\n",
    "\n",
    "os.environ[\"OPENAI_API_KEY\"] = ''\n",
    "from openai import OpenAI\n",
    "client = OpenAI()\n",
    "\n",
    "dataset = load_dataset(\"facebook/flores\", \"all\")  # Loads all languages"
   ]
  },
  {
   "cell_type": "code",
   "execution_count": 2,
   "id": "ba67346f-0913-4393-ba36-399ac67258aa",
   "metadata": {},
   "outputs": [],
   "source": [
    "language_mapping = pd.read_csv('language_mapping.csv')\n",
    "language_mapping_index = language_mapping.set_index('FLORES-200 code')['Language'].to_dict()\n",
    "all_languages = list(language_mapping_index.keys())"
   ]
  },
  {
   "cell_type": "code",
   "execution_count": 3,
   "id": "9ac024c5-f357-49f5-9aa6-8b5dcef6f540",
   "metadata": {},
   "outputs": [],
   "source": [
    "flores_l = {'afr_Latn': 'Afrikaans',\n",
    " 'amh_Ethi': 'Amharic',\n",
    " 'arb_Arab': 'Arabic',\n",
    " 'asm_Beng': 'Assamese',\n",
    " 'ast_Latn': 'Asturian',\n",
    " 'azj_Latn': 'Azerbaijani',\n",
    " 'bel_Cyrl': 'Belarusian',\n",
    " 'ben_Beng': 'Bengali',\n",
    " 'bos_Latn': 'Bosnian',\n",
    " 'bul_Cyrl': 'Bulgarian',\n",
    " 'cat_Latn': 'Catalan',\n",
    " 'ceb_Latn': 'Cebuano',\n",
    " 'ces_Latn': 'Czech',\n",
    " 'ckb_Arab': 'Kurdish',\n",
    " 'cym_Latn': 'Welsh',\n",
    " 'dan_Latn': 'Danish',\n",
    " 'deu_Latn': 'German',\n",
    " 'ell_Grek': 'Greek',\n",
    " 'eng_Latn': 'English',\n",
    " 'est_Latn': 'Estonian',\n",
    " 'fin_Latn': 'Finnish',\n",
    " 'fra_Latn': 'French',\n",
    " 'gaz_Latn': 'Oromo',\n",
    " 'gle_Latn': 'Irish',\n",
    " 'glg_Latn': 'Galician',\n",
    " 'guj_Gujr': 'Gujarati',\n",
    " 'hau_Latn': 'Hausa',\n",
    " 'heb_Hebr': 'Hebrew',\n",
    " 'hin_Deva': 'Hindi',\n",
    " 'hrv_Latn': 'Croatian',\n",
    " 'hun_Latn': 'Hungarian',\n",
    " 'hye_Armn': 'Armenian',\n",
    " 'ibo_Latn': 'Igbo',\n",
    " 'ind_Latn': 'Indonesian',\n",
    " 'isl_Latn': 'Icelandic',\n",
    " 'ita_Latn': 'Italian',\n",
    " 'jav_Latn': 'Javanese',\n",
    " 'jpn_Jpan': 'Japanese',\n",
    " 'kam_Latn': 'Kamba',\n",
    " 'kan_Knda': 'Kannada',\n",
    " 'kat_Geor': 'Georgian',\n",
    " 'kaz_Cyrl': 'Kazakh',\n",
    " 'kea_Latn': 'Kabuverdianu',\n",
    " 'khk_Cyrl': 'Mongolian',\n",
    " 'khm_Khmr': 'Khmer',\n",
    " 'kor_Hang': 'Korean',\n",
    " 'lao_Laoo': 'Lao',\n",
    " 'lin_Latn': 'Lingala',\n",
    " 'lit_Latn': 'Lithuanian',\n",
    " 'ltz_Latn': 'Luxembourgish',\n",
    " 'lug_Latn': 'Ganda',\n",
    " 'luo_Latn': 'Luo',\n",
    " 'lvs_Latn': 'Latvian',\n",
    " 'mal_Mlym': 'Malayalam',\n",
    " 'mar_Deva': 'Marathi',\n",
    " 'mkd_Cyrl': 'Macedonian',\n",
    " 'mlt_Latn': 'Maltese',\n",
    " 'mri_Latn': 'Maori',\n",
    " 'mya_Mymr': 'Burmese',\n",
    " 'nld_Latn': 'Dutch',\n",
    " 'nob_Latn': 'Norwegian',\n",
    " 'npi_Deva': 'Nepali',\n",
    " 'nso_Latn': 'Sotho',\n",
    " 'nya_Latn': 'Nyanja',\n",
    " 'oci_Latn': 'Occitan',\n",
    " 'ory_Orya': 'Odia',\n",
    " 'pan_Guru': 'Punjabi',\n",
    " 'pbt_Arab': 'Pashto',\n",
    " 'pes_Arab': 'Persian',\n",
    " 'pol_Latn': 'Polish',\n",
    " 'por_Latn': 'Portuguese',\n",
    " 'ron_Latn': 'Romanian',\n",
    " 'rus_Cyrl': 'Russian',\n",
    " 'slk_Latn': 'Slovak',\n",
    " 'slv_Latn': 'Slovenian',\n",
    " 'smo_Latn': 'Samoan',\n",
    " 'sna_Latn': 'Shona',\n",
    " 'snd_Arab': 'Sindhi',\n",
    " 'som_Latn': 'Somali',\n",
    " 'spa_Latn': 'Spanish',\n",
    " 'srp_Cyrl': 'Serbian',\n",
    " 'swe_Latn': 'Swedish',\n",
    " 'swh_Latn': 'Swahili',\n",
    " 'tam_Taml': 'Tamil',\n",
    " 'tel_Telu': 'Telugu',\n",
    " 'tgk_Cyrl': 'Tajik',\n",
    " 'tgl_Latn': 'Tagalog',\n",
    " 'tha_Thai': 'Thai',\n",
    " 'tur_Latn': 'Turkish',\n",
    " 'ukr_Cyrl': 'Ukrainian',\n",
    " 'umb_Latn': 'Umbundu',\n",
    " 'urd_Arab': 'Urdu',\n",
    " 'uzn_Latn': 'Uzbek',\n",
    " 'vie_Latn': 'Vietnamese',\n",
    " 'wol_Latn': 'Wolof',\n",
    " 'xho_Latn': 'Xhosa',\n",
    " 'yor_Latn': 'Yoruba',\n",
    " 'zho_Hans': 'Chinese',\n",
    " 'zho_Hant': 'Chinese',\n",
    " 'zsm_Latn': 'Malay',\n",
    " 'zul_Latn': 'Zulu'}"
   ]
  },
  {
   "cell_type": "code",
   "execution_count": 4,
   "id": "58ceb6e9-2b73-41a0-bcca-bc30959abd5c",
   "metadata": {},
   "outputs": [],
   "source": [
    "prompt_lid= \"You are an assistant specialized in identifying written languages. Please identify the language in the text below. Return only the name of the language, no other text.\\n Text: {}\"\n"
   ]
  },
  {
   "cell_type": "code",
   "execution_count": 5,
   "id": "05b2286d-47d8-4802-9593-0e84de4b948f",
   "metadata": {},
   "outputs": [],
   "source": [
    "languages = list(flores_l.keys())"
   ]
  },
  {
   "cell_type": "code",
   "execution_count": 6,
   "id": "29d6a9ba-3a95-4910-9707-c45e6a9a5d60",
   "metadata": {},
   "outputs": [],
   "source": [
    "#this logic is taken from afrobench. \n",
    "import re\n",
    "\n",
    "\n",
    "\n",
    "def get_category(prompt):\n",
    "    completion = client.chat.completions.create(\n",
    "    model=\"gpt-4o-2024-08-06\",\n",
    "    messages=[\n",
    "        {\n",
    "            \"role\": \"user\",\n",
    "            \"content\": prompt\n",
    "        }\n",
    "    ])\n",
    "    response = completion.choices[0].message.content\n",
    "    # print(response)\n",
    "    return response"
   ]
  },
  {
   "cell_type": "code",
   "execution_count": 7,
   "id": "b0e607b1-9420-4cc2-b857-3d29d5ca98fd",
   "metadata": {},
   "outputs": [],
   "source": [
    "languages_to_run = languages[0:15]"
   ]
  },
  {
   "cell_type": "code",
   "execution_count": 8,
   "id": "bb9fade1-6ae3-45bd-9f4c-f02f821327b8",
   "metadata": {},
   "outputs": [
    {
     "name": "stdout",
     "output_type": "stream",
     "text": [
      "afr_Latn\n"
     ]
    },
    {
     "name": "stderr",
     "output_type": "stream",
     "text": [
      "100%|███████████████████████████████████████████████████████████████████████████████████████████████████████████████████████████████████████████████████████████████████| 1012/1012 [09:13<00:00,  1.83it/s]\n"
     ]
    },
    {
     "name": "stdout",
     "output_type": "stream",
     "text": [
      "1012\n",
      "amh_Ethi\n"
     ]
    },
    {
     "name": "stderr",
     "output_type": "stream",
     "text": [
      "100%|███████████████████████████████████████████████████████████████████████████████████████████████████████████████████████████████████████████████████████████████████| 1012/1012 [09:05<00:00,  1.86it/s]\n"
     ]
    },
    {
     "name": "stdout",
     "output_type": "stream",
     "text": [
      "1012\n",
      "arb_Arab\n"
     ]
    },
    {
     "name": "stderr",
     "output_type": "stream",
     "text": [
      "100%|███████████████████████████████████████████████████████████████████████████████████████████████████████████████████████████████████████████████████████████████████| 1012/1012 [09:05<00:00,  1.86it/s]\n"
     ]
    },
    {
     "name": "stdout",
     "output_type": "stream",
     "text": [
      "921\n",
      "asm_Beng\n"
     ]
    },
    {
     "name": "stderr",
     "output_type": "stream",
     "text": [
      "100%|███████████████████████████████████████████████████████████████████████████████████████████████████████████████████████████████████████████████████████████████████| 1012/1012 [09:22<00:00,  1.80it/s]\n"
     ]
    },
    {
     "name": "stdout",
     "output_type": "stream",
     "text": [
      "994\n",
      "ast_Latn\n"
     ]
    },
    {
     "name": "stderr",
     "output_type": "stream",
     "text": [
      "100%|███████████████████████████████████████████████████████████████████████████████████████████████████████████████████████████████████████████████████████████████████| 1012/1012 [09:19<00:00,  1.81it/s]\n"
     ]
    },
    {
     "name": "stdout",
     "output_type": "stream",
     "text": [
      "985\n",
      "azj_Latn\n"
     ]
    },
    {
     "name": "stderr",
     "output_type": "stream",
     "text": [
      "100%|███████████████████████████████████████████████████████████████████████████████████████████████████████████████████████████████████████████████████████████████████| 1012/1012 [09:40<00:00,  1.74it/s]\n"
     ]
    },
    {
     "name": "stdout",
     "output_type": "stream",
     "text": [
      "1012\n",
      "bel_Cyrl\n"
     ]
    },
    {
     "name": "stderr",
     "output_type": "stream",
     "text": [
      "100%|███████████████████████████████████████████████████████████████████████████████████████████████████████████████████████████████████████████████████████████████████| 1012/1012 [08:55<00:00,  1.89it/s]\n"
     ]
    },
    {
     "name": "stdout",
     "output_type": "stream",
     "text": [
      "939\n",
      "ben_Beng\n"
     ]
    },
    {
     "name": "stderr",
     "output_type": "stream",
     "text": [
      "100%|███████████████████████████████████████████████████████████████████████████████████████████████████████████████████████████████████████████████████████████████████| 1012/1012 [09:31<00:00,  1.77it/s]\n"
     ]
    },
    {
     "name": "stdout",
     "output_type": "stream",
     "text": [
      "1011\n",
      "bos_Latn\n"
     ]
    },
    {
     "name": "stderr",
     "output_type": "stream",
     "text": [
      "100%|███████████████████████████████████████████████████████████████████████████████████████████████████████████████████████████████████████████████████████████████████| 1012/1012 [09:43<00:00,  1.74it/s]\n"
     ]
    },
    {
     "name": "stdout",
     "output_type": "stream",
     "text": [
      "652\n",
      "bul_Cyrl\n"
     ]
    },
    {
     "name": "stderr",
     "output_type": "stream",
     "text": [
      "100%|███████████████████████████████████████████████████████████████████████████████████████████████████████████████████████████████████████████████████████████████████| 1012/1012 [09:32<00:00,  1.77it/s]\n"
     ]
    },
    {
     "name": "stdout",
     "output_type": "stream",
     "text": [
      "1012\n",
      "cat_Latn\n"
     ]
    },
    {
     "name": "stderr",
     "output_type": "stream",
     "text": [
      "100%|███████████████████████████████████████████████████████████████████████████████████████████████████████████████████████████████████████████████████████████████████| 1012/1012 [08:52<00:00,  1.90it/s]\n"
     ]
    },
    {
     "name": "stdout",
     "output_type": "stream",
     "text": [
      "1012\n",
      "ceb_Latn\n"
     ]
    },
    {
     "name": "stderr",
     "output_type": "stream",
     "text": [
      "100%|███████████████████████████████████████████████████████████████████████████████████████████████████████████████████████████████████████████████████████████████████| 1012/1012 [09:33<00:00,  1.76it/s]\n"
     ]
    },
    {
     "name": "stdout",
     "output_type": "stream",
     "text": [
      "1011\n",
      "ces_Latn\n"
     ]
    },
    {
     "name": "stderr",
     "output_type": "stream",
     "text": [
      "100%|███████████████████████████████████████████████████████████████████████████████████████████████████████████████████████████████████████████████████████████████████| 1012/1012 [09:47<00:00,  1.72it/s]\n"
     ]
    },
    {
     "name": "stdout",
     "output_type": "stream",
     "text": [
      "1010\n",
      "ckb_Arab\n"
     ]
    },
    {
     "name": "stderr",
     "output_type": "stream",
     "text": [
      "100%|███████████████████████████████████████████████████████████████████████████████████████████████████████████████████████████████████████████████████████████████████| 1012/1012 [09:39<00:00,  1.75it/s]\n"
     ]
    },
    {
     "name": "stdout",
     "output_type": "stream",
     "text": [
      "1012\n",
      "cym_Latn\n"
     ]
    },
    {
     "name": "stderr",
     "output_type": "stream",
     "text": [
      "100%|███████████████████████████████████████████████████████████████████████████████████████████████████████████████████████████████████████████████████████████████████| 1012/1012 [09:22<00:00,  1.80it/s]"
     ]
    },
    {
     "name": "stdout",
     "output_type": "stream",
     "text": [
      "1012\n",
      "{'afr_Latn': 1012, 'amh_Ethi': 1012, 'arb_Arab': 921, 'asm_Beng': 994, 'ast_Latn': 985, 'azj_Latn': 1012, 'bel_Cyrl': 939, 'ben_Beng': 1011, 'bos_Latn': 652, 'bul_Cyrl': 1012, 'cat_Latn': 1012, 'ceb_Latn': 1011, 'ces_Latn': 1010, 'ckb_Arab': 1012, 'cym_Latn': 1012}\n"
     ]
    },
    {
     "name": "stderr",
     "output_type": "stream",
     "text": [
      "\n"
     ]
    }
   ],
   "source": [
    "from tqdm import tqdm\n",
    "result_categories = {}\n",
    "result_accuracies = {}\n",
    "gpt_replies = {}\n",
    "\n",
    "for language_code in languages_to_run:\n",
    "    completed = []\n",
    "    if language_code in completed:\n",
    "        continue\n",
    "    print(language_code)\n",
    "    accurate = 0\n",
    "    \n",
    "    result_categories[language_code]=[]\n",
    "    gpt_replies[language_code] = []\n",
    "\n",
    "    language_name = flores_l[language_code]\n",
    "    \n",
    "    size = 1012\n",
    "    for i in tqdm(range(size)): #length of devtest\n",
    "        sentence = dataset['devtest'][i][\"sentence_{}\".format(language_code)]\n",
    "        prompt = prompt_lid.format(sentence)\n",
    "        # print(prompt)\n",
    "        reply = get_category(prompt)\n",
    "        gpt_replies[language_code].append(reply)\n",
    "\n",
    "        category = \"\"\n",
    "        if language_name.lower() in reply.lower():\n",
    "            category = language_name\n",
    "        result_categories[language_code].append(category)\n",
    "        if category == language_name:\n",
    "            accurate+=1\n",
    "            \n",
    "    result_accuracies[language_code] = accurate\n",
    "\n",
    "    df = pd.DataFrame({\n",
    "    \"gpt_answer\": result_categories[language_code]\n",
    "    })\n",
    "\n",
    "    # Save to CSV\n",
    "    df.to_csv(\"lid_predicted_gpt4o/{}.csv\".format(language_code), index=False)\n",
    "\n",
    "    df2 = pd.DataFrame({\n",
    "    \"gpt_reply\": gpt_replies[language_code]\n",
    "    })\n",
    "\n",
    "    # Save to CSV\n",
    "    df2.to_csv(\"lid_replies_gpt4o/{}.csv\".format(language_code), index=False)\n",
    "    print(accurate)\n",
    "print(result_accuracies)"
   ]
  },
  {
   "cell_type": "code",
   "execution_count": 9,
   "id": "c7279774-3378-439a-baa6-382f0b644dd9",
   "metadata": {},
   "outputs": [],
   "source": [
    "fleurs_l=[\n",
    "    \"afr\", \"amh\", \"ara\", \"hye\", \"asm\", \"ast\", \"azj\", \"bel\", \"ben\", \"bos\", \n",
    "    \"bul\", \"mya\", \"yue\", \"cat\", \"ceb\", \"hrv\", \"ces\", \"dan\", \"nld\", \"eng\", \n",
    "    \"est\", \"tgl\", \"fin\", \"fra\", \"ful\", \"glg\", \"lug\", \"kat\", \"deu\", \"ell\", \n",
    "    \"guj\", \"hau\", \"heb\", \"hin\", \"hun\", \"isl\", \"ibo\", \"ind\", \"gle\", \"ita\", \n",
    "    \"jpn\", \"jav\", \"kea\", \"kam\", \"kan\", \"kaz\", \"khm\", \"kor\", \"kir\", \"lao\", \n",
    "    \"lav\", \"lin\", \"lit\", \"luo\", \"ltz\", \"mkd\", \"msa\", \"mal\", \"mlt\", \"cmn\", \"mri\",\n",
    "    \"mar\", \"mon\", \"npi\", \"nso\", \"nob\", \"nya\", \"oci\", \"ory\", \"orm\", \"pus\",\n",
    "    \"fas\", \"pol\", \"por\", \"pan\", \"ron\", \"rus\", \"srp\", \"sna\", \"snd\", \"slk\",\n",
    "    \"slv\", \"som\", \"ckb\", \"spa\", \"swh\", \"swe\", \"tgk\", \"tam\", \"tel\", \"tha\",\n",
    "    \"tur\", \"ukr\", \"umb\", \"urd\", \"uzb\", \"vie\", \"cym\", \"wol\", \"xho\", \"yor\", \"zul\"\n",
    "]\n",
    "\n"
   ]
  },
  {
   "cell_type": "code",
   "execution_count": 10,
   "id": "94c5543b-e10e-4d84-b35a-7e1c96fee2cc",
   "metadata": {},
   "outputs": [
    {
     "data": {
      "text/plain": [
       "['afr',\n",
       " 'amh',\n",
       " 'ara',\n",
       " 'asm',\n",
       " 'ast',\n",
       " 'azj',\n",
       " 'bel',\n",
       " 'ben',\n",
       " 'bos',\n",
       " 'bul',\n",
       " 'cat',\n",
       " 'ceb',\n",
       " 'ces',\n",
       " 'ckb',\n",
       " 'cmn',\n",
       " 'cym',\n",
       " 'dan',\n",
       " 'deu',\n",
       " 'ell',\n",
       " 'eng',\n",
       " 'est',\n",
       " 'fas',\n",
       " 'fin',\n",
       " 'fra',\n",
       " 'ful',\n",
       " 'gle',\n",
       " 'glg',\n",
       " 'guj',\n",
       " 'hau',\n",
       " 'heb',\n",
       " 'hin',\n",
       " 'hrv',\n",
       " 'hun',\n",
       " 'hye',\n",
       " 'ibo',\n",
       " 'ind',\n",
       " 'isl',\n",
       " 'ita',\n",
       " 'jav',\n",
       " 'jpn',\n",
       " 'kam',\n",
       " 'kan',\n",
       " 'kat',\n",
       " 'kaz',\n",
       " 'kea',\n",
       " 'khm',\n",
       " 'kir',\n",
       " 'kor',\n",
       " 'lao',\n",
       " 'lav',\n",
       " 'lin',\n",
       " 'lit',\n",
       " 'ltz',\n",
       " 'lug',\n",
       " 'luo',\n",
       " 'mal',\n",
       " 'mar',\n",
       " 'mkd',\n",
       " 'mlt',\n",
       " 'mon',\n",
       " 'mri',\n",
       " 'msa',\n",
       " 'mya',\n",
       " 'nld',\n",
       " 'nob',\n",
       " 'npi',\n",
       " 'nso',\n",
       " 'nya',\n",
       " 'oci',\n",
       " 'orm',\n",
       " 'ory',\n",
       " 'pan',\n",
       " 'pol',\n",
       " 'por',\n",
       " 'pus',\n",
       " 'ron',\n",
       " 'rus',\n",
       " 'slk',\n",
       " 'slv',\n",
       " 'sna',\n",
       " 'snd',\n",
       " 'som',\n",
       " 'spa',\n",
       " 'srp',\n",
       " 'swe',\n",
       " 'swh',\n",
       " 'tam',\n",
       " 'tel',\n",
       " 'tgk',\n",
       " 'tgl',\n",
       " 'tha',\n",
       " 'tur',\n",
       " 'ukr',\n",
       " 'umb',\n",
       " 'urd',\n",
       " 'uzb',\n",
       " 'vie',\n",
       " 'wol',\n",
       " 'xho',\n",
       " 'yor',\n",
       " 'yue',\n",
       " 'zul']"
      ]
     },
     "execution_count": 10,
     "metadata": {},
     "output_type": "execute_result"
    }
   ],
   "source": [
    "sorted(fleurs_l)"
   ]
  },
  {
   "cell_type": "code",
   "execution_count": 11,
   "id": "6095988d-c223-4994-b509-54db8f5eb8c0",
   "metadata": {},
   "outputs": [
    {
     "data": {
      "text/plain": [
       "'chinese'"
      ]
     },
     "execution_count": 11,
     "metadata": {},
     "output_type": "execute_result"
    }
   ],
   "source": [
    "reply = 'Chinese'\n",
    "reply.lower()"
   ]
  },
  {
   "cell_type": "code",
   "execution_count": 12,
   "id": "446efb9e-f705-415c-8145-605df30f2731",
   "metadata": {},
   "outputs": [
    {
     "data": {
      "text/plain": [
       "True"
      ]
     },
     "execution_count": 12,
     "metadata": {},
     "output_type": "execute_result"
    }
   ],
   "source": [
    "'chinese' in reply.lower()"
   ]
  },
  {
   "cell_type": "code",
   "execution_count": 13,
   "id": "8e6aa04f-ad92-41da-a812-20c4d59344c1",
   "metadata": {},
   "outputs": [
    {
     "data": {
      "text/plain": [
       "['umb_Latn',\n",
       " 'urd_Arab',\n",
       " 'uzn_Latn',\n",
       " 'vie_Latn',\n",
       " 'wol_Latn',\n",
       " 'xho_Latn',\n",
       " 'yor_Latn',\n",
       " 'zho_Hans',\n",
       " 'zho_Hant',\n",
       " 'zsm_Latn',\n",
       " 'zul_Latn']"
      ]
     },
     "execution_count": 13,
     "metadata": {},
     "output_type": "execute_result"
    }
   ],
   "source": [
    "languages[90:101]"
   ]
  },
  {
   "cell_type": "code",
   "execution_count": null,
   "id": "28b49f9c-5f18-4cba-a7c8-b003ea2a1db3",
   "metadata": {},
   "outputs": [],
   "source": []
  }
 ],
 "metadata": {
  "kernelspec": {
   "display_name": "gemma3-env",
   "language": "python",
   "name": "gemma3-env"
  },
  "language_info": {
   "codemirror_mode": {
    "name": "ipython",
    "version": 3
   },
   "file_extension": ".py",
   "mimetype": "text/x-python",
   "name": "python",
   "nbconvert_exporter": "python",
   "pygments_lexer": "ipython3",
   "version": "3.12.9"
  }
 },
 "nbformat": 4,
 "nbformat_minor": 5
}
