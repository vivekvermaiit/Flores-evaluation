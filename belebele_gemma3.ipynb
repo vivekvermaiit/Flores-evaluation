{
 "cells": [
  {
   "cell_type": "code",
   "execution_count": 23,
   "id": "29028ac1-5ac0-4b09-ba8c-648e99cd8cf8",
   "metadata": {},
   "outputs": [],
   "source": [
    "import os\n",
    "import openai\n",
    "import json\n",
    "import pandas as pd\n",
    "from datasets import load_dataset\n",
    "\n",
    "\n",
    "languages = [\n",
    "    \"acm_Arab\", \"afr_Latn\", \"als_Latn\", \"amh_Ethi\", \"apc_Arab\", \"arb_Arab\", \"arb_Latn\", \"ars_Arab\",\n",
    "    \"ary_Arab\", \"arz_Arab\", \"asm_Beng\", \"azj_Latn\", \"bam_Latn\", \"ben_Beng\", \"ben_Latn\", \"bod_Tibt\",\n",
    "    \"bul_Cyrl\", \"cat_Latn\", \"ceb_Latn\", \"ces_Latn\", \"ckb_Arab\", \"dan_Latn\", \"deu_Latn\", \"ell_Grek\",\n",
    "    \"eng_Latn\", \"est_Latn\", \"eus_Latn\", \"fin_Latn\", \"fra_Latn\", \"fuv_Latn\", \"gaz_Latn\", \"grn_Latn\",\n",
    "    \"guj_Gujr\", \"hat_Latn\", \"hau_Latn\", \"heb_Hebr\", \"hin_Deva\", \"hin_Latn\", \"hrv_Latn\", \"hun_Latn\",\n",
    "    \"hye_Armn\", \"ibo_Latn\", \"ilo_Latn\", \"ind_Latn\", \"isl_Latn\", \"ita_Latn\", \"jav_Latn\", \"jpn_Jpan\",\n",
    "    \"kac_Latn\", \"kan_Knda\", \"kat_Geor\", \"kaz_Cyrl\", \"kea_Latn\", \"khk_Cyrl\", \"khm_Khmr\", \"kin_Latn\",\n",
    "    \"kir_Cyrl\", \"kor_Hang\", \"lao_Laoo\", \"lin_Latn\", \"lit_Latn\", \"lug_Latn\", \"luo_Latn\", \"lvs_Latn\",\n",
    "    \"mal_Mlym\", \"mar_Deva\", \"mkd_Cyrl\", \"mlt_Latn\", \"mri_Latn\", \"mya_Mymr\", \"nld_Latn\", \"nob_Latn\",\n",
    "    \"npi_Deva\", \"npi_Latn\", \"nso_Latn\", \"nya_Latn\", \"ory_Orya\", \"pan_Guru\", \"pbt_Arab\", \"pes_Arab\",\n",
    "    \"plt_Latn\", \"pol_Latn\", \"por_Latn\", \"ron_Latn\", \"rus_Cyrl\", \"shn_Mymr\", \"sin_Latn\", \"sin_Sinh\",\n",
    "    \"slk_Latn\", \"slv_Latn\", \"sna_Latn\", \"snd_Arab\", \"som_Latn\", \"sot_Latn\", \"spa_Latn\", \"srp_Cyrl\",\n",
    "    \"ssw_Latn\", \"sun_Latn\", \"swe_Latn\", \"swh_Latn\", \"tam_Taml\", \"tel_Telu\", \"tgk_Cyrl\", \"tgl_Latn\",\n",
    "    \"tha_Thai\", \"tir_Ethi\", \"tsn_Latn\", \"tso_Latn\", \"tur_Latn\", \"ukr_Cyrl\", \"urd_Arab\", \"urd_Latn\",\n",
    "    \"uzn_Latn\", \"vie_Latn\", \"war_Latn\", \"wol_Latn\", \"xho_Latn\", \"yor_Latn\", \"zho_Hans\", \"zho_Hant\",\n",
    "    \"zsm_Latn\", \"zul_Latn\"\n",
    "]\n",
    "\n",
    "\n"
   ]
  },
  {
   "cell_type": "code",
   "execution_count": 2,
   "id": "58ceb6e9-2b73-41a0-bcca-bc30959abd5c",
   "metadata": {},
   "outputs": [],
   "source": [
    "prompt_belebele= \"P: {}\\nQ: {}\\nA: {}\\nB: {}\\nC: {}\\nD: {}\\nPlease choose the correct answer from the options above:\"\n"
   ]
  },
  {
   "cell_type": "code",
   "execution_count": 1,
   "id": "29d6a9ba-3a95-4910-9707-c45e6a9a5d60",
   "metadata": {},
   "outputs": [],
   "source": [
    "#this logic is taken from afrobench. \n",
    "import re\n",
    "\n",
    "# Hardcoded choices\n",
    "choices = [\"A\", \"B\", \"C\", \"D\"]\n",
    "\n",
    "# Hardcoded verbalizer mapping\n",
    "verbalizer = {\n",
    "    \"A\": ['a:', 'a', 'a.', '1', '1:', 'a)', '(a)', 'option a', 'option a:', 'option_a:'],\n",
    "    \"B\": ['b:', 'b', 'b.', '2', '2:', 'b)', '(b)', 'option b', 'option b:', 'option_b:'],\n",
    "    \"C\": ['c:', 'c', 'c.', '3', '3:', 'c)', '(c)', 'option c', 'option c:', 'option_c:'],\n",
    "    \"D\": ['d:', 'd', 'd.', '4', '4:', 'd)', '(d)', 'option d', 'option d:', 'option_d:'],\n",
    "}\n",
    "\n",
    "map_response = {\n",
    "    \"A\": '1',\n",
    "    \"B\": '2',\n",
    "    \"C\": '3',\n",
    "    \"D\": '4',\n",
    "    \"invalid\": \"invalid\"\n",
    "}\n",
    "\n",
    "import time\n",
    "\n",
    "import requests\n",
    "url = \"http://localhost:8000/v1/chat/completions\"\n",
    "headers = {\"Content-Type\": \"application/json\"}\n",
    "\n",
    "def get_gemma3_reply(prompt):\n",
    "    data = {\n",
    "        \"model\": \"google/gemma-3-27b-it\",\n",
    "        \"messages\": [\n",
    "            {\n",
    "                \"role\": \"user\",\n",
    "                \"content\": [\n",
    "                    {\n",
    "                        \"type\": \"text\",\n",
    "                        \"text\": prompt\n",
    "                    }\n",
    "                ]\n",
    "            }\n",
    "        ]\n",
    "    }\n",
    "\n",
    "    response = requests.post(url, headers=headers, json=data)\n",
    "    completion = response.json()\n",
    "\n",
    "    content = completion[\"choices\"][0][\"message\"][\"content\"]\n",
    "    return content\n",
    "    \n",
    "def get_category(prompt, max_retries=3, backoff_factor=2):\n",
    "    for attempt in range(max_retries):\n",
    "        try:\n",
    "            response = get_gemma3_reply(prompt)\n",
    "            # print(response)\n",
    "            choice_patterns = {choice: re.compile(rf\"\\b{re.escape(choice)}\\b\", re.IGNORECASE) for choice in choices}\n",
    "           \n",
    "            best_match = None\n",
    "            best_position = len(response) + 1         \n",
    "            # Here check for all 4, and choose the best position. \n",
    "            for choice, pattern in choice_patterns.items():\n",
    "                match = pattern.search(response)\n",
    "                if match and match.start() < best_position:\n",
    "                    best_match = choice\n",
    "                    best_position = match.start()\n",
    "        \n",
    "            # Check against verbalizer if no match found, and take the first hit\n",
    "            if not best_match and verbalizer:\n",
    "                for key, synonyms in verbalizer.items():\n",
    "                    for synonym in synonyms:\n",
    "                        # Use \\b for word boundaries to avoid matching parts of words\n",
    "                        if re.search(rf\"\\b{re.escape(synonym)}\\b\", response.lower(), re.IGNORECASE):\n",
    "                            best_match = key\n",
    "                            break\n",
    "                    if best_match:\n",
    "                        break\n",
    "            # Append result\n",
    "            if best_match:\n",
    "                answer = best_match\n",
    "            else:\n",
    "                answer = \"invalid\"\n",
    "            # print(answer)\n",
    "            return response, map_response[answer]\n",
    "        except Exception as e:\n",
    "            print(f\"Attempt {attempt + 1} failed with error: {e}\")\n",
    "            if attempt < max_retries - 1:\n",
    "                sleep_time = backoff_factor ** attempt\n",
    "                print(f\"Retrying in {sleep_time} seconds...\")\n",
    "                time.sleep(sleep_time)\n",
    "            else:\n",
    "                print(\"Max retries reached. Returning failure label.\")\n",
    "                return \"\",\"invalid\"   \n",
    "                "
   ]
  },
  {
   "cell_type": "code",
   "execution_count": 4,
   "id": "82848aed-66d2-4cc2-81a6-1739e2c797a3",
   "metadata": {},
   "outputs": [],
   "source": [
    "languages_to_run = ['eng_Latn']"
   ]
  },
  {
   "cell_type": "code",
   "execution_count": 7,
   "id": "bb9fade1-6ae3-45bd-9f4c-f02f821327b8",
   "metadata": {},
   "outputs": [
    {
     "name": "stdout",
     "output_type": "stream",
     "text": [
      "eng_Latn\n"
     ]
    },
    {
     "name": "stderr",
     "output_type": "stream",
     "text": [
      "  0%|                                                                                                                                                                                | 0/10 [00:00<?, ?it/s]"
     ]
    },
    {
     "name": "stdout",
     "output_type": "stream",
     "text": [
      "P: Make sure your hand is as relaxed as possible while still hitting all the notes correctly - also try not to make much extraneous motion with your fingers. This way, you will tire yourself out as little as possible. Remember there's no need to hit the keys with a lot of force for extra volume like on the piano. On the accordion, to get extra volume, you use the bellows with more pressure or speed.\n",
      "Q: According to the passage, what would not be considered an accurate tip for successfully playing the accordion?\n",
      "A: For additional volume, increase the force with which you hit the keys\n",
      "B: Keep unnecessary movement to a minimum in order to preserve your stamina\n",
      "C: Be mindful of hitting the notes while maintaining a relaxed hand\n",
      "D: Increase the speed with which you operate the bellows to achieve extra volume\n",
      "Please choose the correct answer from the options above:\n",
      "Attempt 1 failed with error: 400 INVALID_ARGUMENT. {'error': {'code': 400, 'message': 'API key expired. Please renew the API key.', 'status': 'INVALID_ARGUMENT', 'details': [{'@type': 'type.googleapis.com/google.rpc.ErrorInfo', 'reason': 'API_KEY_INVALID', 'domain': 'googleapis.com', 'metadata': {'service': 'generativelanguage.googleapis.com'}}, {'@type': 'type.googleapis.com/google.rpc.LocalizedMessage', 'locale': 'en-US', 'message': 'API key expired. Please renew the API key.'}]}}\n",
      "Retrying in 1 seconds...\n",
      "Attempt 2 failed with error: 400 INVALID_ARGUMENT. {'error': {'code': 400, 'message': 'API key expired. Please renew the API key.', 'status': 'INVALID_ARGUMENT', 'details': [{'@type': 'type.googleapis.com/google.rpc.ErrorInfo', 'reason': 'API_KEY_INVALID', 'domain': 'googleapis.com', 'metadata': {'service': 'generativelanguage.googleapis.com'}}, {'@type': 'type.googleapis.com/google.rpc.LocalizedMessage', 'locale': 'en-US', 'message': 'API key expired. Please renew the API key.'}]}}\n",
      "Retrying in 2 seconds...\n"
     ]
    },
    {
     "name": "stderr",
     "output_type": "stream",
     "text": [
      " 10%|████████████████▊                                                                                                                                                       | 1/10 [00:03<00:30,  3.40s/it]"
     ]
    },
    {
     "name": "stdout",
     "output_type": "stream",
     "text": [
      "Attempt 3 failed with error: 400 INVALID_ARGUMENT. {'error': {'code': 400, 'message': 'API key expired. Please renew the API key.', 'status': 'INVALID_ARGUMENT', 'details': [{'@type': 'type.googleapis.com/google.rpc.ErrorInfo', 'reason': 'API_KEY_INVALID', 'domain': 'googleapis.com', 'metadata': {'service': 'generativelanguage.googleapis.com'}}, {'@type': 'type.googleapis.com/google.rpc.LocalizedMessage', 'locale': 'en-US', 'message': 'API key expired. Please renew the API key.'}]}}\n",
      "Max retries reached. Returning failure label.\n",
      "P: Make sure your hand is as relaxed as possible while still hitting all the notes correctly - also try not to make much extraneous motion with your fingers. This way, you will tire yourself out as little as possible. Remember there's no need to hit the keys with a lot of force for extra volume like on the piano. On the accordion, to get extra volume, you use the bellows with more pressure or speed.\n",
      "Q: When playing the accordion, which of the following will help to increase the volume?\n",
      "A: More speed\n",
      "B: More force\n",
      "C: Less pressure\n",
      "D: Less finger motion\n",
      "Please choose the correct answer from the options above:\n",
      "Attempt 1 failed with error: 400 INVALID_ARGUMENT. {'error': {'code': 400, 'message': 'API key expired. Please renew the API key.', 'status': 'INVALID_ARGUMENT', 'details': [{'@type': 'type.googleapis.com/google.rpc.ErrorInfo', 'reason': 'API_KEY_INVALID', 'domain': 'googleapis.com', 'metadata': {'service': 'generativelanguage.googleapis.com'}}, {'@type': 'type.googleapis.com/google.rpc.LocalizedMessage', 'locale': 'en-US', 'message': 'API key expired. Please renew the API key.'}]}}\n",
      "Retrying in 1 seconds...\n",
      "Attempt 2 failed with error: 400 INVALID_ARGUMENT. {'error': {'code': 400, 'message': 'API key expired. Please renew the API key.', 'status': 'INVALID_ARGUMENT', 'details': [{'@type': 'type.googleapis.com/google.rpc.ErrorInfo', 'reason': 'API_KEY_INVALID', 'domain': 'googleapis.com', 'metadata': {'service': 'generativelanguage.googleapis.com'}}, {'@type': 'type.googleapis.com/google.rpc.LocalizedMessage', 'locale': 'en-US', 'message': 'API key expired. Please renew the API key.'}]}}\n",
      "Retrying in 2 seconds...\n"
     ]
    },
    {
     "name": "stderr",
     "output_type": "stream",
     "text": [
      " 20%|█████████████████████████████████▌                                                                                                                                      | 2/10 [00:06<00:26,  3.34s/it]"
     ]
    },
    {
     "name": "stdout",
     "output_type": "stream",
     "text": [
      "Attempt 3 failed with error: 400 INVALID_ARGUMENT. {'error': {'code': 400, 'message': 'API key expired. Please renew the API key.', 'status': 'INVALID_ARGUMENT', 'details': [{'@type': 'type.googleapis.com/google.rpc.ErrorInfo', 'reason': 'API_KEY_INVALID', 'domain': 'googleapis.com', 'metadata': {'service': 'generativelanguage.googleapis.com'}}, {'@type': 'type.googleapis.com/google.rpc.LocalizedMessage', 'locale': 'en-US', 'message': 'API key expired. Please renew the API key.'}]}}\n",
      "Max retries reached. Returning failure label.\n",
      "P: One of the most common problems when trying to convert a movie to DVD format is the overscan. Most televisions are made in a way to please the general public. For that reason, everything you see on the TV had the borders cut, top, bottom and sides. This is made to ensure that the image covers the whole screen. That is called overscan. Unfortunately, when you make a DVD, it's borders will most likely be cut too, and if the video had subtitles too close to the bottom, they won't be fully shown.\n",
      "Q: Why do the images on television have their borders cut?\n",
      "A: To allow for subtitles\n",
      "B: So the image fills the entire screen\n",
      "C: To allow for simple conversion into other formats\n",
      "D: To cut subtitles too close to the bottom\n",
      "Please choose the correct answer from the options above:\n",
      "Attempt 1 failed with error: 400 INVALID_ARGUMENT. {'error': {'code': 400, 'message': 'API key expired. Please renew the API key.', 'status': 'INVALID_ARGUMENT', 'details': [{'@type': 'type.googleapis.com/google.rpc.ErrorInfo', 'reason': 'API_KEY_INVALID', 'domain': 'googleapis.com', 'metadata': {'service': 'generativelanguage.googleapis.com'}}, {'@type': 'type.googleapis.com/google.rpc.LocalizedMessage', 'locale': 'en-US', 'message': 'API key expired. Please renew the API key.'}]}}\n",
      "Retrying in 1 seconds...\n",
      "Attempt 2 failed with error: 400 INVALID_ARGUMENT. {'error': {'code': 400, 'message': 'API key expired. Please renew the API key.', 'status': 'INVALID_ARGUMENT', 'details': [{'@type': 'type.googleapis.com/google.rpc.ErrorInfo', 'reason': 'API_KEY_INVALID', 'domain': 'googleapis.com', 'metadata': {'service': 'generativelanguage.googleapis.com'}}, {'@type': 'type.googleapis.com/google.rpc.LocalizedMessage', 'locale': 'en-US', 'message': 'API key expired. Please renew the API key.'}]}}\n",
      "Retrying in 2 seconds...\n"
     ]
    },
    {
     "name": "stderr",
     "output_type": "stream",
     "text": [
      " 30%|██████████████████████████████████████████████████▍                                                                                                                     | 3/10 [00:10<00:23,  3.32s/it]"
     ]
    },
    {
     "name": "stdout",
     "output_type": "stream",
     "text": [
      "Attempt 3 failed with error: 400 INVALID_ARGUMENT. {'error': {'code': 400, 'message': 'API key expired. Please renew the API key.', 'status': 'INVALID_ARGUMENT', 'details': [{'@type': 'type.googleapis.com/google.rpc.ErrorInfo', 'reason': 'API_KEY_INVALID', 'domain': 'googleapis.com', 'metadata': {'service': 'generativelanguage.googleapis.com'}}, {'@type': 'type.googleapis.com/google.rpc.LocalizedMessage', 'locale': 'en-US', 'message': 'API key expired. Please renew the API key.'}]}}\n",
      "Max retries reached. Returning failure label.\n",
      "P: One of the most common problems when trying to convert a movie to DVD format is the overscan. Most televisions are made in a way to please the general public. For that reason, everything you see on the TV had the borders cut, top, bottom and sides. This is made to ensure that the image covers the whole screen. That is called overscan. Unfortunately, when you make a DVD, it's borders will most likely be cut too, and if the video had subtitles too close to the bottom, they won't be fully shown.\n",
      "Q: According to the passage, which of the following problems might one encounter when converting a movie to DVD format?\n",
      "A: An image that doesn’t fill the entire screen\n",
      "B: Partially cut subtitles\n",
      "C: An image that fills the entire screen\n",
      "D: Cut borders\n",
      "Please choose the correct answer from the options above:\n",
      "Attempt 1 failed with error: 400 INVALID_ARGUMENT. {'error': {'code': 400, 'message': 'API key expired. Please renew the API key.', 'status': 'INVALID_ARGUMENT', 'details': [{'@type': 'type.googleapis.com/google.rpc.ErrorInfo', 'reason': 'API_KEY_INVALID', 'domain': 'googleapis.com', 'metadata': {'service': 'generativelanguage.googleapis.com'}}, {'@type': 'type.googleapis.com/google.rpc.LocalizedMessage', 'locale': 'en-US', 'message': 'API key expired. Please renew the API key.'}]}}\n",
      "Retrying in 1 seconds...\n"
     ]
    },
    {
     "name": "stderr",
     "output_type": "stream",
     "text": [
      " 30%|██████████████████████████████████████████████████▍                                                                                                                     | 3/10 [00:10<00:24,  3.48s/it]\n"
     ]
    },
    {
     "ename": "KeyboardInterrupt",
     "evalue": "",
     "output_type": "error",
     "traceback": [
      "\u001b[0;31m---------------------------------------------------------------------------\u001b[0m",
      "\u001b[0;31mClientError\u001b[0m                               Traceback (most recent call last)",
      "\u001b[0;32m/var/folders/lz/p9j_klxd0y78m__b_wqz0lvr0000gn/T/ipykernel_14745/677630315.py\u001b[0m in \u001b[0;36mget_category\u001b[0;34m(prompt, max_retries, backoff_factor)\u001b[0m\n\u001b[1;32m     27\u001b[0m         \u001b[0;32mtry\u001b[0m\u001b[0;34m:\u001b[0m\u001b[0;34m\u001b[0m\u001b[0;34m\u001b[0m\u001b[0m\n\u001b[0;32m---> 28\u001b[0;31m             response = client.models.generate_content(\n\u001b[0m\u001b[1;32m     29\u001b[0m                 \u001b[0mmodel\u001b[0m\u001b[0;34m=\u001b[0m\u001b[0;34m\"gemini-2.0-flash\"\u001b[0m\u001b[0;34m,\u001b[0m\u001b[0;34m\u001b[0m\u001b[0;34m\u001b[0m\u001b[0m\n",
      "\u001b[0;32m/opt/homebrew/lib/python3.9/site-packages/google/genai/models.py\u001b[0m in \u001b[0;36mgenerate_content\u001b[0;34m(self, model, contents, config)\u001b[0m\n\u001b[1;32m   5369\u001b[0m       \u001b[0mi\u001b[0m \u001b[0;34m+=\u001b[0m \u001b[0;36m1\u001b[0m\u001b[0;34m\u001b[0m\u001b[0;34m\u001b[0m\u001b[0m\n\u001b[0;32m-> 5370\u001b[0;31m       response = self._generate_content(\n\u001b[0m\u001b[1;32m   5371\u001b[0m           \u001b[0mmodel\u001b[0m\u001b[0;34m=\u001b[0m\u001b[0mmodel\u001b[0m\u001b[0;34m,\u001b[0m \u001b[0mcontents\u001b[0m\u001b[0;34m=\u001b[0m\u001b[0mcontents\u001b[0m\u001b[0;34m,\u001b[0m \u001b[0mconfig\u001b[0m\u001b[0;34m=\u001b[0m\u001b[0mconfig\u001b[0m\u001b[0;34m\u001b[0m\u001b[0;34m\u001b[0m\u001b[0m\n",
      "\u001b[0;32m/opt/homebrew/lib/python3.9/site-packages/google/genai/models.py\u001b[0m in \u001b[0;36m_generate_content\u001b[0;34m(self, model, contents, config)\u001b[0m\n\u001b[1;32m   4337\u001b[0m \u001b[0;34m\u001b[0m\u001b[0m\n\u001b[0;32m-> 4338\u001b[0;31m     response_dict = self._api_client.request(\n\u001b[0m\u001b[1;32m   4339\u001b[0m         \u001b[0;34m'post'\u001b[0m\u001b[0;34m,\u001b[0m \u001b[0mpath\u001b[0m\u001b[0;34m,\u001b[0m \u001b[0mrequest_dict\u001b[0m\u001b[0;34m,\u001b[0m \u001b[0mhttp_options\u001b[0m\u001b[0;34m\u001b[0m\u001b[0;34m\u001b[0m\u001b[0m\n",
      "\u001b[0;32m/opt/homebrew/lib/python3.9/site-packages/google/genai/_api_client.py\u001b[0m in \u001b[0;36mrequest\u001b[0;34m(self, http_method, path, request_dict, http_options)\u001b[0m\n\u001b[1;32m    639\u001b[0m     )\n\u001b[0;32m--> 640\u001b[0;31m     \u001b[0mresponse\u001b[0m \u001b[0;34m=\u001b[0m \u001b[0mself\u001b[0m\u001b[0;34m.\u001b[0m\u001b[0m_request\u001b[0m\u001b[0;34m(\u001b[0m\u001b[0mhttp_request\u001b[0m\u001b[0;34m,\u001b[0m \u001b[0mstream\u001b[0m\u001b[0;34m=\u001b[0m\u001b[0;32mFalse\u001b[0m\u001b[0;34m)\u001b[0m\u001b[0;34m\u001b[0m\u001b[0;34m\u001b[0m\u001b[0m\n\u001b[0m\u001b[1;32m    641\u001b[0m     \u001b[0mjson_response\u001b[0m \u001b[0;34m=\u001b[0m \u001b[0mresponse\u001b[0m\u001b[0;34m.\u001b[0m\u001b[0mjson\u001b[0m\u001b[0;34m\u001b[0m\u001b[0;34m\u001b[0m\u001b[0m\n",
      "\u001b[0;32m/opt/homebrew/lib/python3.9/site-packages/google/genai/_api_client.py\u001b[0m in \u001b[0;36m_request\u001b[0;34m(self, http_request, stream)\u001b[0m\n\u001b[1;32m    568\u001b[0m       )\n\u001b[0;32m--> 569\u001b[0;31m       \u001b[0merrors\u001b[0m\u001b[0;34m.\u001b[0m\u001b[0mAPIError\u001b[0m\u001b[0;34m.\u001b[0m\u001b[0mraise_for_response\u001b[0m\u001b[0;34m(\u001b[0m\u001b[0mresponse\u001b[0m\u001b[0;34m)\u001b[0m\u001b[0;34m\u001b[0m\u001b[0;34m\u001b[0m\u001b[0m\n\u001b[0m\u001b[1;32m    570\u001b[0m       return HttpResponse(\n",
      "\u001b[0;32m/opt/homebrew/lib/python3.9/site-packages/google/genai/errors.py\u001b[0m in \u001b[0;36mraise_for_response\u001b[0;34m(cls, response)\u001b[0m\n\u001b[1;32m    105\u001b[0m     \u001b[0;32mif\u001b[0m \u001b[0;36m400\u001b[0m \u001b[0;34m<=\u001b[0m \u001b[0mstatus_code\u001b[0m \u001b[0;34m<\u001b[0m \u001b[0;36m500\u001b[0m\u001b[0;34m:\u001b[0m\u001b[0;34m\u001b[0m\u001b[0;34m\u001b[0m\u001b[0m\n\u001b[0;32m--> 106\u001b[0;31m       \u001b[0;32mraise\u001b[0m \u001b[0mClientError\u001b[0m\u001b[0;34m(\u001b[0m\u001b[0mstatus_code\u001b[0m\u001b[0;34m,\u001b[0m \u001b[0mresponse\u001b[0m\u001b[0;34m)\u001b[0m\u001b[0;34m\u001b[0m\u001b[0;34m\u001b[0m\u001b[0m\n\u001b[0m\u001b[1;32m    107\u001b[0m     \u001b[0;32melif\u001b[0m \u001b[0;36m500\u001b[0m \u001b[0;34m<=\u001b[0m \u001b[0mstatus_code\u001b[0m \u001b[0;34m<\u001b[0m \u001b[0;36m600\u001b[0m\u001b[0;34m:\u001b[0m\u001b[0;34m\u001b[0m\u001b[0;34m\u001b[0m\u001b[0m\n",
      "\u001b[0;31mClientError\u001b[0m: 400 INVALID_ARGUMENT. {'error': {'code': 400, 'message': 'API key expired. Please renew the API key.', 'status': 'INVALID_ARGUMENT', 'details': [{'@type': 'type.googleapis.com/google.rpc.ErrorInfo', 'reason': 'API_KEY_INVALID', 'domain': 'googleapis.com', 'metadata': {'service': 'generativelanguage.googleapis.com'}}, {'@type': 'type.googleapis.com/google.rpc.LocalizedMessage', 'locale': 'en-US', 'message': 'API key expired. Please renew the API key.'}]}}",
      "\nDuring handling of the above exception, another exception occurred:\n",
      "\u001b[0;31mKeyboardInterrupt\u001b[0m                         Traceback (most recent call last)",
      "\u001b[0;32m/var/folders/lz/p9j_klxd0y78m__b_wqz0lvr0000gn/T/ipykernel_14745/1479529084.py\u001b[0m in \u001b[0;36m<module>\u001b[0;34m\u001b[0m\n\u001b[1;32m     27\u001b[0m         \u001b[0mprompt\u001b[0m \u001b[0;34m=\u001b[0m \u001b[0mprompt_belebele\u001b[0m\u001b[0;34m.\u001b[0m\u001b[0mformat\u001b[0m\u001b[0;34m(\u001b[0m\u001b[0mflores_passage\u001b[0m\u001b[0;34m,\u001b[0m \u001b[0mquestion\u001b[0m\u001b[0;34m,\u001b[0m \u001b[0mmc_answer1\u001b[0m\u001b[0;34m,\u001b[0m \u001b[0mmc_answer2\u001b[0m\u001b[0;34m,\u001b[0m \u001b[0mmc_answer3\u001b[0m\u001b[0;34m,\u001b[0m \u001b[0mmc_answer4\u001b[0m\u001b[0;34m)\u001b[0m\u001b[0;34m\u001b[0m\u001b[0;34m\u001b[0m\u001b[0m\n\u001b[1;32m     28\u001b[0m         \u001b[0mprint\u001b[0m\u001b[0;34m(\u001b[0m\u001b[0mprompt\u001b[0m\u001b[0;34m)\u001b[0m\u001b[0;34m\u001b[0m\u001b[0;34m\u001b[0m\u001b[0m\n\u001b[0;32m---> 29\u001b[0;31m         \u001b[0mreply\u001b[0m\u001b[0;34m,\u001b[0m \u001b[0mcategory\u001b[0m \u001b[0;34m=\u001b[0m \u001b[0mget_category\u001b[0m\u001b[0;34m(\u001b[0m\u001b[0mprompt\u001b[0m\u001b[0;34m)\u001b[0m\u001b[0;34m\u001b[0m\u001b[0;34m\u001b[0m\u001b[0m\n\u001b[0m\u001b[1;32m     30\u001b[0m         \u001b[0mgpt_replies\u001b[0m\u001b[0;34m[\u001b[0m\u001b[0mlanguage_code\u001b[0m\u001b[0;34m]\u001b[0m\u001b[0;34m.\u001b[0m\u001b[0mappend\u001b[0m\u001b[0;34m(\u001b[0m\u001b[0mreply\u001b[0m\u001b[0;34m)\u001b[0m\u001b[0;34m\u001b[0m\u001b[0;34m\u001b[0m\u001b[0m\n\u001b[1;32m     31\u001b[0m \u001b[0;34m\u001b[0m\u001b[0m\n",
      "\u001b[0;32m/var/folders/lz/p9j_klxd0y78m__b_wqz0lvr0000gn/T/ipykernel_14745/677630315.py\u001b[0m in \u001b[0;36mget_category\u001b[0;34m(prompt, max_retries, backoff_factor)\u001b[0m\n\u001b[1;32m     63\u001b[0m                 \u001b[0msleep_time\u001b[0m \u001b[0;34m=\u001b[0m \u001b[0mbackoff_factor\u001b[0m \u001b[0;34m**\u001b[0m \u001b[0mattempt\u001b[0m\u001b[0;34m\u001b[0m\u001b[0;34m\u001b[0m\u001b[0m\n\u001b[1;32m     64\u001b[0m                 \u001b[0mprint\u001b[0m\u001b[0;34m(\u001b[0m\u001b[0;34mf\"Retrying in {sleep_time} seconds...\"\u001b[0m\u001b[0;34m)\u001b[0m\u001b[0;34m\u001b[0m\u001b[0;34m\u001b[0m\u001b[0m\n\u001b[0;32m---> 65\u001b[0;31m                 \u001b[0mtime\u001b[0m\u001b[0;34m.\u001b[0m\u001b[0msleep\u001b[0m\u001b[0;34m(\u001b[0m\u001b[0msleep_time\u001b[0m\u001b[0;34m)\u001b[0m\u001b[0;34m\u001b[0m\u001b[0;34m\u001b[0m\u001b[0m\n\u001b[0m\u001b[1;32m     66\u001b[0m             \u001b[0;32melse\u001b[0m\u001b[0;34m:\u001b[0m\u001b[0;34m\u001b[0m\u001b[0;34m\u001b[0m\u001b[0m\n\u001b[1;32m     67\u001b[0m                 \u001b[0mprint\u001b[0m\u001b[0;34m(\u001b[0m\u001b[0;34m\"Max retries reached. Returning failure label.\"\u001b[0m\u001b[0;34m)\u001b[0m\u001b[0;34m\u001b[0m\u001b[0;34m\u001b[0m\u001b[0m\n",
      "\u001b[0;31mKeyboardInterrupt\u001b[0m: "
     ]
    }
   ],
   "source": [
    "from tqdm import tqdm\n",
    "result_categories = {}\n",
    "result_accuracies = {}\n",
    "gpt_replies = {}\n",
    "\n",
    "for language_code in languages_to_run:\n",
    "    completed = []\n",
    "    if language_code in completed:\n",
    "        continue\n",
    "    print(language_code)\n",
    "    accurate = 0\n",
    "    \n",
    "    result_categories[language_code]=[]\n",
    "    gpt_replies[language_code] = []\n",
    "    dataset = load_dataset(\"facebook/belebele\", language_code)\n",
    "\n",
    "    size = len(dataset['test'])\n",
    "    size = 10\n",
    "    for i in tqdm(range(size)): #length of devtest\n",
    "        flores_passage = dataset['test'][i]['flores_passage']\n",
    "        question = dataset['test'][i]['question']\n",
    "        mc_answer1 = dataset['test'][i]['mc_answer1']\n",
    "        mc_answer2 = dataset['test'][i]['mc_answer2']\n",
    "        mc_answer3 = dataset['test'][i]['mc_answer3']\n",
    "        mc_answer4 = dataset['test'][i]['mc_answer4']\n",
    "        \n",
    "        prompt = prompt_belebele.format(flores_passage, question, mc_answer1, mc_answer2, mc_answer3, mc_answer4)\n",
    "        # print(prompt)\n",
    "        reply, category = get_category(prompt)\n",
    "        gpt_replies[language_code].append(reply)\n",
    "            \n",
    "        result_categories[language_code].append(category)\n",
    "        if category == dataset['test'][i]['correct_answer_num']:\n",
    "            accurate+=1\n",
    "    result_accuracies[language_code] = accurate\n",
    "\n",
    "    df = pd.DataFrame({\n",
    "    \"question\": dataset['test']['question'],\n",
    "    \"gemma3_answer\": result_categories[language_code]\n",
    "    })\n",
    "\n",
    "    # Save to CSV\n",
    "    df.to_csv(\"belebele_predicted_gemma3/{}.csv\".format(language_code), index=False)\n",
    "\n",
    "    df2 = pd.DataFrame({\n",
    "    \"question\": dataset['test']['question'],\n",
    "    \"gemma3_reply\": gpt_replies[language_code]\n",
    "    })\n",
    "\n",
    "    # Save to CSV\n",
    "    df2.to_csv(\"belebele_replies_gemma3/{}.csv\".format(language_code), index=False)\n"
   ]
  },
  {
   "cell_type": "code",
   "execution_count": 24,
   "id": "ae996449-d8d6-45d8-97a5-5503715c37a5",
   "metadata": {},
   "outputs": [
    {
     "data": {
      "text/plain": [
       "122"
      ]
     },
     "execution_count": 24,
     "metadata": {},
     "output_type": "execute_result"
    }
   ],
   "source": [
    "len(languages)"
   ]
  },
  {
   "cell_type": "code",
   "execution_count": 29,
   "id": "ac0e8960-4db3-478e-8a0b-7b9535eeeb19",
   "metadata": {},
   "outputs": [
    {
     "data": {
      "text/plain": [
       "'shn_Mymr'"
      ]
     },
     "execution_count": 29,
     "metadata": {},
     "output_type": "execute_result"
    }
   ],
   "source": [
    "languages[85]"
   ]
  },
  {
   "cell_type": "code",
   "execution_count": null,
   "id": "5341446c-1a78-4f1f-b08c-84a2c2a5adfc",
   "metadata": {},
   "outputs": [],
   "source": []
  }
 ],
 "metadata": {
  "kernelspec": {
   "display_name": "Python 3 (ipykernel)",
   "language": "python",
   "name": "python3"
  },
  "language_info": {
   "codemirror_mode": {
    "name": "ipython",
    "version": 3
   },
   "file_extension": ".py",
   "mimetype": "text/x-python",
   "name": "python",
   "nbconvert_exporter": "python",
   "pygments_lexer": "ipython3",
   "version": "3.9.20"
  }
 },
 "nbformat": 4,
 "nbformat_minor": 5
}
