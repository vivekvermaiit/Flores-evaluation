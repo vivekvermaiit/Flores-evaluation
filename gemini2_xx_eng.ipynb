{
 "cells": [
  {
   "cell_type": "code",
   "execution_count": 7,
   "id": "69bdcea1-b667-46ee-ab24-cc6852cde0f4",
   "metadata": {},
   "outputs": [],
   "source": [
    "import os\n",
    "import openai\n",
    "import json\n",
    "import pandas as pd\n",
    "from datasets import load_dataset\n",
    "\n",
    "from google import genai\n",
    "\n",
    "client = genai.Client(api_key=\"\")\n",
    "\n",
    "\n",
    "\n",
    "# Load the FLORES dataset from Hugging Face\n",
    "dataset = load_dataset(\"facebook/flores\", \"all\")  # Loads all languages\n",
    "\n",
    "language_mapping = pd.read_csv('language_mapping.csv')\n",
    "language_mapping_index = language_mapping.set_index('FLORES-200 code')['Language'].to_dict()\n",
    "all_languages = list(language_mapping_index.keys())\n",
    "all_languages.remove('eng_Latn')\n",
    "\n",
    "prompt_xx_eng = \"You are a translation expert. Translate the following {} sentences to English \\n{} sentence: {}\\nEnglish sentence: . Return only the translated sentence.\"\n",
    "\n",
    "import time\n",
    "\n",
    "def get_translation(prompt, max_retries=3, backoff_factor=2):\n",
    "    for attempt in range(max_retries):\n",
    "        try:\n",
    "            response = client.models.generate_content(\n",
    "                model=\"gemini-2.0-flash\",\n",
    "                contents=prompt,\n",
    "            )\n",
    "            reply =response.text\n",
    "            # print(reply)\n",
    "            reply = ' '.join(reply.split()) #convert it to one line\n",
    "            return reply\n",
    "        except Exception as e:\n",
    "            print(f\"Attempt {attempt + 1} failed with error: {e}\")\n",
    "            if attempt < max_retries - 1:\n",
    "                sleep_time = backoff_factor ** attempt\n",
    "                print(f\"Retrying in {sleep_time} seconds...\")\n",
    "                time.sleep(sleep_time)\n",
    "            else:\n",
    "                print(\"Max retries reached. Returning failure label.\")\n",
    "                return \"\"   \n",
    "\n",
    "\n",
    "\n"
   ]
  },
  {
   "cell_type": "code",
   "execution_count": 11,
   "id": "27957da1-4dd7-43b5-b8b0-a981097bf23d",
   "metadata": {},
   "outputs": [],
   "source": [
    "languages_to_run = all_languages[0:30]\n",
    "\n",
    "completed = []"
   ]
  },
  {
   "cell_type": "code",
   "execution_count": 12,
   "id": "398bae24-7b6e-4727-8662-1cdf46f4299d",
   "metadata": {},
   "outputs": [
    {
     "name": "stdout",
     "output_type": "stream",
     "text": [
      "ary_Arab\n"
     ]
    },
    {
     "name": "stderr",
     "output_type": "stream",
     "text": [
      "100%|███████████████████████████████████████████████████████████████████████████████████████████████████████████████████████████████████████████████████████████████████| 1012/1012 [08:26<00:00,  2.00it/s]\n"
     ]
    },
    {
     "name": "stdout",
     "output_type": "stream",
     "text": [
      "arz_Arab\n"
     ]
    },
    {
     "name": "stderr",
     "output_type": "stream",
     "text": [
      "100%|███████████████████████████████████████████████████████████████████████████████████████████████████████████████████████████████████████████████████████████████████| 1012/1012 [08:46<00:00,  1.92it/s]\n"
     ]
    },
    {
     "name": "stdout",
     "output_type": "stream",
     "text": [
      "asm_Beng\n"
     ]
    },
    {
     "name": "stderr",
     "output_type": "stream",
     "text": [
      " 93%|████████████████████████████████████████████████████████████████████████████████████████████████████████████████████████████████████████████████████████▏           | 939/1012 [08:19<00:34,  2.12it/s]"
     ]
    },
    {
     "name": "stdout",
     "output_type": "stream",
     "text": [
      "Attempt 1 failed with error: 'NoneType' object has no attribute 'split'\n",
      "Retrying in 1 seconds...\n",
      "Attempt 2 failed with error: 'NoneType' object has no attribute 'split'\n",
      "Retrying in 2 seconds...\n"
     ]
    },
    {
     "name": "stderr",
     "output_type": "stream",
     "text": [
      " 93%|████████████████████████████████████████████████████████████████████████████████████████████████████████████████████████████████████████████████████████▎           | 940/1012 [08:24<02:08,  1.78s/it]"
     ]
    },
    {
     "name": "stdout",
     "output_type": "stream",
     "text": [
      "Attempt 3 failed with error: 'NoneType' object has no attribute 'split'\n",
      "Max retries reached. Returning failure label.\n"
     ]
    },
    {
     "name": "stderr",
     "output_type": "stream",
     "text": [
      "100%|███████████████████████████████████████████████████████████████████████████████████████████████████████████████████████████████████████████████████████████████████| 1012/1012 [09:00<00:00,  1.87it/s]\n"
     ]
    },
    {
     "name": "stdout",
     "output_type": "stream",
     "text": [
      "ast_Latn\n"
     ]
    },
    {
     "name": "stderr",
     "output_type": "stream",
     "text": [
      "100%|███████████████████████████████████████████████████████████████████████████████████████████████████████████████████████████████████████████████████████████████████| 1012/1012 [08:06<00:00,  2.08it/s]\n"
     ]
    },
    {
     "name": "stdout",
     "output_type": "stream",
     "text": [
      "awa_Deva\n"
     ]
    },
    {
     "name": "stderr",
     "output_type": "stream",
     "text": [
      " 40%|████████████████████████████████████████████████████████████████▊                                                                                                   | 400/1012 [03:17<05:10,  1.97it/s]"
     ]
    },
    {
     "name": "stdout",
     "output_type": "stream",
     "text": [
      "Attempt 1 failed with error: 'NoneType' object has no attribute 'split'\n",
      "Retrying in 1 seconds...\n",
      "Attempt 2 failed with error: 'NoneType' object has no attribute 'split'\n",
      "Retrying in 2 seconds...\n"
     ]
    },
    {
     "name": "stderr",
     "output_type": "stream",
     "text": [
      " 40%|████████████████████████████████████████████████████████████████▉                                                                                                   | 401/1012 [03:22<17:05,  1.68s/it]"
     ]
    },
    {
     "name": "stdout",
     "output_type": "stream",
     "text": [
      "Attempt 3 failed with error: 'NoneType' object has no attribute 'split'\n",
      "Max retries reached. Returning failure label.\n"
     ]
    },
    {
     "name": "stderr",
     "output_type": "stream",
     "text": [
      "100%|███████████████████████████████████████████████████████████████████████████████████████████████████████████████████████████████████████████████████████████████████| 1012/1012 [08:24<00:00,  2.01it/s]\n"
     ]
    },
    {
     "name": "stdout",
     "output_type": "stream",
     "text": [
      "ayr_Latn\n"
     ]
    },
    {
     "name": "stderr",
     "output_type": "stream",
     "text": [
      "100%|███████████████████████████████████████████████████████████████████████████████████████████████████████████████████████████████████████████████████████████████████| 1012/1012 [08:58<00:00,  1.88it/s]\n"
     ]
    },
    {
     "name": "stdout",
     "output_type": "stream",
     "text": [
      "azb_Arab\n"
     ]
    },
    {
     "name": "stderr",
     "output_type": "stream",
     "text": [
      " 94%|██████████████████████████████████████████████████████████████████████████████████████████████████████████████████████████████████████████████████████████▎         | 952/1012 [08:19<00:40,  1.47it/s]"
     ]
    },
    {
     "name": "stdout",
     "output_type": "stream",
     "text": [
      "Attempt 1 failed with error: 503 UNAVAILABLE. {'error': {'code': 503, 'message': 'The service is currently unavailable.', 'status': 'UNAVAILABLE'}}\n",
      "Retrying in 1 seconds...\n"
     ]
    },
    {
     "name": "stderr",
     "output_type": "stream",
     "text": [
      "100%|███████████████████████████████████████████████████████████████████████████████████████████████████████████████████████████████████████████████████████████████████| 1012/1012 [08:54<00:00,  1.89it/s]\n"
     ]
    },
    {
     "name": "stdout",
     "output_type": "stream",
     "text": [
      "azj_Latn\n"
     ]
    },
    {
     "name": "stderr",
     "output_type": "stream",
     "text": [
      " 12%|████████████████████▎                                                                                                                                               | 125/1012 [01:12<07:25,  1.99it/s]"
     ]
    },
    {
     "name": "stdout",
     "output_type": "stream",
     "text": [
      "Attempt 1 failed with error: 503 UNAVAILABLE. {'error': {'code': 503, 'message': 'The service is currently unavailable.', 'status': 'UNAVAILABLE'}}\n",
      "Retrying in 1 seconds...\n"
     ]
    },
    {
     "name": "stderr",
     "output_type": "stream",
     "text": [
      " 13%|█████████████████████▏                                                                                                                                              | 131/1012 [01:15<07:32,  1.94it/s]"
     ]
    },
    {
     "name": "stdout",
     "output_type": "stream",
     "text": [
      "Attempt 1 failed with error: 503 UNAVAILABLE. {'error': {'code': 503, 'message': 'The service is currently unavailable.', 'status': 'UNAVAILABLE'}}\n",
      "Retrying in 1 seconds...\n"
     ]
    },
    {
     "name": "stderr",
     "output_type": "stream",
     "text": [
      " 13%|█████████████████████▉                                                                                                                                              | 135/1012 [01:19<09:55,  1.47it/s]"
     ]
    },
    {
     "name": "stdout",
     "output_type": "stream",
     "text": [
      "Attempt 1 failed with error: 503 UNAVAILABLE. {'error': {'code': 503, 'message': 'The service is currently unavailable.', 'status': 'UNAVAILABLE'}}\n",
      "Retrying in 1 seconds...\n"
     ]
    },
    {
     "name": "stderr",
     "output_type": "stream",
     "text": [
      " 14%|██████████████████████▋                                                                                                                                             | 140/1012 [01:22<08:28,  1.72it/s]"
     ]
    },
    {
     "name": "stdout",
     "output_type": "stream",
     "text": [
      "Attempt 1 failed with error: 503 UNAVAILABLE. {'error': {'code': 503, 'message': 'The service is currently unavailable.', 'status': 'UNAVAILABLE'}}\n",
      "Retrying in 1 seconds...\n",
      "Attempt 2 failed with error: 503 UNAVAILABLE. {'error': {'code': 503, 'message': 'The service is currently unavailable.', 'status': 'UNAVAILABLE'}}\n",
      "Retrying in 2 seconds...\n"
     ]
    },
    {
     "name": "stderr",
     "output_type": "stream",
     "text": [
      " 15%|█████████████████████████▎                                                                                                                                          | 156/1012 [01:34<07:26,  1.92it/s]"
     ]
    },
    {
     "name": "stdout",
     "output_type": "stream",
     "text": [
      "Attempt 1 failed with error: 503 UNAVAILABLE. {'error': {'code': 503, 'message': 'The service is currently unavailable.', 'status': 'UNAVAILABLE'}}\n",
      "Retrying in 1 seconds...\n"
     ]
    },
    {
     "name": "stderr",
     "output_type": "stream",
     "text": [
      " 17%|███████████████████████████                                                                                                                                         | 167/1012 [01:41<07:45,  1.82it/s]"
     ]
    },
    {
     "name": "stdout",
     "output_type": "stream",
     "text": [
      "Attempt 1 failed with error: 503 UNAVAILABLE. {'error': {'code': 503, 'message': 'The service is currently unavailable.', 'status': 'UNAVAILABLE'}}\n",
      "Retrying in 1 seconds...\n"
     ]
    },
    {
     "name": "stderr",
     "output_type": "stream",
     "text": [
      " 17%|████████████████████████████                                                                                                                                        | 173/1012 [01:45<07:16,  1.92it/s]"
     ]
    },
    {
     "name": "stdout",
     "output_type": "stream",
     "text": [
      "Attempt 1 failed with error: 503 UNAVAILABLE. {'error': {'code': 503, 'message': 'The service is currently unavailable.', 'status': 'UNAVAILABLE'}}\n",
      "Retrying in 1 seconds...\n"
     ]
    },
    {
     "name": "stderr",
     "output_type": "stream",
     "text": [
      " 19%|███████████████████████████████▍                                                                                                                                    | 194/1012 [01:58<07:44,  1.76it/s]"
     ]
    },
    {
     "name": "stdout",
     "output_type": "stream",
     "text": [
      "Attempt 1 failed with error: 503 UNAVAILABLE. {'error': {'code': 503, 'message': 'The service is currently unavailable.', 'status': 'UNAVAILABLE'}}\n",
      "Retrying in 1 seconds...\n"
     ]
    },
    {
     "name": "stderr",
     "output_type": "stream",
     "text": [
      " 20%|█████████████████████████████████▏                                                                                                                                  | 205/1012 [02:05<08:51,  1.52it/s]"
     ]
    },
    {
     "name": "stdout",
     "output_type": "stream",
     "text": [
      "Attempt 1 failed with error: 503 UNAVAILABLE. {'error': {'code': 503, 'message': 'The service is currently unavailable.', 'status': 'UNAVAILABLE'}}\n",
      "Retrying in 1 seconds...\n"
     ]
    },
    {
     "name": "stderr",
     "output_type": "stream",
     "text": [
      "100%|███████████████████████████████████████████████████████████████████████████████████████████████████████████████████████████████████████████████████████████████████| 1012/1012 [09:09<00:00,  1.84it/s]\n"
     ]
    },
    {
     "name": "stdout",
     "output_type": "stream",
     "text": [
      "bak_Cyrl\n"
     ]
    },
    {
     "name": "stderr",
     "output_type": "stream",
     "text": [
      "100%|███████████████████████████████████████████████████████████████████████████████████████████████████████████████████████████████████████████████████████████████████| 1012/1012 [08:32<00:00,  1.97it/s]\n"
     ]
    },
    {
     "name": "stdout",
     "output_type": "stream",
     "text": [
      "bam_Latn\n"
     ]
    },
    {
     "name": "stderr",
     "output_type": "stream",
     "text": [
      "100%|███████████████████████████████████████████████████████████████████████████████████████████████████████████████████████████████████████████████████████████████████| 1012/1012 [09:23<00:00,  1.80it/s]\n"
     ]
    },
    {
     "name": "stdout",
     "output_type": "stream",
     "text": [
      "ban_Latn\n"
     ]
    },
    {
     "name": "stderr",
     "output_type": "stream",
     "text": [
      "  0%|▏                                                                                                                                                                     | 1/1012 [00:00<10:53,  1.55it/s]"
     ]
    },
    {
     "name": "stdout",
     "output_type": "stream",
     "text": [
      "Attempt 1 failed with error: 'NoneType' object has no attribute 'split'\n",
      "Retrying in 1 seconds...\n",
      "Attempt 2 failed with error: 'NoneType' object has no attribute 'split'\n",
      "Retrying in 2 seconds...\n"
     ]
    },
    {
     "name": "stderr",
     "output_type": "stream",
     "text": [
      "  0%|▎                                                                                                                                                                     | 2/1012 [00:05<51:06,  3.04s/it]"
     ]
    },
    {
     "name": "stdout",
     "output_type": "stream",
     "text": [
      "Attempt 3 failed with error: 'NoneType' object has no attribute 'split'\n",
      "Max retries reached. Returning failure label.\n"
     ]
    },
    {
     "name": "stderr",
     "output_type": "stream",
     "text": [
      "100%|███████████████████████████████████████████████████████████████████████████████████████████████████████████████████████████████████████████████████████████████████| 1012/1012 [08:49<00:00,  1.91it/s]\n"
     ]
    },
    {
     "name": "stdout",
     "output_type": "stream",
     "text": [
      "bel_Cyrl\n"
     ]
    },
    {
     "name": "stderr",
     "output_type": "stream",
     "text": [
      "100%|███████████████████████████████████████████████████████████████████████████████████████████████████████████████████████████████████████████████████████████████████| 1012/1012 [08:41<00:00,  1.94it/s]\n"
     ]
    },
    {
     "name": "stdout",
     "output_type": "stream",
     "text": [
      "bem_Latn\n"
     ]
    },
    {
     "name": "stderr",
     "output_type": "stream",
     "text": [
      "100%|███████████████████████████████████████████████████████████████████████████████████████████████████████████████████████████████████████████████████████████████████| 1012/1012 [09:12<00:00,  1.83it/s]\n"
     ]
    },
    {
     "name": "stdout",
     "output_type": "stream",
     "text": [
      "ben_Beng\n"
     ]
    },
    {
     "name": "stderr",
     "output_type": "stream",
     "text": [
      " 21%|██████████████████████████████████▋                                                                                                                                 | 214/1012 [01:50<07:04,  1.88it/s]"
     ]
    },
    {
     "name": "stdout",
     "output_type": "stream",
     "text": [
      "Attempt 1 failed with error: 'NoneType' object has no attribute 'split'\n",
      "Retrying in 1 seconds...\n"
     ]
    },
    {
     "name": "stderr",
     "output_type": "stream",
     "text": [
      "100%|███████████████████████████████████████████████████████████████████████████████████████████████████████████████████████████████████████████████████████████████████| 1012/1012 [08:42<00:00,  1.94it/s]\n"
     ]
    },
    {
     "name": "stdout",
     "output_type": "stream",
     "text": [
      "bho_Deva\n"
     ]
    },
    {
     "name": "stderr",
     "output_type": "stream",
     "text": [
      " 93%|████████████████████████████████████████████████████████████████████████████████████████████████████████████████████████████████████████████████████████▏           | 939/1012 [08:15<00:40,  1.79it/s]"
     ]
    },
    {
     "name": "stdout",
     "output_type": "stream",
     "text": [
      "Attempt 1 failed with error: 'NoneType' object has no attribute 'split'\n",
      "Retrying in 1 seconds...\n"
     ]
    },
    {
     "name": "stderr",
     "output_type": "stream",
     "text": [
      "100%|███████████████████████████████████████████████████████████████████████████████████████████████████████████████████████████████████████████████████████████████████| 1012/1012 [08:53<00:00,  1.90it/s]\n"
     ]
    },
    {
     "name": "stdout",
     "output_type": "stream",
     "text": [
      "bjn_Arab\n"
     ]
    },
    {
     "name": "stderr",
     "output_type": "stream",
     "text": [
      "100%|███████████████████████████████████████████████████████████████████████████████████████████████████████████████████████████████████████████████████████████████████| 1012/1012 [09:09<00:00,  1.84it/s]\n"
     ]
    },
    {
     "name": "stdout",
     "output_type": "stream",
     "text": [
      "bjn_Latn\n"
     ]
    },
    {
     "name": "stderr",
     "output_type": "stream",
     "text": [
      "100%|███████████████████████████████████████████████████████████████████████████████████████████████████████████████████████████████████████████████████████████████████| 1012/1012 [08:27<00:00,  1.99it/s]\n"
     ]
    }
   ],
   "source": [
    "from tqdm import tqdm\n",
    "translations = {}\n",
    "result_inaccuracies = {}\n",
    "\n",
    "for language_name in languages_to_run:\n",
    "    if language_name in completed:\n",
    "        continue\n",
    "    print(language_name)\n",
    "    errors = 0\n",
    "    translations[language_name]=[]\n",
    "    for i in tqdm(range(1012)): #length of devtest\n",
    "        sentence_xx = dataset['devtest'][i][\"sentence_{}\".format(language_name)]\n",
    "        prompt = prompt_xx_eng.format(language_mapping_index[language_name],language_mapping_index[language_name],sentence_xx)\n",
    "        english_translation = get_translation(prompt)\n",
    "        translations[language_name].append(english_translation)\n",
    "\n",
    "        if english_translation==\"\":\n",
    "            errors+=1\n",
    "    \n",
    "    result_inaccuracies[language_name]=errors\n",
    "    with open(\"translations_gemini_2_xx_eng2/{}.txt\".format(language_name), \"w\", encoding=\"utf-8\") as f:\n",
    "        f.writelines(line + \"\\n\" for line in translations[language_name])"
   ]
  },
  {
   "cell_type": "code",
   "execution_count": 14,
   "id": "6106104b-6454-4f9b-8350-6293d374ded0",
   "metadata": {},
   "outputs": [],
   "source": [
    "import os\n",
    "\n",
    "folder_path = 'translations_gemini_2_xx_eng2'  # replace this with your actual folder path\n",
    "\n",
    "files = [f[:-4] for f in os.listdir(folder_path) if f.endswith('.txt')]\n",
    "\n"
   ]
  },
  {
   "cell_type": "code",
   "execution_count": 13,
   "id": "eea8c46d-ed0b-4df0-a2b0-c1162f4a5b60",
   "metadata": {},
   "outputs": [
    {
     "data": {
      "text/plain": [
       "{'ace_Latn': 0,\n",
       " 'acm_Arab': 0,\n",
       " 'acq_Arab': 0,\n",
       " 'aeb_Arab': 1,\n",
       " 'afr_Latn': 3,\n",
       " 'ajp_Arab': 0,\n",
       " 'aka_Latn': 0,\n",
       " 'amh_Ethi': 1,\n",
       " 'apc_Arab': 0,\n",
       " 'arb_Arab': 1,\n",
       " 'arb_Latn': 0,\n",
       " 'ars_Arab': 0,\n",
       " 'ary_Arab': 0,\n",
       " 'arz_Arab': 0,\n",
       " 'asm_Beng': 1,\n",
       " 'ast_Latn': 0,\n",
       " 'awa_Deva': 1,\n",
       " 'ayr_Latn': 0,\n",
       " 'azb_Arab': 0,\n",
       " 'azj_Latn': 0,\n",
       " 'bak_Cyrl': 0,\n",
       " 'bam_Latn': 0,\n",
       " 'ban_Latn': 1,\n",
       " 'bel_Cyrl': 0,\n",
       " 'bem_Latn': 0,\n",
       " 'ben_Beng': 0,\n",
       " 'bho_Deva': 0,\n",
       " 'bjn_Arab': 0,\n",
       " 'bjn_Latn': 0}"
      ]
     },
     "execution_count": 13,
     "metadata": {},
     "output_type": "execute_result"
    }
   ],
   "source": [
    "result_inaccuracies"
   ]
  },
  {
   "cell_type": "code",
   "execution_count": null,
   "id": "a6084f9c-a6bb-40bc-8082-e02e5e7a8b58",
   "metadata": {},
   "outputs": [],
   "source": [
    "#get scores \n",
    "\n",
    "import os\n",
    "import subprocess\n",
    "import json\n",
    "\n",
    "# Define paths\n",
    "translations_dir = \"translations_gemini_2_xx_eng2\"\n",
    "reference_file = \"reference_xx_eng/eng_Latn.txt\"\n",
    "\n",
    "# Dictionary to store scores\n",
    "scores = {}\n",
    "\n",
    "# Loop over all .txt files in the translations directory\n",
    "for file in os.listdir(translations_dir):\n",
    "    if file.endswith(\".txt\"):  # Process only .txt files\n",
    "        language_name = file.replace(\".txt\", \"\")  # Extract language name\n",
    "        translation_file = os.path.join(translations_dir, file)  # Full path\n",
    "\n",
    "        # Run sacrebleu command\n",
    "        command = f\"sacrebleu -m chrf --chrf-word-order 2 {translation_file} < {reference_file}\"\n",
    "        result = subprocess.run(command, shell=True, capture_output=True, text=True)\n",
    "\n",
    "        # Extract the score from the output\n",
    "        try:\n",
    "            output_json = json.loads(result.stdout)  # Parse JSON output\n",
    "            scores[language_name] = output_json[\"score\"]  # Store score\n",
    "        except json.JSONDecodeError:\n",
    "            print(f\"Error processing {language_name}: Invalid JSON output\")\n",
    "        except KeyError:\n",
    "            print(f\"Error: 'score' field not found in {language_name} output\")\n",
    "\n",
    "# Print results\n",
    "print(scores)\n"
   ]
  },
  {
   "cell_type": "code",
   "execution_count": null,
   "id": "a8e39428-ae8b-424c-8d00-cdbeaa30755f",
   "metadata": {},
   "outputs": [],
   "source": [
    "#get scores2 for eng to xx\n",
    "\n",
    "import os\n",
    "import subprocess\n",
    "import json\n",
    "\n",
    "# Define paths\n",
    "translations_dir = \"translations_gemini_2_eng_xx2\"\n",
    "reference_dir = \"reference_eng_xx\"\n",
    "\n",
    "# Dictionary to store scores2\n",
    "scores2 = {}\n",
    "\n",
    "# Loop over all .txt files in the translations directory\n",
    "for file in os.listdir(translations_dir):\n",
    "    if file.endswith(\".txt\"):  # Process only .txt files\n",
    "        language_name = file.replace(\".txt\", \"\")  # Extract language name\n",
    "        translation_file = os.path.join(translations_dir, file)  # Full path\n",
    "        reference_file = os.path.join(reference_dir, file)  # Full path\n",
    "\n",
    "        # Run sacrebleu command\n",
    "        command = f\"sacrebleu -m chrf --chrf-word-order 2 {translation_file} < {reference_file}\"\n",
    "        result = subprocess.run(command, shell=True, capture_output=True, text=True)\n",
    "\n",
    "        # Extract the score from the output\n",
    "        try:\n",
    "            output_json = json.loads(result.stdout)  # Parse JSON output\n",
    "            scores2[language_name] = output_json[\"score\"]  # Store score\n",
    "        except json.JSONDecodeError:\n",
    "            print(f\"Error processing {language_name}: Invalid JSON output\")\n",
    "        except KeyError:\n",
    "            print(f\"Error: 'score' field not found in {language_name} output\")\n",
    "\n",
    "# Print results\n",
    "print(scores2)\n"
   ]
  },
  {
   "cell_type": "code",
   "execution_count": null,
   "id": "932844dd-187e-4754-8000-9e5486dcd522",
   "metadata": {},
   "outputs": [],
   "source": [
    "# Convert to DataFrame\n",
    "all_languages = list(language_mapping_index.keys())\n",
    "all_languages.remove('eng_Latn')\n",
    "\n",
    "all_languages2 = list(language_mapping_index.values())\n",
    "all_languages2.remove('English')\n",
    "\n",
    "df = pd.DataFrame({\n",
    "    \"Language\": all_languages2,\n",
    "    \"FLORES-200 code\": all_languages,\n",
    "    \"xx - English\": [scores[lang] for lang in all_languages],\n",
    "    \"English - xx\": [scores2[lang] for lang in all_languages]\n",
    "})\n",
    "\n",
    "# Save to CSV\n",
    "df.to_csv(\"flores_gemini2_results_april_2025.csv\", index=False)\n"
   ]
  }
 ],
 "metadata": {
  "kernelspec": {
   "display_name": "Python 3 (ipykernel)",
   "language": "python",
   "name": "python3"
  },
  "language_info": {
   "codemirror_mode": {
    "name": "ipython",
    "version": 3
   },
   "file_extension": ".py",
   "mimetype": "text/x-python",
   "name": "python",
   "nbconvert_exporter": "python",
   "pygments_lexer": "ipython3",
   "version": "3.9.20"
  }
 },
 "nbformat": 4,
 "nbformat_minor": 5
}
